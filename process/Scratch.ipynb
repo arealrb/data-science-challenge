{
 "cells": [
  {
   "cell_type": "code",
   "execution_count": 1,
   "metadata": {
    "ExecuteTime": {
     "end_time": "2019-10-24T21:12:46.551351Z",
     "start_time": "2019-10-24T21:12:45.718479Z"
    }
   },
   "outputs": [],
   "source": [
    "import pandas as pd\n",
    "import numpy as np\n",
    "import os\n",
    "import zipfile\n",
    "import re\n",
    "from io import BytesIO\n",
    "import matplotlib.pyplot as plt\n",
    "%matplotlib inline\n",
    "from scipy.stats import kurtosis, skew"
   ]
  },
  {
   "cell_type": "code",
   "execution_count": 32,
   "metadata": {
    "ExecuteTime": {
     "end_time": "2019-10-24T21:22:31.655011Z",
     "start_time": "2019-10-24T21:22:31.648988Z"
    }
   },
   "outputs": [
    {
     "data": {
      "text/plain": [
       "['clients.csv', 'editors.csv', 'tickets.csv', 'tasks.csv']"
      ]
     },
     "execution_count": 32,
     "metadata": {},
     "output_type": "execute_result"
    }
   ],
   "source": [
    "archive = zipfile.ZipFile('dataset.zip', 'r')\n",
    "[z for z in [re.findall('filename=\\'(.+?)\\'',y)[0] for y in [str(x) for x in archive.filelist]] if z.find('MAC')<0]"
   ]
  },
  {
   "cell_type": "code",
   "execution_count": 33,
   "metadata": {
    "ExecuteTime": {
     "end_time": "2019-10-24T21:25:04.621857Z",
     "start_time": "2019-10-24T21:25:04.446330Z"
    },
    "scrolled": true
   },
   "outputs": [],
   "source": [
    "clients = pd.read_csv(BytesIO(archive.read('clients.csv')))\n",
    "editors = pd.read_csv(BytesIO(archive.read('editors.csv')))\n",
    "tasks = pd.read_csv(BytesIO(archive.read('tasks.csv')))\n",
    "tickets = pd.read_csv(BytesIO(archive.read('tickets.csv')))"
   ]
  },
  {
   "cell_type": "code",
   "execution_count": 4,
   "metadata": {
    "ExecuteTime": {
     "end_time": "2019-10-22T04:41:50.849030Z",
     "start_time": "2019-10-22T04:41:47.958651Z"
    }
   },
   "outputs": [],
   "source": [
    "from plotnine import ggplot, geom_bar, facet_wrap, facet_grid"
   ]
  },
  {
   "cell_type": "code",
   "execution_count": 15,
   "metadata": {
    "ExecuteTime": {
     "end_time": "2019-10-19T17:35:07.185729Z",
     "start_time": "2019-10-19T17:35:04.400228Z"
    }
   },
   "outputs": [],
   "source": [
    "# import pandas_profiling\n",
    "\n",
    "# clients\n",
    "# editors\n",
    "# tasks\n",
    "# tickets\n",
    "# tasks.profile_report(style={'full_width':True})\n",
    "\n",
    "# view in notebook\n",
    "# df.profile_report(title='Pandas Profiling Report').to_file(output_file=\"output.html\")\n",
    "\n",
    "# export\n",
    "# data = [x for x in os.listdir() if x.find('csv')>0]\n",
    "# data2 = [x.replace('.csv','') for x in data]\n",
    "# for dfname in data2:\n",
    "#     exec(f'{dfname}.profile_report(title=\"{dfname}\").to_file(output_file=\"{dfname}.html\")')\n"
   ]
  },
  {
   "cell_type": "code",
   "execution_count": null,
   "metadata": {
    "ExecuteTime": {
     "end_time": "2019-10-24T21:20:44.060395Z",
     "start_time": "2019-10-24T21:20:44.049425Z"
    }
   },
   "outputs": [],
   "source": []
  },
  {
   "cell_type": "code",
   "execution_count": 5,
   "metadata": {
    "ExecuteTime": {
     "end_time": "2019-10-22T04:41:52.820311Z",
     "start_time": "2019-10-22T04:41:52.812323Z"
    }
   },
   "outputs": [
    {
     "data": {
      "text/plain": [
       "['clients.csv', 'editors.csv', 'tasks.csv', 'tickets.csv']"
      ]
     },
     "execution_count": 5,
     "metadata": {},
     "output_type": "execute_result"
    }
   ],
   "source": [
    "[x for x in os.listdir() if x.find('csv')>0]"
   ]
  },
  {
   "cell_type": "code",
   "execution_count": 6,
   "metadata": {
    "ExecuteTime": {
     "end_time": "2019-10-22T04:42:10.880214Z",
     "start_time": "2019-10-22T04:42:10.845306Z"
    }
   },
   "outputs": [
    {
     "data": {
      "text/html": [
       "<div>\n",
       "<style scoped>\n",
       "    .dataframe tbody tr th:only-of-type {\n",
       "        vertical-align: middle;\n",
       "    }\n",
       "\n",
       "    .dataframe tbody tr th {\n",
       "        vertical-align: top;\n",
       "    }\n",
       "\n",
       "    .dataframe thead th {\n",
       "        text-align: right;\n",
       "    }\n",
       "</style>\n",
       "<table border=\"1\" class=\"dataframe\">\n",
       "  <thead>\n",
       "    <tr style=\"text-align: right;\">\n",
       "      <th></th>\n",
       "      <th>Unnamed: 0</th>\n",
       "      <th>id</th>\n",
       "      <th>domain</th>\n",
       "      <th>category</th>\n",
       "    </tr>\n",
       "  </thead>\n",
       "  <tbody>\n",
       "    <tr>\n",
       "      <th>0</th>\n",
       "      <td>226</td>\n",
       "      <td>8171ce8697ccbc42991a2eca38cbdee8f96fd794701aa1...</td>\n",
       "      <td>ecommerce</td>\n",
       "      <td>Medium</td>\n",
       "    </tr>\n",
       "    <tr>\n",
       "      <th>1</th>\n",
       "      <td>292</td>\n",
       "      <td>203f6f43688c9abe2e66df55828826f1e04815fa1bf289...</td>\n",
       "      <td>ecommerce</td>\n",
       "      <td>Small</td>\n",
       "    </tr>\n",
       "    <tr>\n",
       "      <th>2</th>\n",
       "      <td>90</td>\n",
       "      <td>896eaafb9691dd3992336145e0b80bb71fdcded7fca603...</td>\n",
       "      <td>health_care</td>\n",
       "      <td>Enterprise</td>\n",
       "    </tr>\n",
       "    <tr>\n",
       "      <th>3</th>\n",
       "      <td>373</td>\n",
       "      <td>84506a2e169143888f4e1c7afe5bc52699ca5cf1b6cc2e...</td>\n",
       "      <td>fintech</td>\n",
       "      <td>Enterprise</td>\n",
       "    </tr>\n",
       "    <tr>\n",
       "      <th>4</th>\n",
       "      <td>273</td>\n",
       "      <td>19388f0b6133ef2085e26dfc50b046836f9aada571cbd8...</td>\n",
       "      <td>fintech</td>\n",
       "      <td>Enterprise</td>\n",
       "    </tr>\n",
       "  </tbody>\n",
       "</table>\n",
       "</div>"
      ],
      "text/plain": [
       "   Unnamed: 0                                                 id       domain  \\\n",
       "0         226  8171ce8697ccbc42991a2eca38cbdee8f96fd794701aa1...    ecommerce   \n",
       "1         292  203f6f43688c9abe2e66df55828826f1e04815fa1bf289...    ecommerce   \n",
       "2          90  896eaafb9691dd3992336145e0b80bb71fdcded7fca603...  health_care   \n",
       "3         373  84506a2e169143888f4e1c7afe5bc52699ca5cf1b6cc2e...      fintech   \n",
       "4         273  19388f0b6133ef2085e26dfc50b046836f9aada571cbd8...      fintech   \n",
       "\n",
       "     category  \n",
       "0      Medium  \n",
       "1       Small  \n",
       "2  Enterprise  \n",
       "3  Enterprise  \n",
       "4  Enterprise  "
      ]
     },
     "execution_count": 6,
     "metadata": {},
     "output_type": "execute_result"
    }
   ],
   "source": [
    "clients = pd.read_csv('clients.csv')\n",
    "clients.head()"
   ]
  },
  {
   "cell_type": "code",
   "execution_count": 3,
   "metadata": {
    "ExecuteTime": {
     "end_time": "2019-10-22T04:41:47.034318Z",
     "start_time": "2019-10-22T04:41:46.868713Z"
    }
   },
   "outputs": [],
   "source": [
    "import matplotlib.pyplot as plt\n",
    "%matplotlib inline"
   ]
  },
  {
   "cell_type": "code",
   "execution_count": 7,
   "metadata": {
    "ExecuteTime": {
     "end_time": "2019-10-22T04:42:10.902192Z",
     "start_time": "2019-10-22T04:42:10.883203Z"
    }
   },
   "outputs": [
    {
     "data": {
      "text/html": [
       "<div>\n",
       "<style scoped>\n",
       "    .dataframe tbody tr th:only-of-type {\n",
       "        vertical-align: middle;\n",
       "    }\n",
       "\n",
       "    .dataframe tbody tr th {\n",
       "        vertical-align: top;\n",
       "    }\n",
       "\n",
       "    .dataframe thead th {\n",
       "        text-align: right;\n",
       "    }\n",
       "</style>\n",
       "<table border=\"1\" class=\"dataframe\">\n",
       "  <thead>\n",
       "    <tr style=\"text-align: right;\">\n",
       "      <th></th>\n",
       "      <th>Unnamed: 0</th>\n",
       "      <th>id</th>\n",
       "      <th>travel</th>\n",
       "      <th>fintech</th>\n",
       "      <th>ecommerce</th>\n",
       "      <th>sports</th>\n",
       "      <th>gamming</th>\n",
       "      <th>health_care</th>\n",
       "    </tr>\n",
       "  </thead>\n",
       "  <tbody>\n",
       "    <tr>\n",
       "      <th>0</th>\n",
       "      <td>0</td>\n",
       "      <td>dd2a4a379c04b944834c66cc797815f0f6b01c10858e8b...</td>\n",
       "      <td>2</td>\n",
       "      <td>4</td>\n",
       "      <td>4</td>\n",
       "      <td>2</td>\n",
       "      <td>5</td>\n",
       "      <td>3</td>\n",
       "    </tr>\n",
       "    <tr>\n",
       "      <th>1</th>\n",
       "      <td>2</td>\n",
       "      <td>2f5da6e9921baa794759ee9f4b362555bcb3c1646eb51f...</td>\n",
       "      <td>3</td>\n",
       "      <td>3</td>\n",
       "      <td>4</td>\n",
       "      <td>5</td>\n",
       "      <td>3</td>\n",
       "      <td>5</td>\n",
       "    </tr>\n",
       "    <tr>\n",
       "      <th>2</th>\n",
       "      <td>5</td>\n",
       "      <td>534599df3b467cfe814e0a4a979cc9726b64d189247e92...</td>\n",
       "      <td>4</td>\n",
       "      <td>3</td>\n",
       "      <td>1</td>\n",
       "      <td>2</td>\n",
       "      <td>1</td>\n",
       "      <td>4</td>\n",
       "    </tr>\n",
       "    <tr>\n",
       "      <th>3</th>\n",
       "      <td>6</td>\n",
       "      <td>2f8308ae8b2b2f57f17d96c86457b4f219242999399697...</td>\n",
       "      <td>3</td>\n",
       "      <td>2</td>\n",
       "      <td>5</td>\n",
       "      <td>5</td>\n",
       "      <td>3</td>\n",
       "      <td>1</td>\n",
       "    </tr>\n",
       "    <tr>\n",
       "      <th>4</th>\n",
       "      <td>18</td>\n",
       "      <td>9865f5293dce01180593e9329dff57a1ac9a41d33afef7...</td>\n",
       "      <td>3</td>\n",
       "      <td>2</td>\n",
       "      <td>4</td>\n",
       "      <td>4</td>\n",
       "      <td>4</td>\n",
       "      <td>5</td>\n",
       "    </tr>\n",
       "  </tbody>\n",
       "</table>\n",
       "</div>"
      ],
      "text/plain": [
       "   Unnamed: 0                                                 id  travel  \\\n",
       "0           0  dd2a4a379c04b944834c66cc797815f0f6b01c10858e8b...       2   \n",
       "1           2  2f5da6e9921baa794759ee9f4b362555bcb3c1646eb51f...       3   \n",
       "2           5  534599df3b467cfe814e0a4a979cc9726b64d189247e92...       4   \n",
       "3           6  2f8308ae8b2b2f57f17d96c86457b4f219242999399697...       3   \n",
       "4          18  9865f5293dce01180593e9329dff57a1ac9a41d33afef7...       3   \n",
       "\n",
       "   fintech  ecommerce  sports  gamming  health_care  \n",
       "0        4          4       2        5            3  \n",
       "1        3          4       5        3            5  \n",
       "2        3          1       2        1            4  \n",
       "3        2          5       5        3            1  \n",
       "4        2          4       4        4            5  "
      ]
     },
     "execution_count": 7,
     "metadata": {},
     "output_type": "execute_result"
    }
   ],
   "source": [
    "editors = pd.read_csv('editors.csv')\n",
    "editors.head()"
   ]
  },
  {
   "cell_type": "code",
   "execution_count": 8,
   "metadata": {
    "ExecuteTime": {
     "end_time": "2019-10-22T04:42:10.950032Z",
     "start_time": "2019-10-22T04:42:10.904147Z"
    }
   },
   "outputs": [
    {
     "data": {
      "text/html": [
       "<div>\n",
       "<style scoped>\n",
       "    .dataframe tbody tr th:only-of-type {\n",
       "        vertical-align: middle;\n",
       "    }\n",
       "\n",
       "    .dataframe tbody tr th {\n",
       "        vertical-align: top;\n",
       "    }\n",
       "\n",
       "    .dataframe thead th {\n",
       "        text-align: right;\n",
       "    }\n",
       "</style>\n",
       "<table border=\"1\" class=\"dataframe\">\n",
       "  <thead>\n",
       "    <tr style=\"text-align: right;\">\n",
       "      <th></th>\n",
       "      <th>Unnamed: 0</th>\n",
       "      <th>travel</th>\n",
       "      <th>fintech</th>\n",
       "      <th>ecommerce</th>\n",
       "      <th>sports</th>\n",
       "      <th>gamming</th>\n",
       "      <th>health_care</th>\n",
       "    </tr>\n",
       "  </thead>\n",
       "  <tbody>\n",
       "    <tr>\n",
       "      <th>count</th>\n",
       "      <td>418.000000</td>\n",
       "      <td>418.000000</td>\n",
       "      <td>418.000000</td>\n",
       "      <td>418.000000</td>\n",
       "      <td>418.000000</td>\n",
       "      <td>418.000000</td>\n",
       "      <td>418.000000</td>\n",
       "    </tr>\n",
       "    <tr>\n",
       "      <th>mean</th>\n",
       "      <td>2914.971292</td>\n",
       "      <td>2.004785</td>\n",
       "      <td>2.834928</td>\n",
       "      <td>3.167464</td>\n",
       "      <td>2.665072</td>\n",
       "      <td>2.674641</td>\n",
       "      <td>3.169856</td>\n",
       "    </tr>\n",
       "    <tr>\n",
       "      <th>std</th>\n",
       "      <td>2766.019842</td>\n",
       "      <td>1.156766</td>\n",
       "      <td>1.347891</td>\n",
       "      <td>1.346705</td>\n",
       "      <td>1.489459</td>\n",
       "      <td>1.491584</td>\n",
       "      <td>1.347295</td>\n",
       "    </tr>\n",
       "    <tr>\n",
       "      <th>min</th>\n",
       "      <td>0.000000</td>\n",
       "      <td>1.000000</td>\n",
       "      <td>1.000000</td>\n",
       "      <td>1.000000</td>\n",
       "      <td>1.000000</td>\n",
       "      <td>1.000000</td>\n",
       "      <td>1.000000</td>\n",
       "    </tr>\n",
       "    <tr>\n",
       "      <th>25%</th>\n",
       "      <td>647.750000</td>\n",
       "      <td>1.000000</td>\n",
       "      <td>2.000000</td>\n",
       "      <td>2.000000</td>\n",
       "      <td>1.000000</td>\n",
       "      <td>1.000000</td>\n",
       "      <td>2.000000</td>\n",
       "    </tr>\n",
       "    <tr>\n",
       "      <th>50%</th>\n",
       "      <td>1554.000000</td>\n",
       "      <td>2.000000</td>\n",
       "      <td>2.500000</td>\n",
       "      <td>3.500000</td>\n",
       "      <td>2.500000</td>\n",
       "      <td>3.000000</td>\n",
       "      <td>4.000000</td>\n",
       "    </tr>\n",
       "    <tr>\n",
       "      <th>75%</th>\n",
       "      <td>5227.750000</td>\n",
       "      <td>3.000000</td>\n",
       "      <td>4.000000</td>\n",
       "      <td>4.000000</td>\n",
       "      <td>4.000000</td>\n",
       "      <td>4.000000</td>\n",
       "      <td>4.000000</td>\n",
       "    </tr>\n",
       "    <tr>\n",
       "      <th>max</th>\n",
       "      <td>9253.000000</td>\n",
       "      <td>4.000000</td>\n",
       "      <td>5.000000</td>\n",
       "      <td>5.000000</td>\n",
       "      <td>5.000000</td>\n",
       "      <td>5.000000</td>\n",
       "      <td>5.000000</td>\n",
       "    </tr>\n",
       "  </tbody>\n",
       "</table>\n",
       "</div>"
      ],
      "text/plain": [
       "        Unnamed: 0      travel     fintech   ecommerce      sports  \\\n",
       "count   418.000000  418.000000  418.000000  418.000000  418.000000   \n",
       "mean   2914.971292    2.004785    2.834928    3.167464    2.665072   \n",
       "std    2766.019842    1.156766    1.347891    1.346705    1.489459   \n",
       "min       0.000000    1.000000    1.000000    1.000000    1.000000   \n",
       "25%     647.750000    1.000000    2.000000    2.000000    1.000000   \n",
       "50%    1554.000000    2.000000    2.500000    3.500000    2.500000   \n",
       "75%    5227.750000    3.000000    4.000000    4.000000    4.000000   \n",
       "max    9253.000000    4.000000    5.000000    5.000000    5.000000   \n",
       "\n",
       "          gamming  health_care  \n",
       "count  418.000000   418.000000  \n",
       "mean     2.674641     3.169856  \n",
       "std      1.491584     1.347295  \n",
       "min      1.000000     1.000000  \n",
       "25%      1.000000     2.000000  \n",
       "50%      3.000000     4.000000  \n",
       "75%      4.000000     4.000000  \n",
       "max      5.000000     5.000000  "
      ]
     },
     "execution_count": 8,
     "metadata": {},
     "output_type": "execute_result"
    }
   ],
   "source": [
    "editors.describe()"
   ]
  },
  {
   "cell_type": "code",
   "execution_count": 9,
   "metadata": {
    "ExecuteTime": {
     "end_time": "2019-10-22T04:42:11.094638Z",
     "start_time": "2019-10-22T04:42:10.953016Z"
    }
   },
   "outputs": [
    {
     "data": {
      "text/html": [
       "<div>\n",
       "<style scoped>\n",
       "    .dataframe tbody tr th:only-of-type {\n",
       "        vertical-align: middle;\n",
       "    }\n",
       "\n",
       "    .dataframe tbody tr th {\n",
       "        vertical-align: top;\n",
       "    }\n",
       "\n",
       "    .dataframe thead th {\n",
       "        text-align: right;\n",
       "    }\n",
       "</style>\n",
       "<table border=\"1\" class=\"dataframe\">\n",
       "  <thead>\n",
       "    <tr style=\"text-align: right;\">\n",
       "      <th></th>\n",
       "      <th>Unnamed: 0</th>\n",
       "      <th>id</th>\n",
       "      <th>number_words</th>\n",
       "      <th>sequence_number</th>\n",
       "      <th>ticket_id</th>\n",
       "    </tr>\n",
       "  </thead>\n",
       "  <tbody>\n",
       "    <tr>\n",
       "      <th>0</th>\n",
       "      <td>0</td>\n",
       "      <td>L139WPBDIEJG4PD2FOAWDMGC0XLFVEJO</td>\n",
       "      <td>40</td>\n",
       "      <td>1</td>\n",
       "      <td>C05739545</td>\n",
       "    </tr>\n",
       "    <tr>\n",
       "      <th>1</th>\n",
       "      <td>1</td>\n",
       "      <td>QKADER8M3USE69QGU1DPZRVAUZX8WDJI</td>\n",
       "      <td>40</td>\n",
       "      <td>2</td>\n",
       "      <td>C05739545</td>\n",
       "    </tr>\n",
       "    <tr>\n",
       "      <th>2</th>\n",
       "      <td>2</td>\n",
       "      <td>7FA5ED3SSU5QC2TNBX1Y3TOZDDVJ60ZY</td>\n",
       "      <td>40</td>\n",
       "      <td>3</td>\n",
       "      <td>C05739545</td>\n",
       "    </tr>\n",
       "    <tr>\n",
       "      <th>3</th>\n",
       "      <td>3</td>\n",
       "      <td>AUGNZGL3HUUKQICO2URO4VBA6TJPC1SI</td>\n",
       "      <td>22</td>\n",
       "      <td>4</td>\n",
       "      <td>C05739545</td>\n",
       "    </tr>\n",
       "    <tr>\n",
       "      <th>4</th>\n",
       "      <td>4</td>\n",
       "      <td>D3DUPMUSC7ZOX9DD3G8NP2CPUWNRH835</td>\n",
       "      <td>40</td>\n",
       "      <td>1</td>\n",
       "      <td>C05739547</td>\n",
       "    </tr>\n",
       "  </tbody>\n",
       "</table>\n",
       "</div>"
      ],
      "text/plain": [
       "   Unnamed: 0                                id  number_words  \\\n",
       "0           0  L139WPBDIEJG4PD2FOAWDMGC0XLFVEJO            40   \n",
       "1           1  QKADER8M3USE69QGU1DPZRVAUZX8WDJI            40   \n",
       "2           2  7FA5ED3SSU5QC2TNBX1Y3TOZDDVJ60ZY            40   \n",
       "3           3  AUGNZGL3HUUKQICO2URO4VBA6TJPC1SI            22   \n",
       "4           4  D3DUPMUSC7ZOX9DD3G8NP2CPUWNRH835            40   \n",
       "\n",
       "   sequence_number  ticket_id  \n",
       "0                1  C05739545  \n",
       "1                2  C05739545  \n",
       "2                3  C05739545  \n",
       "3                4  C05739545  \n",
       "4                1  C05739547  "
      ]
     },
     "execution_count": 9,
     "metadata": {},
     "output_type": "execute_result"
    }
   ],
   "source": [
    "tasks = pd.read_csv('tasks.csv')\n",
    "tasks.head()"
   ]
  },
  {
   "cell_type": "code",
   "execution_count": 10,
   "metadata": {
    "ExecuteTime": {
     "end_time": "2019-10-22T04:42:17.537061Z",
     "start_time": "2019-10-22T04:42:17.486197Z"
    }
   },
   "outputs": [
    {
     "data": {
      "text/html": [
       "<div>\n",
       "<style scoped>\n",
       "    .dataframe tbody tr th:only-of-type {\n",
       "        vertical-align: middle;\n",
       "    }\n",
       "\n",
       "    .dataframe tbody tr th {\n",
       "        vertical-align: top;\n",
       "    }\n",
       "\n",
       "    .dataframe thead th {\n",
       "        text-align: right;\n",
       "    }\n",
       "</style>\n",
       "<table border=\"1\" class=\"dataframe\">\n",
       "  <thead>\n",
       "    <tr style=\"text-align: right;\">\n",
       "      <th></th>\n",
       "      <th>Unnamed: 0</th>\n",
       "      <th>id</th>\n",
       "      <th>client_id</th>\n",
       "      <th>number_words</th>\n",
       "      <th>tone</th>\n",
       "      <th>language_pair</th>\n",
       "      <th>quality_score</th>\n",
       "      <th>price</th>\n",
       "      <th>client_id.1</th>\n",
       "    </tr>\n",
       "  </thead>\n",
       "  <tbody>\n",
       "    <tr>\n",
       "      <th>0</th>\n",
       "      <td>0</td>\n",
       "      <td>C05739545</td>\n",
       "      <td>87.0</td>\n",
       "      <td>142</td>\n",
       "      <td>informal</td>\n",
       "      <td>pt_en</td>\n",
       "      <td>-1</td>\n",
       "      <td>-1</td>\n",
       "      <td>587fb1667c89615c53088cce45b602cc03ef251bcaf9e0...</td>\n",
       "    </tr>\n",
       "    <tr>\n",
       "      <th>1</th>\n",
       "      <td>2</td>\n",
       "      <td>C05739547</td>\n",
       "      <td>32.0</td>\n",
       "      <td>172</td>\n",
       "      <td>formal</td>\n",
       "      <td>pt_en</td>\n",
       "      <td>-1</td>\n",
       "      <td>-1</td>\n",
       "      <td>a59b8fa90a633fd2902283bfbe4dffa9c06e3420c03df5...</td>\n",
       "    </tr>\n",
       "    <tr>\n",
       "      <th>2</th>\n",
       "      <td>3</td>\n",
       "      <td>C05739550</td>\n",
       "      <td>32.0</td>\n",
       "      <td>344</td>\n",
       "      <td>informal</td>\n",
       "      <td>pt_en</td>\n",
       "      <td>-1</td>\n",
       "      <td>-1</td>\n",
       "      <td>36b322832c268a1fa9e64b30dc6490c6591d4b38ae28d2...</td>\n",
       "    </tr>\n",
       "    <tr>\n",
       "      <th>3</th>\n",
       "      <td>4</td>\n",
       "      <td>C05739554</td>\n",
       "      <td>80.0</td>\n",
       "      <td>1436</td>\n",
       "      <td>informal</td>\n",
       "      <td>fr_de</td>\n",
       "      <td>-1</td>\n",
       "      <td>-1</td>\n",
       "      <td>89225a3eb6c39c319e0175a029402b7d07bfba033fdba2...</td>\n",
       "    </tr>\n",
       "    <tr>\n",
       "      <th>4</th>\n",
       "      <td>5</td>\n",
       "      <td>C05739559</td>\n",
       "      <td>80.0</td>\n",
       "      <td>163</td>\n",
       "      <td>informal</td>\n",
       "      <td>pt_en</td>\n",
       "      <td>-1</td>\n",
       "      <td>-1</td>\n",
       "      <td>896eaafb9691dd3992336145e0b80bb71fdcded7fca603...</td>\n",
       "    </tr>\n",
       "  </tbody>\n",
       "</table>\n",
       "</div>"
      ],
      "text/plain": [
       "   Unnamed: 0         id  client_id  number_words      tone language_pair  \\\n",
       "0           0  C05739545       87.0           142  informal         pt_en   \n",
       "1           2  C05739547       32.0           172    formal         pt_en   \n",
       "2           3  C05739550       32.0           344  informal         pt_en   \n",
       "3           4  C05739554       80.0          1436  informal         fr_de   \n",
       "4           5  C05739559       80.0           163  informal         pt_en   \n",
       "\n",
       "   quality_score  price                                        client_id.1  \n",
       "0             -1     -1  587fb1667c89615c53088cce45b602cc03ef251bcaf9e0...  \n",
       "1             -1     -1  a59b8fa90a633fd2902283bfbe4dffa9c06e3420c03df5...  \n",
       "2             -1     -1  36b322832c268a1fa9e64b30dc6490c6591d4b38ae28d2...  \n",
       "3             -1     -1  89225a3eb6c39c319e0175a029402b7d07bfba033fdba2...  \n",
       "4             -1     -1  896eaafb9691dd3992336145e0b80bb71fdcded7fca603...  "
      ]
     },
     "execution_count": 10,
     "metadata": {},
     "output_type": "execute_result"
    }
   ],
   "source": [
    "tickets = pd.read_csv('tickets.csv')\n",
    "tickets.head()"
   ]
  },
  {
   "cell_type": "code",
   "execution_count": 19,
   "metadata": {
    "ExecuteTime": {
     "end_time": "2019-10-21T04:14:32.849898Z",
     "start_time": "2019-10-21T04:14:32.676363Z"
    }
   },
   "outputs": [
    {
     "data": {
      "text/plain": [
       "<matplotlib.axes._subplots.AxesSubplot at 0x1d432d34518>"
      ]
     },
     "execution_count": 19,
     "metadata": {},
     "output_type": "execute_result"
    },
    {
     "data": {
      "image/png": "[encoded data removed]",
      "text/plain": [
       "<Figure size 432x288 with 1 Axes>"
      ]
     },
     "metadata": {
      "needs_background": "light"
     },
     "output_type": "display_data"
    }
   ],
   "source": [
    "editors[editors.columns[2:]].sum(axis=1).hist()"
   ]
  },
  {
   "cell_type": "code",
   "execution_count": 11,
   "metadata": {
    "ExecuteTime": {
     "end_time": "2019-10-22T04:43:05.779433Z",
     "start_time": "2019-10-22T04:43:05.764473Z"
    }
   },
   "outputs": [],
   "source": [
    "tickets_clients = pd.merge(left=tickets,right=clients,how='left',left_on='client_id.1',right_on='id')"
   ]
  },
  {
   "cell_type": "code",
   "execution_count": 12,
   "metadata": {
    "ExecuteTime": {
     "end_time": "2019-10-22T04:43:05.808356Z",
     "start_time": "2019-10-22T04:43:05.782424Z"
    }
   },
   "outputs": [
    {
     "data": {
      "text/html": [
       "<div>\n",
       "<style scoped>\n",
       "    .dataframe tbody tr th:only-of-type {\n",
       "        vertical-align: middle;\n",
       "    }\n",
       "\n",
       "    .dataframe tbody tr th {\n",
       "        vertical-align: top;\n",
       "    }\n",
       "\n",
       "    .dataframe thead th {\n",
       "        text-align: right;\n",
       "    }\n",
       "</style>\n",
       "<table border=\"1\" class=\"dataframe\">\n",
       "  <thead>\n",
       "    <tr style=\"text-align: right;\">\n",
       "      <th></th>\n",
       "      <th>Unnamed: 0_x</th>\n",
       "      <th>id_x</th>\n",
       "      <th>client_id</th>\n",
       "      <th>number_words</th>\n",
       "      <th>tone</th>\n",
       "      <th>language_pair</th>\n",
       "      <th>quality_score</th>\n",
       "      <th>price</th>\n",
       "      <th>client_id.1</th>\n",
       "      <th>Unnamed: 0_y</th>\n",
       "      <th>id_y</th>\n",
       "      <th>domain</th>\n",
       "      <th>category</th>\n",
       "    </tr>\n",
       "  </thead>\n",
       "  <tbody>\n",
       "    <tr>\n",
       "      <th>0</th>\n",
       "      <td>0</td>\n",
       "      <td>C05739545</td>\n",
       "      <td>87.0</td>\n",
       "      <td>142</td>\n",
       "      <td>informal</td>\n",
       "      <td>pt_en</td>\n",
       "      <td>-1</td>\n",
       "      <td>-1</td>\n",
       "      <td>587fb1667c89615c53088cce45b602cc03ef251bcaf9e0...</td>\n",
       "      <td>489</td>\n",
       "      <td>587fb1667c89615c53088cce45b602cc03ef251bcaf9e0...</td>\n",
       "      <td>travel</td>\n",
       "      <td>Enterprise</td>\n",
       "    </tr>\n",
       "    <tr>\n",
       "      <th>1</th>\n",
       "      <td>2</td>\n",
       "      <td>C05739547</td>\n",
       "      <td>32.0</td>\n",
       "      <td>172</td>\n",
       "      <td>formal</td>\n",
       "      <td>pt_en</td>\n",
       "      <td>-1</td>\n",
       "      <td>-1</td>\n",
       "      <td>a59b8fa90a633fd2902283bfbe4dffa9c06e3420c03df5...</td>\n",
       "      <td>425</td>\n",
       "      <td>a59b8fa90a633fd2902283bfbe4dffa9c06e3420c03df5...</td>\n",
       "      <td>travel</td>\n",
       "      <td>Small</td>\n",
       "    </tr>\n",
       "    <tr>\n",
       "      <th>2</th>\n",
       "      <td>3</td>\n",
       "      <td>C05739550</td>\n",
       "      <td>32.0</td>\n",
       "      <td>344</td>\n",
       "      <td>informal</td>\n",
       "      <td>pt_en</td>\n",
       "      <td>-1</td>\n",
       "      <td>-1</td>\n",
       "      <td>36b322832c268a1fa9e64b30dc6490c6591d4b38ae28d2...</td>\n",
       "      <td>488</td>\n",
       "      <td>36b322832c268a1fa9e64b30dc6490c6591d4b38ae28d2...</td>\n",
       "      <td>travel</td>\n",
       "      <td>Enterprise</td>\n",
       "    </tr>\n",
       "    <tr>\n",
       "      <th>3</th>\n",
       "      <td>4</td>\n",
       "      <td>C05739554</td>\n",
       "      <td>80.0</td>\n",
       "      <td>1436</td>\n",
       "      <td>informal</td>\n",
       "      <td>fr_de</td>\n",
       "      <td>-1</td>\n",
       "      <td>-1</td>\n",
       "      <td>89225a3eb6c39c319e0175a029402b7d07bfba033fdba2...</td>\n",
       "      <td>304</td>\n",
       "      <td>89225a3eb6c39c319e0175a029402b7d07bfba033fdba2...</td>\n",
       "      <td>travel</td>\n",
       "      <td>Medium</td>\n",
       "    </tr>\n",
       "    <tr>\n",
       "      <th>4</th>\n",
       "      <td>5</td>\n",
       "      <td>C05739559</td>\n",
       "      <td>80.0</td>\n",
       "      <td>163</td>\n",
       "      <td>informal</td>\n",
       "      <td>pt_en</td>\n",
       "      <td>-1</td>\n",
       "      <td>-1</td>\n",
       "      <td>896eaafb9691dd3992336145e0b80bb71fdcded7fca603...</td>\n",
       "      <td>90</td>\n",
       "      <td>896eaafb9691dd3992336145e0b80bb71fdcded7fca603...</td>\n",
       "      <td>health_care</td>\n",
       "      <td>Enterprise</td>\n",
       "    </tr>\n",
       "  </tbody>\n",
       "</table>\n",
       "</div>"
      ],
      "text/plain": [
       "   Unnamed: 0_x       id_x  client_id  number_words      tone language_pair  \\\n",
       "0             0  C05739545       87.0           142  informal         pt_en   \n",
       "1             2  C05739547       32.0           172    formal         pt_en   \n",
       "2             3  C05739550       32.0           344  informal         pt_en   \n",
       "3             4  C05739554       80.0          1436  informal         fr_de   \n",
       "4             5  C05739559       80.0           163  informal         pt_en   \n",
       "\n",
       "   quality_score  price                                        client_id.1  \\\n",
       "0             -1     -1  587fb1667c89615c53088cce45b602cc03ef251bcaf9e0...   \n",
       "1             -1     -1  a59b8fa90a633fd2902283bfbe4dffa9c06e3420c03df5...   \n",
       "2             -1     -1  36b322832c268a1fa9e64b30dc6490c6591d4b38ae28d2...   \n",
       "3             -1     -1  89225a3eb6c39c319e0175a029402b7d07bfba033fdba2...   \n",
       "4             -1     -1  896eaafb9691dd3992336145e0b80bb71fdcded7fca603...   \n",
       "\n",
       "   Unnamed: 0_y                                               id_y  \\\n",
       "0           489  587fb1667c89615c53088cce45b602cc03ef251bcaf9e0...   \n",
       "1           425  a59b8fa90a633fd2902283bfbe4dffa9c06e3420c03df5...   \n",
       "2           488  36b322832c268a1fa9e64b30dc6490c6591d4b38ae28d2...   \n",
       "3           304  89225a3eb6c39c319e0175a029402b7d07bfba033fdba2...   \n",
       "4            90  896eaafb9691dd3992336145e0b80bb71fdcded7fca603...   \n",
       "\n",
       "        domain    category  \n",
       "0       travel  Enterprise  \n",
       "1       travel       Small  \n",
       "2       travel  Enterprise  \n",
       "3       travel      Medium  \n",
       "4  health_care  Enterprise  "
      ]
     },
     "execution_count": 12,
     "metadata": {},
     "output_type": "execute_result"
    }
   ],
   "source": [
    "tickets_clients.head()"
   ]
  },
  {
   "cell_type": "code",
   "execution_count": 13,
   "metadata": {
    "ExecuteTime": {
     "end_time": "2019-10-22T04:43:11.689787Z",
     "start_time": "2019-10-22T04:43:11.684800Z"
    }
   },
   "outputs": [
    {
     "data": {
      "text/plain": [
       "((7788, 9), (7788, 13))"
      ]
     },
     "execution_count": 13,
     "metadata": {},
     "output_type": "execute_result"
    }
   ],
   "source": [
    "tickets.shape, tickets_clients.shape"
   ]
  },
  {
   "cell_type": "code",
   "execution_count": 14,
   "metadata": {
    "ExecuteTime": {
     "end_time": "2019-10-22T04:43:13.355858Z",
     "start_time": "2019-10-22T04:43:13.301451Z"
    }
   },
   "outputs": [],
   "source": [
    "tasks_tickets_clients = pd.merge(left=tasks,right=tickets_clients,how='left',left_on='ticket_id',right_on='id_x')"
   ]
  },
  {
   "cell_type": "code",
   "execution_count": 15,
   "metadata": {
    "ExecuteTime": {
     "end_time": "2019-10-22T04:43:14.798925Z",
     "start_time": "2019-10-22T04:43:14.773991Z"
    }
   },
   "outputs": [
    {
     "name": "stdout",
     "output_type": "stream",
     "text": [
      "(83153, 5) (83153, 18)\n"
     ]
    },
    {
     "data": {
      "text/html": [
       "<div>\n",
       "<style scoped>\n",
       "    .dataframe tbody tr th:only-of-type {\n",
       "        vertical-align: middle;\n",
       "    }\n",
       "\n",
       "    .dataframe tbody tr th {\n",
       "        vertical-align: top;\n",
       "    }\n",
       "\n",
       "    .dataframe thead th {\n",
       "        text-align: right;\n",
       "    }\n",
       "</style>\n",
       "<table border=\"1\" class=\"dataframe\">\n",
       "  <thead>\n",
       "    <tr style=\"text-align: right;\">\n",
       "      <th></th>\n",
       "      <th>Unnamed: 0</th>\n",
       "      <th>id</th>\n",
       "      <th>number_words_x</th>\n",
       "      <th>sequence_number</th>\n",
       "      <th>ticket_id</th>\n",
       "      <th>Unnamed: 0_x</th>\n",
       "      <th>id_x</th>\n",
       "      <th>client_id</th>\n",
       "      <th>number_words_y</th>\n",
       "      <th>tone</th>\n",
       "      <th>language_pair</th>\n",
       "      <th>quality_score</th>\n",
       "      <th>price</th>\n",
       "      <th>client_id.1</th>\n",
       "      <th>Unnamed: 0_y</th>\n",
       "      <th>id_y</th>\n",
       "      <th>domain</th>\n",
       "      <th>category</th>\n",
       "    </tr>\n",
       "  </thead>\n",
       "  <tbody>\n",
       "    <tr>\n",
       "      <th>0</th>\n",
       "      <td>0</td>\n",
       "      <td>L139WPBDIEJG4PD2FOAWDMGC0XLFVEJO</td>\n",
       "      <td>40</td>\n",
       "      <td>1</td>\n",
       "      <td>C05739545</td>\n",
       "      <td>0</td>\n",
       "      <td>C05739545</td>\n",
       "      <td>87.0</td>\n",
       "      <td>142</td>\n",
       "      <td>informal</td>\n",
       "      <td>pt_en</td>\n",
       "      <td>-1</td>\n",
       "      <td>-1</td>\n",
       "      <td>587fb1667c89615c53088cce45b602cc03ef251bcaf9e0...</td>\n",
       "      <td>489</td>\n",
       "      <td>587fb1667c89615c53088cce45b602cc03ef251bcaf9e0...</td>\n",
       "      <td>travel</td>\n",
       "      <td>Enterprise</td>\n",
       "    </tr>\n",
       "    <tr>\n",
       "      <th>1</th>\n",
       "      <td>1</td>\n",
       "      <td>QKADER8M3USE69QGU1DPZRVAUZX8WDJI</td>\n",
       "      <td>40</td>\n",
       "      <td>2</td>\n",
       "      <td>C05739545</td>\n",
       "      <td>0</td>\n",
       "      <td>C05739545</td>\n",
       "      <td>87.0</td>\n",
       "      <td>142</td>\n",
       "      <td>informal</td>\n",
       "      <td>pt_en</td>\n",
       "      <td>-1</td>\n",
       "      <td>-1</td>\n",
       "      <td>587fb1667c89615c53088cce45b602cc03ef251bcaf9e0...</td>\n",
       "      <td>489</td>\n",
       "      <td>587fb1667c89615c53088cce45b602cc03ef251bcaf9e0...</td>\n",
       "      <td>travel</td>\n",
       "      <td>Enterprise</td>\n",
       "    </tr>\n",
       "    <tr>\n",
       "      <th>2</th>\n",
       "      <td>2</td>\n",
       "      <td>7FA5ED3SSU5QC2TNBX1Y3TOZDDVJ60ZY</td>\n",
       "      <td>40</td>\n",
       "      <td>3</td>\n",
       "      <td>C05739545</td>\n",
       "      <td>0</td>\n",
       "      <td>C05739545</td>\n",
       "      <td>87.0</td>\n",
       "      <td>142</td>\n",
       "      <td>informal</td>\n",
       "      <td>pt_en</td>\n",
       "      <td>-1</td>\n",
       "      <td>-1</td>\n",
       "      <td>587fb1667c89615c53088cce45b602cc03ef251bcaf9e0...</td>\n",
       "      <td>489</td>\n",
       "      <td>587fb1667c89615c53088cce45b602cc03ef251bcaf9e0...</td>\n",
       "      <td>travel</td>\n",
       "      <td>Enterprise</td>\n",
       "    </tr>\n",
       "    <tr>\n",
       "      <th>3</th>\n",
       "      <td>3</td>\n",
       "      <td>AUGNZGL3HUUKQICO2URO4VBA6TJPC1SI</td>\n",
       "      <td>22</td>\n",
       "      <td>4</td>\n",
       "      <td>C05739545</td>\n",
       "      <td>0</td>\n",
       "      <td>C05739545</td>\n",
       "      <td>87.0</td>\n",
       "      <td>142</td>\n",
       "      <td>informal</td>\n",
       "      <td>pt_en</td>\n",
       "      <td>-1</td>\n",
       "      <td>-1</td>\n",
       "      <td>587fb1667c89615c53088cce45b602cc03ef251bcaf9e0...</td>\n",
       "      <td>489</td>\n",
       "      <td>587fb1667c89615c53088cce45b602cc03ef251bcaf9e0...</td>\n",
       "      <td>travel</td>\n",
       "      <td>Enterprise</td>\n",
       "    </tr>\n",
       "    <tr>\n",
       "      <th>4</th>\n",
       "      <td>4</td>\n",
       "      <td>D3DUPMUSC7ZOX9DD3G8NP2CPUWNRH835</td>\n",
       "      <td>40</td>\n",
       "      <td>1</td>\n",
       "      <td>C05739547</td>\n",
       "      <td>2</td>\n",
       "      <td>C05739547</td>\n",
       "      <td>32.0</td>\n",
       "      <td>172</td>\n",
       "      <td>formal</td>\n",
       "      <td>pt_en</td>\n",
       "      <td>-1</td>\n",
       "      <td>-1</td>\n",
       "      <td>a59b8fa90a633fd2902283bfbe4dffa9c06e3420c03df5...</td>\n",
       "      <td>425</td>\n",
       "      <td>a59b8fa90a633fd2902283bfbe4dffa9c06e3420c03df5...</td>\n",
       "      <td>travel</td>\n",
       "      <td>Small</td>\n",
       "    </tr>\n",
       "  </tbody>\n",
       "</table>\n",
       "</div>"
      ],
      "text/plain": [
       "   Unnamed: 0                                id  number_words_x  \\\n",
       "0           0  L139WPBDIEJG4PD2FOAWDMGC0XLFVEJO              40   \n",
       "1           1  QKADER8M3USE69QGU1DPZRVAUZX8WDJI              40   \n",
       "2           2  7FA5ED3SSU5QC2TNBX1Y3TOZDDVJ60ZY              40   \n",
       "3           3  AUGNZGL3HUUKQICO2URO4VBA6TJPC1SI              22   \n",
       "4           4  D3DUPMUSC7ZOX9DD3G8NP2CPUWNRH835              40   \n",
       "\n",
       "   sequence_number  ticket_id  Unnamed: 0_x       id_x  client_id  \\\n",
       "0                1  C05739545             0  C05739545       87.0   \n",
       "1                2  C05739545             0  C05739545       87.0   \n",
       "2                3  C05739545             0  C05739545       87.0   \n",
       "3                4  C05739545             0  C05739545       87.0   \n",
       "4                1  C05739547             2  C05739547       32.0   \n",
       "\n",
       "   number_words_y      tone language_pair  quality_score  price  \\\n",
       "0             142  informal         pt_en             -1     -1   \n",
       "1             142  informal         pt_en             -1     -1   \n",
       "2             142  informal         pt_en             -1     -1   \n",
       "3             142  informal         pt_en             -1     -1   \n",
       "4             172    formal         pt_en             -1     -1   \n",
       "\n",
       "                                         client_id.1  Unnamed: 0_y  \\\n",
       "0  587fb1667c89615c53088cce45b602cc03ef251bcaf9e0...           489   \n",
       "1  587fb1667c89615c53088cce45b602cc03ef251bcaf9e0...           489   \n",
       "2  587fb1667c89615c53088cce45b602cc03ef251bcaf9e0...           489   \n",
       "3  587fb1667c89615c53088cce45b602cc03ef251bcaf9e0...           489   \n",
       "4  a59b8fa90a633fd2902283bfbe4dffa9c06e3420c03df5...           425   \n",
       "\n",
       "                                                id_y  domain    category  \n",
       "0  587fb1667c89615c53088cce45b602cc03ef251bcaf9e0...  travel  Enterprise  \n",
       "1  587fb1667c89615c53088cce45b602cc03ef251bcaf9e0...  travel  Enterprise  \n",
       "2  587fb1667c89615c53088cce45b602cc03ef251bcaf9e0...  travel  Enterprise  \n",
       "3  587fb1667c89615c53088cce45b602cc03ef251bcaf9e0...  travel  Enterprise  \n",
       "4  a59b8fa90a633fd2902283bfbe4dffa9c06e3420c03df5...  travel       Small  "
      ]
     },
     "execution_count": 15,
     "metadata": {},
     "output_type": "execute_result"
    }
   ],
   "source": [
    "print(tasks.shape, tasks_tickets_clients.shape)\n",
    "tasks_tickets_clients.head()"
   ]
  },
  {
   "cell_type": "code",
   "execution_count": 16,
   "metadata": {
    "ExecuteTime": {
     "end_time": "2019-10-22T04:43:22.533370Z",
     "start_time": "2019-10-22T04:43:22.349861Z"
    }
   },
   "outputs": [
    {
     "data": {
      "text/plain": [
       "<matplotlib.axes._subplots.AxesSubplot at 0x25d62dd45f8>"
      ]
     },
     "execution_count": 16,
     "metadata": {},
     "output_type": "execute_result"
    },
    {
     "data": {
      "image/png": "[encoded data removed]",
      "text/plain": [
       "<Figure size 432x288 with 1 Axes>"
      ]
     },
     "metadata": {
      "needs_background": "light"
     },
     "output_type": "display_data"
    }
   ],
   "source": [
    "tasks_tickets_clients['domain'].value_counts().sort_index().plot(kind='bar')"
   ]
  },
  {
   "cell_type": "code",
   "execution_count": 17,
   "metadata": {
    "ExecuteTime": {
     "end_time": "2019-10-22T04:43:33.270395Z",
     "start_time": "2019-10-22T04:43:32.959224Z"
    }
   },
   "outputs": [
    {
     "data": {
      "text/plain": [
       "<matplotlib.axes._subplots.AxesSubplot at 0x25d63507470>"
      ]
     },
     "execution_count": 17,
     "metadata": {},
     "output_type": "execute_result"
    },
    {
     "data": {
      "image/png": "[encoded data removed]",
      "text/plain": [
       "<Figure size 432x288 with 1 Axes>"
      ]
     },
     "metadata": {
      "needs_background": "light"
     },
     "output_type": "display_data"
    }
   ],
   "source": [
    "editors[editors.columns[2:]].sum(axis=0).sort_index().plot(kind='bar')"
   ]
  },
  {
   "cell_type": "code",
   "execution_count": 18,
   "metadata": {
    "ExecuteTime": {
     "end_time": "2019-10-22T04:43:54.311380Z",
     "start_time": "2019-10-22T04:43:54.013176Z"
    }
   },
   "outputs": [
    {
     "data": {
      "text/plain": [
       "<matplotlib.axes._subplots.AxesSubplot at 0x25d63827588>"
      ]
     },
     "execution_count": 18,
     "metadata": {},
     "output_type": "execute_result"
    },
    {
     "data": {
      "image/png": "[encoded data removed]",
      "text/plain": [
       "<Figure size 432x288 with 1 Axes>"
      ]
     },
     "metadata": {
      "needs_background": "light"
     },
     "output_type": "display_data"
    }
   ],
   "source": [
    "tasks_tickets_clients.groupby(['language_pair','domain']).size().plot(kind='bar')"
   ]
  },
  {
   "cell_type": "code",
   "execution_count": 19,
   "metadata": {
    "ExecuteTime": {
     "end_time": "2019-10-22T04:44:26.517957Z",
     "start_time": "2019-10-22T04:44:26.494016Z"
    }
   },
   "outputs": [
    {
     "data": {
      "text/plain": [
       "pt_en    0.402980\n",
       "es_ja    0.200811\n",
       "fr_de    0.200305\n",
       "nl_en    0.195904\n",
       "Name: language_pair, dtype: float64"
      ]
     },
     "execution_count": 19,
     "metadata": {},
     "output_type": "execute_result"
    }
   ],
   "source": [
    "tasks_tickets_clients['language_pair'].value_counts(normalize=True)"
   ]
  },
  {
   "cell_type": "code",
   "execution_count": 103,
   "metadata": {
    "ExecuteTime": {
     "end_time": "2019-10-21T05:16:03.827270Z",
     "start_time": "2019-10-21T05:16:03.821286Z"
    }
   },
   "outputs": [
    {
     "data": {
      "text/plain": [
       "76.66666666666667"
      ]
     },
     "execution_count": 103,
     "metadata": {},
     "output_type": "execute_result"
    }
   ],
   "source": [
    "# plan\n",
    "# assign language_pair to editors randomly, at the same distribution of the tasks (40% pt_en, 20% for each of the others)\n",
    "# then, task assignment will be 4 different, smaller problems\n",
    "# quality will be a function of editors overall skill and the task's domain skill.\n",
    "    # S.all = all skills, S.d = task's domain skill, quality = (sum(S.all)/30)* S.d/5 *100\n",
    "# price is alpha*W*S.e - let's assume S.e = S.d, alpha = price per word\n",
    "# two problems - increase quality and better distribute tasks - assuming a third, balance price/quality\n",
    "# start by assuming equal distribution of tasks and check how optimization can increase quality\n",
    "    # if it's too bad, create a model for task distribution based on skill\n",
    "    #>> side >> a way to improve overal quality and better distribute tasks would be to duplicate tasks and assign to\n",
    "    #  people with different skills, could have different skill tiers and this could be used to assess skill\n",
    "\n",
    "# first, check how randomly assigning tasks impact quality and price\n",
    "# then, optimize to max quality\n",
    "# then, optimize to max quality and min price\n",
    "# then, check if unbalancing task assinment can affect this\n",
    "\n",
    "# graph editor skill stats - standard deviation per domain, overal skill, clear tiers? etc"
   ]
  },
  {
   "cell_type": "code",
   "execution_count": 27,
   "metadata": {
    "ExecuteTime": {
     "end_time": "2019-10-21T04:14:33.356543Z",
     "start_time": "2019-10-21T04:14:33.349563Z"
    }
   },
   "outputs": [
    {
     "data": {
      "text/plain": [
       "418"
      ]
     },
     "execution_count": 27,
     "metadata": {},
     "output_type": "execute_result"
    }
   ],
   "source": [
    "editors.id.unique().size"
   ]
  },
  {
   "cell_type": "code",
   "execution_count": 28,
   "metadata": {
    "ExecuteTime": {
     "end_time": "2019-10-21T04:14:33.374495Z",
     "start_time": "2019-10-21T04:14:33.360532Z"
    }
   },
   "outputs": [
    {
     "data": {
      "text/plain": [
       "[0.2, 0.4, 0.6, 0.8, 1.0]"
      ]
     },
     "execution_count": 28,
     "metadata": {},
     "output_type": "execute_result"
    }
   ],
   "source": [
    "# 75-100\n",
    "# 50-75\n",
    "# 25-50\n",
    "# 0-25\n",
    "\n",
    "[x/5 for x in range(1,6)]"
   ]
  },
  {
   "cell_type": "code",
   "execution_count": 20,
   "metadata": {
    "ExecuteTime": {
     "end_time": "2019-10-22T04:45:31.647508Z",
     "start_time": "2019-10-22T04:45:31.637540Z"
    }
   },
   "outputs": [
    {
     "name": "stdout",
     "output_type": "stream",
     "text": [
      "[3, 3, 4, 5, 3, 5]\n"
     ]
    },
    {
     "data": {
      "text/plain": [
       "0.4600000000000001"
      ]
     },
     "execution_count": 20,
     "metadata": {},
     "output_type": "execute_result"
    }
   ],
   "source": [
    "skills='travel,fintech,ecommerce,sports,gamming,health_care'.split(',')\n",
    "# skills\n",
    "ss = editors.loc[1,skills].values.tolist()\n",
    "print(ss)\n",
    "(np.mean(ss)/5)*3/5"
   ]
  },
  {
   "cell_type": "code",
   "execution_count": 21,
   "metadata": {
    "ExecuteTime": {
     "end_time": "2019-10-22T04:45:31.662464Z",
     "start_time": "2019-10-22T04:45:31.650496Z"
    }
   },
   "outputs": [],
   "source": [
    "from random import seed, shuffle"
   ]
  },
  {
   "cell_type": "code",
   "execution_count": 22,
   "metadata": {
    "ExecuteTime": {
     "end_time": "2019-10-22T04:45:31.673437Z",
     "start_time": "2019-10-22T04:45:31.665459Z"
    }
   },
   "outputs": [
    {
     "data": {
      "text/plain": [
       "418"
      ]
     },
     "execution_count": 22,
     "metadata": {},
     "output_type": "execute_result"
    }
   ],
   "source": [
    "np.random.seed(42)\n",
    "a = np.arange(0,479)\n",
    "np.random.shuffle(a)\n",
    "a\n",
    "len(editors.id)"
   ]
  },
  {
   "cell_type": "code",
   "execution_count": 23,
   "metadata": {
    "ExecuteTime": {
     "end_time": "2019-10-22T04:45:31.684405Z",
     "start_time": "2019-10-22T04:45:31.677424Z"
    }
   },
   "outputs": [],
   "source": [
    "editors.drop(editors.columns[0], axis=1, inplace=True)\n",
    "editors.reset_index(inplace=True)"
   ]
  },
  {
   "cell_type": "code",
   "execution_count": 24,
   "metadata": {
    "ExecuteTime": {
     "end_time": "2019-10-22T04:45:31.706351Z",
     "start_time": "2019-10-22T04:45:31.687398Z"
    }
   },
   "outputs": [
    {
     "data": {
      "text/html": [
       "<div>\n",
       "<style scoped>\n",
       "    .dataframe tbody tr th:only-of-type {\n",
       "        vertical-align: middle;\n",
       "    }\n",
       "\n",
       "    .dataframe tbody tr th {\n",
       "        vertical-align: top;\n",
       "    }\n",
       "\n",
       "    .dataframe thead th {\n",
       "        text-align: right;\n",
       "    }\n",
       "</style>\n",
       "<table border=\"1\" class=\"dataframe\">\n",
       "  <thead>\n",
       "    <tr style=\"text-align: right;\">\n",
       "      <th></th>\n",
       "      <th>index</th>\n",
       "      <th>id</th>\n",
       "      <th>travel</th>\n",
       "      <th>fintech</th>\n",
       "      <th>ecommerce</th>\n",
       "      <th>sports</th>\n",
       "      <th>gamming</th>\n",
       "      <th>health_care</th>\n",
       "    </tr>\n",
       "  </thead>\n",
       "  <tbody>\n",
       "    <tr>\n",
       "      <th>321</th>\n",
       "      <td>321</td>\n",
       "      <td>12f9ceab17f39924297dbcae1eb096b430cd4284f1358d...</td>\n",
       "      <td>1</td>\n",
       "      <td>2</td>\n",
       "      <td>4</td>\n",
       "      <td>1</td>\n",
       "      <td>2</td>\n",
       "      <td>5</td>\n",
       "    </tr>\n",
       "  </tbody>\n",
       "</table>\n",
       "</div>"
      ],
      "text/plain": [
       "     index                                                 id  travel  \\\n",
       "321    321  12f9ceab17f39924297dbcae1eb096b430cd4284f1358d...       1   \n",
       "\n",
       "     fintech  ecommerce  sports  gamming  health_care  \n",
       "321        2          4       1        2            5  "
      ]
     },
     "execution_count": 24,
     "metadata": {},
     "output_type": "execute_result"
    }
   ],
   "source": [
    "editors[editors['index']==321]"
   ]
  },
  {
   "cell_type": "code",
   "execution_count": 25,
   "metadata": {
    "ExecuteTime": {
     "end_time": "2019-10-22T04:45:31.715323Z",
     "start_time": "2019-10-22T04:45:31.709339Z"
    }
   },
   "outputs": [],
   "source": [
    "editors_r = editors.sample(frac=1,random_state=42)\n",
    "editors_r.reset_index(drop=True,inplace=True)"
   ]
  },
  {
   "cell_type": "code",
   "execution_count": 26,
   "metadata": {
    "ExecuteTime": {
     "end_time": "2019-10-22T04:45:31.731280Z",
     "start_time": "2019-10-22T04:45:31.717316Z"
    }
   },
   "outputs": [
    {
     "data": {
      "text/plain": [
       "pt_en    0.442584\n",
       "nl_en    0.212919\n",
       "es_ja    0.177033\n",
       "fr_de    0.167464\n",
       "Name: language_pair, dtype: float64"
      ]
     },
     "execution_count": 26,
     "metadata": {},
     "output_type": "execute_result"
    }
   ],
   "source": [
    "tasks_tickets_clients.language_pair.sample(n=418,random_state=42).value_counts(normalize=True)"
   ]
  },
  {
   "cell_type": "code",
   "execution_count": 27,
   "metadata": {
    "ExecuteTime": {
     "end_time": "2019-10-22T04:45:31.742250Z",
     "start_time": "2019-10-22T04:45:31.733277Z"
    }
   },
   "outputs": [],
   "source": [
    "editors_r['language_pair'] = tasks_tickets_clients.language_pair.sample(n=418,random_state=42).values"
   ]
  },
  {
   "cell_type": "code",
   "execution_count": 28,
   "metadata": {
    "ExecuteTime": {
     "end_time": "2019-10-22T04:45:31.759205Z",
     "start_time": "2019-10-22T04:45:31.744245Z"
    }
   },
   "outputs": [
    {
     "data": {
      "text/html": [
       "<div>\n",
       "<style scoped>\n",
       "    .dataframe tbody tr th:only-of-type {\n",
       "        vertical-align: middle;\n",
       "    }\n",
       "\n",
       "    .dataframe tbody tr th {\n",
       "        vertical-align: top;\n",
       "    }\n",
       "\n",
       "    .dataframe thead th {\n",
       "        text-align: right;\n",
       "    }\n",
       "</style>\n",
       "<table border=\"1\" class=\"dataframe\">\n",
       "  <thead>\n",
       "    <tr style=\"text-align: right;\">\n",
       "      <th></th>\n",
       "      <th>index</th>\n",
       "      <th>id</th>\n",
       "      <th>travel</th>\n",
       "      <th>fintech</th>\n",
       "      <th>ecommerce</th>\n",
       "      <th>sports</th>\n",
       "      <th>gamming</th>\n",
       "      <th>health_care</th>\n",
       "      <th>language_pair</th>\n",
       "    </tr>\n",
       "  </thead>\n",
       "  <tbody>\n",
       "    <tr>\n",
       "      <th>0</th>\n",
       "      <td>321</td>\n",
       "      <td>12f9ceab17f39924297dbcae1eb096b430cd4284f1358d...</td>\n",
       "      <td>1</td>\n",
       "      <td>2</td>\n",
       "      <td>4</td>\n",
       "      <td>1</td>\n",
       "      <td>2</td>\n",
       "      <td>5</td>\n",
       "      <td>pt_en</td>\n",
       "    </tr>\n",
       "    <tr>\n",
       "      <th>1</th>\n",
       "      <td>324</td>\n",
       "      <td>a269af2185b07a5755c9170640787c375f6d41db217e63...</td>\n",
       "      <td>1</td>\n",
       "      <td>4</td>\n",
       "      <td>4</td>\n",
       "      <td>3</td>\n",
       "      <td>1</td>\n",
       "      <td>2</td>\n",
       "      <td>pt_en</td>\n",
       "    </tr>\n",
       "    <tr>\n",
       "      <th>2</th>\n",
       "      <td>388</td>\n",
       "      <td>275f801125090b1662a59003de2b3524612c7cd784fb2b...</td>\n",
       "      <td>1</td>\n",
       "      <td>2</td>\n",
       "      <td>3</td>\n",
       "      <td>1</td>\n",
       "      <td>1</td>\n",
       "      <td>4</td>\n",
       "      <td>fr_de</td>\n",
       "    </tr>\n",
       "    <tr>\n",
       "      <th>3</th>\n",
       "      <td>56</td>\n",
       "      <td>750900301e7554def652bce932fe1e2a773167d4ced3e3...</td>\n",
       "      <td>3</td>\n",
       "      <td>3</td>\n",
       "      <td>4</td>\n",
       "      <td>1</td>\n",
       "      <td>3</td>\n",
       "      <td>5</td>\n",
       "      <td>pt_en</td>\n",
       "    </tr>\n",
       "    <tr>\n",
       "      <th>4</th>\n",
       "      <td>153</td>\n",
       "      <td>3130987415a7562accf70655e8343f327f5646d66a4777...</td>\n",
       "      <td>2</td>\n",
       "      <td>5</td>\n",
       "      <td>3</td>\n",
       "      <td>2</td>\n",
       "      <td>4</td>\n",
       "      <td>4</td>\n",
       "      <td>pt_en</td>\n",
       "    </tr>\n",
       "  </tbody>\n",
       "</table>\n",
       "</div>"
      ],
      "text/plain": [
       "   index                                                 id  travel  fintech  \\\n",
       "0    321  12f9ceab17f39924297dbcae1eb096b430cd4284f1358d...       1        2   \n",
       "1    324  a269af2185b07a5755c9170640787c375f6d41db217e63...       1        4   \n",
       "2    388  275f801125090b1662a59003de2b3524612c7cd784fb2b...       1        2   \n",
       "3     56  750900301e7554def652bce932fe1e2a773167d4ced3e3...       3        3   \n",
       "4    153  3130987415a7562accf70655e8343f327f5646d66a4777...       2        5   \n",
       "\n",
       "   ecommerce  sports  gamming  health_care language_pair  \n",
       "0          4       1        2            5         pt_en  \n",
       "1          4       3        1            2         pt_en  \n",
       "2          3       1        1            4         fr_de  \n",
       "3          4       1        3            5         pt_en  \n",
       "4          3       2        4            4         pt_en  "
      ]
     },
     "execution_count": 28,
     "metadata": {},
     "output_type": "execute_result"
    }
   ],
   "source": [
    "editors_r.head()"
   ]
  },
  {
   "cell_type": "code",
   "execution_count": 29,
   "metadata": {
    "ExecuteTime": {
     "end_time": "2019-10-22T04:45:31.806080Z",
     "start_time": "2019-10-22T04:45:31.777157Z"
    }
   },
   "outputs": [
    {
     "data": {
      "text/plain": [
       "['travel', 'fintech', 'ecommerce', 'sports', 'gamming', 'health_care']"
      ]
     },
     "execution_count": 29,
     "metadata": {},
     "output_type": "execute_result"
    }
   ],
   "source": [
    "domains='travel,fintech,ecommerce,sports,gamming,health_care'.split(',')\n",
    "domains"
   ]
  },
  {
   "cell_type": "code",
   "execution_count": 30,
   "metadata": {
    "ExecuteTime": {
     "end_time": "2019-10-22T04:45:31.815055Z",
     "start_time": "2019-10-22T04:45:31.809071Z"
    }
   },
   "outputs": [],
   "source": [
    "from sklearn.preprocessing import OneHotEncoder"
   ]
  },
  {
   "cell_type": "code",
   "execution_count": 31,
   "metadata": {
    "ExecuteTime": {
     "end_time": "2019-10-22T04:45:31.848971Z",
     "start_time": "2019-10-22T04:45:31.819051Z"
    }
   },
   "outputs": [],
   "source": [
    "a = tasks_tickets_clients['domain'].sample(100,random_state=42)\n",
    "enc=OneHotEncoder()\n",
    "b = enc.fit_transform(a[:,None]).toarray()\n",
    "c = pd.DataFrame(b,columns=enc.categories_)"
   ]
  },
  {
   "cell_type": "code",
   "execution_count": 32,
   "metadata": {
    "ExecuteTime": {
     "end_time": "2019-10-22T04:45:31.860933Z",
     "start_time": "2019-10-22T04:45:31.851958Z"
    }
   },
   "outputs": [],
   "source": [
    "c = c.astype(int)[domains]"
   ]
  },
  {
   "cell_type": "code",
   "execution_count": 33,
   "metadata": {
    "ExecuteTime": {
     "end_time": "2019-10-22T04:45:31.889855Z",
     "start_time": "2019-10-22T04:45:31.862927Z"
    }
   },
   "outputs": [
    {
     "data": {
      "text/html": [
       "<div>\n",
       "<style scoped>\n",
       "    .dataframe tbody tr th:only-of-type {\n",
       "        vertical-align: middle;\n",
       "    }\n",
       "\n",
       "    .dataframe tbody tr th {\n",
       "        vertical-align: top;\n",
       "    }\n",
       "\n",
       "    .dataframe thead th {\n",
       "        text-align: right;\n",
       "    }\n",
       "</style>\n",
       "<table border=\"1\" class=\"dataframe\">\n",
       "  <thead>\n",
       "    <tr style=\"text-align: right;\">\n",
       "      <th></th>\n",
       "      <th>travel</th>\n",
       "      <th>fintech</th>\n",
       "      <th>ecommerce</th>\n",
       "      <th>sports</th>\n",
       "      <th>gamming</th>\n",
       "      <th>health_care</th>\n",
       "    </tr>\n",
       "  </thead>\n",
       "  <tbody>\n",
       "    <tr>\n",
       "      <th>0</th>\n",
       "      <td>1</td>\n",
       "      <td>2</td>\n",
       "      <td>4</td>\n",
       "      <td>1</td>\n",
       "      <td>2</td>\n",
       "      <td>5</td>\n",
       "    </tr>\n",
       "    <tr>\n",
       "      <th>1</th>\n",
       "      <td>1</td>\n",
       "      <td>4</td>\n",
       "      <td>4</td>\n",
       "      <td>3</td>\n",
       "      <td>1</td>\n",
       "      <td>2</td>\n",
       "    </tr>\n",
       "    <tr>\n",
       "      <th>2</th>\n",
       "      <td>1</td>\n",
       "      <td>2</td>\n",
       "      <td>3</td>\n",
       "      <td>1</td>\n",
       "      <td>1</td>\n",
       "      <td>4</td>\n",
       "    </tr>\n",
       "    <tr>\n",
       "      <th>3</th>\n",
       "      <td>3</td>\n",
       "      <td>3</td>\n",
       "      <td>4</td>\n",
       "      <td>1</td>\n",
       "      <td>3</td>\n",
       "      <td>5</td>\n",
       "    </tr>\n",
       "    <tr>\n",
       "      <th>4</th>\n",
       "      <td>2</td>\n",
       "      <td>5</td>\n",
       "      <td>3</td>\n",
       "      <td>2</td>\n",
       "      <td>4</td>\n",
       "      <td>4</td>\n",
       "    </tr>\n",
       "    <tr>\n",
       "      <th>5</th>\n",
       "      <td>1</td>\n",
       "      <td>5</td>\n",
       "      <td>3</td>\n",
       "      <td>3</td>\n",
       "      <td>5</td>\n",
       "      <td>3</td>\n",
       "    </tr>\n",
       "    <tr>\n",
       "      <th>6</th>\n",
       "      <td>1</td>\n",
       "      <td>2</td>\n",
       "      <td>5</td>\n",
       "      <td>2</td>\n",
       "      <td>3</td>\n",
       "      <td>2</td>\n",
       "    </tr>\n",
       "    <tr>\n",
       "      <th>7</th>\n",
       "      <td>1</td>\n",
       "      <td>3</td>\n",
       "      <td>5</td>\n",
       "      <td>1</td>\n",
       "      <td>4</td>\n",
       "      <td>3</td>\n",
       "    </tr>\n",
       "    <tr>\n",
       "      <th>8</th>\n",
       "      <td>1</td>\n",
       "      <td>4</td>\n",
       "      <td>5</td>\n",
       "      <td>2</td>\n",
       "      <td>1</td>\n",
       "      <td>2</td>\n",
       "    </tr>\n",
       "    <tr>\n",
       "      <th>9</th>\n",
       "      <td>1</td>\n",
       "      <td>2</td>\n",
       "      <td>4</td>\n",
       "      <td>1</td>\n",
       "      <td>1</td>\n",
       "      <td>4</td>\n",
       "    </tr>\n",
       "  </tbody>\n",
       "</table>\n",
       "</div>"
      ],
      "text/plain": [
       "   travel  fintech  ecommerce  sports  gamming  health_care\n",
       "0       1        2          4       1        2            5\n",
       "1       1        4          4       3        1            2\n",
       "2       1        2          3       1        1            4\n",
       "3       3        3          4       1        3            5\n",
       "4       2        5          3       2        4            4\n",
       "5       1        5          3       3        5            3\n",
       "6       1        2          5       2        3            2\n",
       "7       1        3          5       1        4            3\n",
       "8       1        4          5       2        1            2\n",
       "9       1        2          4       1        1            4"
      ]
     },
     "execution_count": 33,
     "metadata": {},
     "output_type": "execute_result"
    }
   ],
   "source": [
    "editors_r.iloc[:10][domains]"
   ]
  },
  {
   "cell_type": "code",
   "execution_count": 34,
   "metadata": {
    "ExecuteTime": {
     "end_time": "2019-10-22T04:45:31.912798Z",
     "start_time": "2019-10-22T04:45:31.892848Z"
    }
   },
   "outputs": [
    {
     "data": {
      "text/html": [
       "<div>\n",
       "<style scoped>\n",
       "    .dataframe tbody tr th:only-of-type {\n",
       "        vertical-align: middle;\n",
       "    }\n",
       "\n",
       "    .dataframe tbody tr th {\n",
       "        vertical-align: top;\n",
       "    }\n",
       "\n",
       "    .dataframe thead tr th {\n",
       "        text-align: left;\n",
       "    }\n",
       "</style>\n",
       "<table border=\"1\" class=\"dataframe\">\n",
       "  <thead>\n",
       "    <tr>\n",
       "      <th></th>\n",
       "      <th>travel</th>\n",
       "      <th>fintech</th>\n",
       "      <th>ecommerce</th>\n",
       "      <th>sports</th>\n",
       "      <th>gamming</th>\n",
       "      <th>health_care</th>\n",
       "    </tr>\n",
       "  </thead>\n",
       "  <tbody>\n",
       "    <tr>\n",
       "      <th>0</th>\n",
       "      <td>1</td>\n",
       "      <td>0</td>\n",
       "      <td>0</td>\n",
       "      <td>0</td>\n",
       "      <td>0</td>\n",
       "      <td>0</td>\n",
       "    </tr>\n",
       "    <tr>\n",
       "      <th>1</th>\n",
       "      <td>0</td>\n",
       "      <td>1</td>\n",
       "      <td>0</td>\n",
       "      <td>0</td>\n",
       "      <td>0</td>\n",
       "      <td>0</td>\n",
       "    </tr>\n",
       "    <tr>\n",
       "      <th>2</th>\n",
       "      <td>1</td>\n",
       "      <td>0</td>\n",
       "      <td>0</td>\n",
       "      <td>0</td>\n",
       "      <td>0</td>\n",
       "      <td>0</td>\n",
       "    </tr>\n",
       "    <tr>\n",
       "      <th>3</th>\n",
       "      <td>0</td>\n",
       "      <td>1</td>\n",
       "      <td>0</td>\n",
       "      <td>0</td>\n",
       "      <td>0</td>\n",
       "      <td>0</td>\n",
       "    </tr>\n",
       "    <tr>\n",
       "      <th>4</th>\n",
       "      <td>0</td>\n",
       "      <td>1</td>\n",
       "      <td>0</td>\n",
       "      <td>0</td>\n",
       "      <td>0</td>\n",
       "      <td>0</td>\n",
       "    </tr>\n",
       "    <tr>\n",
       "      <th>5</th>\n",
       "      <td>0</td>\n",
       "      <td>0</td>\n",
       "      <td>0</td>\n",
       "      <td>0</td>\n",
       "      <td>0</td>\n",
       "      <td>1</td>\n",
       "    </tr>\n",
       "    <tr>\n",
       "      <th>6</th>\n",
       "      <td>0</td>\n",
       "      <td>0</td>\n",
       "      <td>0</td>\n",
       "      <td>1</td>\n",
       "      <td>0</td>\n",
       "      <td>0</td>\n",
       "    </tr>\n",
       "    <tr>\n",
       "      <th>7</th>\n",
       "      <td>1</td>\n",
       "      <td>0</td>\n",
       "      <td>0</td>\n",
       "      <td>0</td>\n",
       "      <td>0</td>\n",
       "      <td>0</td>\n",
       "    </tr>\n",
       "    <tr>\n",
       "      <th>8</th>\n",
       "      <td>1</td>\n",
       "      <td>0</td>\n",
       "      <td>0</td>\n",
       "      <td>0</td>\n",
       "      <td>0</td>\n",
       "      <td>0</td>\n",
       "    </tr>\n",
       "    <tr>\n",
       "      <th>9</th>\n",
       "      <td>0</td>\n",
       "      <td>0</td>\n",
       "      <td>1</td>\n",
       "      <td>0</td>\n",
       "      <td>0</td>\n",
       "      <td>0</td>\n",
       "    </tr>\n",
       "  </tbody>\n",
       "</table>\n",
       "</div>"
      ],
      "text/plain": [
       "  travel fintech ecommerce sports gamming health_care\n",
       "0      1       0         0      0       0           0\n",
       "1      0       1         0      0       0           0\n",
       "2      1       0         0      0       0           0\n",
       "3      0       1         0      0       0           0\n",
       "4      0       1         0      0       0           0\n",
       "5      0       0         0      0       0           1\n",
       "6      0       0         0      1       0           0\n",
       "7      1       0         0      0       0           0\n",
       "8      1       0         0      0       0           0\n",
       "9      0       0         1      0       0           0"
      ]
     },
     "execution_count": 34,
     "metadata": {},
     "output_type": "execute_result"
    }
   ],
   "source": [
    "c.iloc[:10]"
   ]
  },
  {
   "cell_type": "code",
   "execution_count": 35,
   "metadata": {
    "ExecuteTime": {
     "end_time": "2019-10-22T04:45:31.942713Z",
     "start_time": "2019-10-22T04:45:31.914789Z"
    }
   },
   "outputs": [
    {
     "data": {
      "text/plain": [
       "array([0.1       , 0.4       , 0.08      , 0.38      , 0.66666667,\n",
       "       0.4       , 0.2       , 0.11333333, 0.1       , 0.34666667])"
      ]
     },
     "execution_count": 35,
     "metadata": {},
     "output_type": "execute_result"
    }
   ],
   "source": [
    "editors_r.iloc[:10][domains].values.sum(axis=1)/30 * (editors_r.iloc[:10][domains].values * c.iloc[:10].values).sum(axis=1)/5"
   ]
  },
  {
   "cell_type": "code",
   "execution_count": 44,
   "metadata": {
    "ExecuteTime": {
     "end_time": "2019-10-22T18:28:32.444695Z",
     "start_time": "2019-10-22T18:28:32.421756Z"
    }
   },
   "outputs": [
    {
     "data": {
      "text/plain": [
       "(16698, 18)"
      ]
     },
     "execution_count": 44,
     "metadata": {},
     "output_type": "execute_result"
    }
   ],
   "source": [
    "tasks_tickets_clients[tasks_tickets_clients['language_pair']=='es_ja']"
   ]
  },
  {
   "cell_type": "code",
   "execution_count": 62,
   "metadata": {
    "ExecuteTime": {
     "end_time": "2019-10-22T18:32:15.635519Z",
     "start_time": "2019-10-22T18:32:15.617568Z"
    }
   },
   "outputs": [
    {
     "data": {
      "text/plain": [
       "es_ja    225\n",
       "fr_de    237\n",
       "nl_en    183\n",
       "pt_en    181\n",
       "Name: language_pair, dtype: int32"
      ]
     },
     "execution_count": 62,
     "metadata": {},
     "output_type": "execute_result"
    }
   ],
   "source": [
    "# tasks per editor\n",
    "(tasks_tickets_clients['language_pair'].value_counts().sort_index()/\\\n",
    "editors_r['language_pair'].value_counts().sort_index()).astype(int)"
   ]
  },
  {
   "cell_type": "code",
   "execution_count": 87,
   "metadata": {
    "ExecuteTime": {
     "end_time": "2019-10-23T03:07:19.197042Z",
     "start_time": "2019-10-23T03:07:19.185073Z"
    }
   },
   "outputs": [
    {
     "data": {
      "text/plain": [
       "0     7\n",
       "1    10\n",
       "2     9\n",
       "3     9\n",
       "4    10\n",
       "5     6\n",
       "6    11\n",
       "7    15\n",
       "8    12\n",
       "9    11\n",
       "dtype: int64"
      ]
     },
     "execution_count": 87,
     "metadata": {},
     "output_type": "execute_result"
    }
   ],
   "source": [
    "np.random.seed(42)\n",
    "editors_r.iloc[:10][domains].sample(100, replace=True).index.value_counts().sort_index()"
   ]
  },
  {
   "cell_type": "code",
   "execution_count": 249,
   "metadata": {
    "ExecuteTime": {
     "end_time": "2019-10-23T04:44:29.402204Z",
     "start_time": "2019-10-23T04:44:29.392229Z"
    }
   },
   "outputs": [
    {
     "name": "stdout",
     "output_type": "stream",
     "text": [
      "[[1. 1. 1. 1. 1.]\n",
      " [0. 0. 0. 0. 0.]\n",
      " [0. 0. 0. 0. 0.]\n",
      " [0. 0. 0. 0. 0.]]\n",
      "False\n",
      "False\n",
      "False\n",
      "False\n",
      "True\n",
      "[[0. 0. 0. 0. 1.]\n",
      " [0. 1. 1. 0. 0.]\n",
      " [0. 0. 0. 1. 0.]\n",
      " [1. 0. 0. 0. 0.]]\n"
     ]
    }
   ],
   "source": [
    "np.random.seed(42)\n",
    "a = np.concatenate((np.ones(5).reshape(1,5), np.zeros([3,5])),axis=0)\n",
    "print(a)\n",
    "while np.count_nonzero(a.sum(axis=1)) != a.shape[0]:\n",
    "    np.apply_along_axis(np.random.shuffle,0,a)\n",
    "    print(np.count_nonzero(a.sum(axis=1)) == a.shape[0])\n",
    "print(a)"
   ]
  },
  {
   "cell_type": "markdown",
   "metadata": {},
   "source": [
    "#### NL_EN"
   ]
  },
  {
   "cell_type": "code",
   "execution_count": 686,
   "metadata": {
    "ExecuteTime": {
     "end_time": "2019-10-24T08:07:57.669694Z",
     "start_time": "2019-10-24T08:07:57.641768Z"
    }
   },
   "outputs": [
    {
     "data": {
      "text/plain": [
       "(16290, 6)"
      ]
     },
     "execution_count": 686,
     "metadata": {},
     "output_type": "execute_result"
    }
   ],
   "source": [
    "# nl_en\n",
    "nl_en_tasks = tasks_tickets_clients.loc[tasks_tickets_clients['language_pair'] == 'nl_en']\n",
    "enc=OneHotEncoder()\n",
    "nl_en_jde = enc.fit_transform(nl_en_tasks['domain'][:,None]).toarray()\n",
    "# fix col order to ['travel', 'fintech', 'ecommerce', 'sports', 'gamming', 'health_care']\n",
    "nl_en_jdedf = pd.DataFrame(nl_en_jde,columns=enc.categories_)\n",
    "nl_en_job_domain = nl_en_jdedf[domains].values\n",
    "nl_en_job_domain.shape"
   ]
  },
  {
   "cell_type": "code",
   "execution_count": 687,
   "metadata": {
    "ExecuteTime": {
     "end_time": "2019-10-24T08:08:09.511066Z",
     "start_time": "2019-10-24T08:08:09.497105Z"
    }
   },
   "outputs": [
    {
     "data": {
      "text/plain": [
       "(16290,)"
      ]
     },
     "execution_count": 687,
     "metadata": {},
     "output_type": "execute_result"
    }
   ],
   "source": [
    "nl_en_job_words = nl_en_tasks['number_words_x'].values\n",
    "nl_en_job_words.shape"
   ]
  },
  {
   "cell_type": "code",
   "execution_count": 688,
   "metadata": {
    "ExecuteTime": {
     "end_time": "2019-10-24T08:08:21.682126Z",
     "start_time": "2019-10-24T08:08:21.674147Z"
    }
   },
   "outputs": [
    {
     "data": {
      "text/plain": [
       "(89, 9)"
      ]
     },
     "execution_count": 688,
     "metadata": {},
     "output_type": "execute_result"
    }
   ],
   "source": [
    "nl_en_editors = editors_r[editors_r['language_pair']=='nl_en']\n",
    "nl_en_editors.shape"
   ]
  },
  {
   "cell_type": "code",
   "execution_count": 693,
   "metadata": {
    "ExecuteTime": {
     "end_time": "2019-10-24T08:09:05.752589Z",
     "start_time": "2019-10-24T08:09:05.744569Z"
    }
   },
   "outputs": [
    {
     "data": {
      "text/plain": [
       "(89, 6)"
      ]
     },
     "execution_count": 693,
     "metadata": {},
     "output_type": "execute_result"
    }
   ],
   "source": [
    "nl_en_editor_domain_skill = nl_en_editors[domains].values\n",
    "nl_en_editor_domain_skill.shape"
   ]
  },
  {
   "cell_type": "code",
   "execution_count": 696,
   "metadata": {
    "ExecuteTime": {
     "end_time": "2019-10-24T08:12:21.807710Z",
     "start_time": "2019-10-24T08:12:21.705982Z"
    }
   },
   "outputs": [
    {
     "data": {
      "text/plain": [
       "(89, 6)"
      ]
     },
     "execution_count": 696,
     "metadata": {},
     "output_type": "execute_result"
    }
   ],
   "source": [
    "nl_en_editor_domain_quality = pd.DataFrame(nl_en_editor_domain_skill).apply(lambda x: np.mean(x/5)*(x/5),axis=1).values\n",
    "nl_en_editor_domain_quality.shape"
   ]
  },
  {
   "cell_type": "code",
   "execution_count": 938,
   "metadata": {
    "ExecuteTime": {
     "end_time": "2019-10-24T12:00:16.908067Z",
     "start_time": "2019-10-24T12:00:16.218358Z"
    }
   },
   "outputs": [],
   "source": [
    "shape = (89,16290)\n",
    "mat1 = gen_rand_onezeromat(shape)"
   ]
  },
  {
   "cell_type": "code",
   "execution_count": 976,
   "metadata": {
    "ExecuteTime": {
     "end_time": "2019-10-24T12:28:22.828798Z",
     "start_time": "2019-10-24T12:28:16.951129Z"
    }
   },
   "outputs": [],
   "source": [
    "ini_pop = gen_pop(10,shape,42)"
   ]
  },
  {
   "cell_type": "code",
   "execution_count": 1000,
   "metadata": {
    "ExecuteTime": {
     "end_time": "2019-10-24T12:49:32.537650Z",
     "start_time": "2019-10-24T12:49:32.533657Z"
    }
   },
   "outputs": [],
   "source": [
    "def quality_per_job(_agent_job, _job_domain, _agent_domain_quality):\n",
    "    \"\"\"\n",
    "    Returns the quality per task in a matrix of agent_jobs assignment\n",
    "    \"\"\" \n",
    "    return (np.matmul(_job_domain, _agent_domain_quality.T) * _agent_job.T).sum(axis=1)\n",
    "\n",
    "def price_per_job(_agent_job, _job_domain, _agent_domain_skill, _job_words, _price_per_word):\n",
    "    \"\"\"\n",
    "    Returns the price per task in a matrix of agent_jobs assignment\n",
    "    \"\"\"\n",
    "    return (np.matmul(_job_domain, _agent_domain_skill.T) * _agent_job.T).sum(axis=1) * _job_words * _price_per_word"
   ]
  },
  {
   "cell_type": "code",
   "execution_count": null,
   "metadata": {},
   "outputs": [],
   "source": [
    "# _balance_penalty * range_factor * skew_factor * kurt_factor\n",
    "0.5 * 0.1 | 0.01 * "
   ]
  },
  {
   "cell_type": "code",
   "execution_count": 1033,
   "metadata": {
    "ExecuteTime": {
     "end_time": "2019-10-24T13:41:33.055847Z",
     "start_time": "2019-10-24T13:41:33.048830Z"
    }
   },
   "outputs": [
    {
     "data": {
      "text/plain": [
       "(3.5, 1.2, 0.8, -1.5)"
      ]
     },
     "execution_count": 1033,
     "metadata": {},
     "output_type": "execute_result"
    }
   ],
   "source": [
    "def kf(x):\n",
    "    return 1-x\n",
    "kf(-2.5), kf(-0.2),kf(0.2), kf(2.5)"
   ]
  },
  {
   "cell_type": "code",
   "execution_count": null,
   "metadata": {
    "ExecuteTime": {
     "end_time": "2019-10-24T13:56:47.714295Z",
     "start_time": "2019-10-24T13:56:47.663430Z"
    }
   },
   "outputs": [],
   "source": [
    "mat1_qual = quality_per_job(mat1, nl_en_job_domain, nl_en_editor_domain_quality)\n",
    "mat1_price = price_per_job(mat1, nl_en_job_domain, nl_en_editor_domain_skill, nl_en_job_words, ppw)"
   ]
  },
  {
   "cell_type": "code",
   "execution_count": 1445,
   "metadata": {
    "ExecuteTime": {
     "end_time": "2019-10-24T17:19:54.619255Z",
     "start_time": "2019-10-24T17:19:54.605290Z"
    }
   },
   "outputs": [],
   "source": [
    "def ind_fit_func(_agent_job, _job_domain, _agent_domain_quality, _balance_penalty):\n",
    "    \"\"\"\n",
    "    Consider quality and job assignment balance for now.\n",
    "    \"\"\"\n",
    "    total_quality = quality_per_job(_agent_job, _job_domain, _agent_domain_quality).sum()\n",
    "    jobs_per_agent = _agent_job.sum(axis=1)\n",
    "    range_factor = 1/jobs_per_agent.ptp()  # the bigger the range between min and max jobs per agent, the lower this factor\n",
    "\n",
    "    dist_skew = skew(jobs_per_agent)\n",
    "    # the bigger the skewness in absolute value of the distribution of jobs per agents, the lower this factor \n",
    "    skew_factor = 1-np.abs(dist_skew)\n",
    "\n",
    "    dist_kurt = kurtosis(jobs_per_agent)\n",
    "    # the bigger the kurtosis of the distribution of jobs per agents, the lower this factor\n",
    "    kurt_factor = 0.5*(2-dist_kurt)\n",
    "\n",
    "    balance_factor = range_factor * skew_factor * kurt_factor \n",
    "    # if _balance_penalty=1, _balance_penalty**(balance_factor)=1; \n",
    "        # increase _balance_penalty to increase the importance of this factor\n",
    "    fitness = total_quality * (_balance_penalty**balance_factor)\n",
    "    \n",
    "    return [fitness, total_quality, balance_factor, range_factor, dist_skew, dist_kurt]"
   ]
  },
  {
   "cell_type": "code",
   "execution_count": 1424,
   "metadata": {
    "ExecuteTime": {
     "end_time": "2019-10-24T16:39:51.348463Z",
     "start_time": "2019-10-24T16:39:51.118080Z"
    }
   },
   "outputs": [
    {
     "name": "stdout",
     "output_type": "stream",
     "text": [
      "[4715.206666666667, 4715.206666666667, 0.02324309620673792]\n"
     ]
    },
    {
     "data": {
      "text/plain": [
       "<matplotlib.axes._subplots.AxesSubplot at 0x25d05b41b70>"
      ]
     },
     "execution_count": 1424,
     "metadata": {},
     "output_type": "execute_result"
    },
    {
     "data": {
      "image/png": "[encoded data removed]",
      "text/plain": [
       "<Figure size 432x288 with 1 Axes>"
      ]
     },
     "metadata": {
      "needs_background": "light"
     },
     "output_type": "display_data"
    }
   ],
   "source": [
    "popt=ini_pop[3]\n",
    "print(ind_fit_func(popt, nl_en_job_domain, nl_en_editor_domain_quality, 1))\n",
    "pd.Series(popt.sum(axis=1)).hist()"
   ]
  },
  {
   "cell_type": "code",
   "execution_count": 1446,
   "metadata": {
    "ExecuteTime": {
     "end_time": "2019-10-24T17:19:58.450482Z",
     "start_time": "2019-10-24T17:19:58.441506Z"
    }
   },
   "outputs": [],
   "source": [
    "def rank_pop(_pop, _job_domain, _agent_domain_quality, gen, _balance_penalty):\n",
    "    \"\"\"\n",
    "    Ranks a population using hte fitness function ind_fit_func. Returns a dataframe sorted down by fitness.\n",
    "    \"\"\"\n",
    "    colnames = ['index'] + 'fitness, total_quality, balance_factor, range_factor, dist_skew, dist_kurt'.split(', ')\n",
    "    pop_rank = []\n",
    "    for i in range(len(_pop)):\n",
    "        pop_rank.append([i] + ind_fit_func(_pop[i], _job_domain, _agent_domain_quality, _balance_penalty))\n",
    "    pop_rank_df = pd.DataFrame(pop_rank, columns=colnames).sort_values('fitness', ascending=False)\n",
    "    pop_rank_df['gen'] = gen\n",
    "    return pop_rank_df"
   ]
  },
  {
   "cell_type": "code",
   "execution_count": 1447,
   "metadata": {
    "ExecuteTime": {
     "end_time": "2019-10-24T17:21:09.651524Z",
     "start_time": "2019-10-24T17:20:07.288322Z"
    }
   },
   "outputs": [],
   "source": [
    "pop = [x.copy() for x in ini_pop]"
   ]
  },
  {
   "cell_type": "code",
   "execution_count": null,
   "metadata": {
    "ExecuteTime": {
     "start_time": "2019-10-24T18:34:49.667Z"
    }
   },
   "outputs": [],
   "source": [
    "def next_gen(pop, pop_rank_df, elite_size, mut_rate):\n",
    "    if elite_size%2!=0:\n",
    "        raise Exception('elite_size should be even or pop will decrease')\n",
    "    next_pop = []\n",
    "    # pass elite to next generation\n",
    "    elite_index = pop_rank_df['index'][:elite_size].values\n",
    "    for i in elite_index:\n",
    "        next_pop.append(pop[i])\n",
    "\n",
    "    matingpool_size = pop_rank_df.shape[0]-elite_size\n",
    "    # select mating pool based on fitness proportion\n",
    "    fit_arr = pop_rank_df['fitness'].values\n",
    "    fit_arr = np.array([i if i>0 else 1 for i in fit_arr])\n",
    "    fit_prop = fit_arr/fit_arr.sum()\n",
    "    selection = np.random.choice(pop_rank_df['index'],size=matingpool_size,replace=False,p=fit_prop)\n",
    "    # crossovers\n",
    "    for i in range(0,selection.size,2):\n",
    "        offsp1, offsp2 = rand_iec(pop[selection[i]], pop[selection[i+1]])\n",
    "        next_pop.append(offsp1)\n",
    "        next_pop.append(offsp2)\n",
    "    # mutations\n",
    "    next_pop = mutate_pop(next_pop, mut_rate)\n",
    "    return next_pop\n",
    "\n",
    "def genetic_algorithm(_pop, elite_size, mut_rate, balance_penalty, \n",
    "                      generations, _job_domain, _agent_domain_quality):\n",
    "    pop_ranks = []\n",
    "    # pop zero\n",
    "    pop_rank_df = rank_pop(_pop, _job_domain, _agent_domain_quality, 0, balance_penalty)\n",
    "    pop_ranks.append(pop_rank_df)\n",
    "\n",
    "    for gen in range(1,generations):\n",
    "        pop = next_gen(_pop, pop_rank_df, elite_size, mut_rate)\n",
    "        pop_rank_df = rank_pop(_pop, _job_domain, _agent_domain_quality, gen, balance_penalty)\n",
    "        print(pop_rank_df.head(1))\n",
    "        pop_ranks.append(pop_rank_df)\n",
    "    return pop_ranks"
   ]
  },
  {
   "cell_type": "code",
   "execution_count": 1448,
   "metadata": {
    "ExecuteTime": {
     "end_time": "2019-10-24T17:21:55.875831Z",
     "start_time": "2019-10-24T17:21:55.593586Z"
    }
   },
   "outputs": [
    {
     "data": {
      "text/html": [
       "<div>\n",
       "<style scoped>\n",
       "    .dataframe tbody tr th:only-of-type {\n",
       "        vertical-align: middle;\n",
       "    }\n",
       "\n",
       "    .dataframe tbody tr th {\n",
       "        vertical-align: top;\n",
       "    }\n",
       "\n",
       "    .dataframe thead th {\n",
       "        text-align: right;\n",
       "    }\n",
       "</style>\n",
       "<table border=\"1\" class=\"dataframe\">\n",
       "  <thead>\n",
       "    <tr style=\"text-align: right;\">\n",
       "      <th></th>\n",
       "      <th>index</th>\n",
       "      <th>fitness</th>\n",
       "      <th>total_quality</th>\n",
       "      <th>balance_factor</th>\n",
       "      <th>range_factor</th>\n",
       "      <th>dist_skew</th>\n",
       "      <th>dist_kurt</th>\n",
       "      <th>gen</th>\n",
       "    </tr>\n",
       "  </thead>\n",
       "  <tbody>\n",
       "    <tr>\n",
       "      <th>3</th>\n",
       "      <td>3</td>\n",
       "      <td>5247.916604</td>\n",
       "      <td>4715.206667</td>\n",
       "      <td>0.023243</td>\n",
       "      <td>0.019608</td>\n",
       "      <td>-0.049498</td>\n",
       "      <td>-0.494257</td>\n",
       "      <td>0</td>\n",
       "    </tr>\n",
       "  </tbody>\n",
       "</table>\n",
       "</div>"
      ],
      "text/plain": [
       "   index      fitness  total_quality  balance_factor  range_factor  dist_skew  \\\n",
       "3      3  5247.916604    4715.206667        0.023243      0.019608  -0.049498   \n",
       "\n",
       "   dist_kurt  gen  \n",
       "3  -0.494257    0  "
      ]
     },
     "execution_count": 1448,
     "metadata": {},
     "output_type": "execute_result"
    }
   ],
   "source": [
    "rank_pop(ini_pop, nl_en_job_domain, nl_en_editor_domain_quality,0,_balance_penalty=100).head(1)"
   ]
  },
  {
   "cell_type": "code",
   "execution_count": 1437,
   "metadata": {
    "ExecuteTime": {
     "end_time": "2019-10-24T16:48:49.809590Z",
     "start_time": "2019-10-24T16:48:38.494868Z"
    },
    "scrolled": true
   },
   "outputs": [
    {
     "name": "stdout",
     "output_type": "stream",
     "text": [
      "   index      fitness  total_quality   balance  gen\n",
      "0      0  5335.955129    4749.973333  0.029736    1\n",
      "   index      fitness  total_quality   balance  gen\n",
      "0      0  5335.955129    4749.973333  0.029736    2\n",
      "   index      fitness  total_quality   balance  gen\n",
      "0      0  5335.955129    4749.973333  0.029736    3\n",
      "   index      fitness  total_quality   balance  gen\n",
      "0      0  5335.955129    4749.973333  0.029736    4\n",
      "   index      fitness  total_quality   balance  gen\n",
      "0      0  5335.955129    4749.973333  0.029736    5\n",
      "   index      fitness  total_quality   balance  gen\n",
      "0      0  5335.955129    4749.973333  0.029736    6\n",
      "   index      fitness  total_quality   balance  gen\n",
      "0      0  5335.955129    4749.973333  0.029736    7\n",
      "   index      fitness  total_quality   balance  gen\n",
      "0      0  5335.955129    4749.973333  0.029736    8\n",
      "   index      fitness  total_quality   balance  gen\n",
      "0      0  5335.955129    4749.973333  0.029736    9\n",
      "   index      fitness  total_quality   balance  gen\n",
      "0      0  5335.955129    4749.973333  0.029736   10\n",
      "   index      fitness  total_quality   balance  gen\n",
      "0      0  5335.955129    4749.973333  0.029736   11\n",
      "   index      fitness  total_quality   balance  gen\n",
      "0      0  5335.955129    4749.973333  0.029736   12\n",
      "   index      fitness  total_quality   balance  gen\n",
      "0      0  5335.955129    4749.973333  0.029736   13\n",
      "   index      fitness  total_quality   balance  gen\n",
      "0      0  5335.955129    4749.973333  0.029736   14\n",
      "   index      fitness  total_quality   balance  gen\n",
      "0      0  5335.955129    4749.973333  0.029736   15\n",
      "   index      fitness  total_quality   balance  gen\n",
      "0      0  5335.955129    4749.973333  0.029736   16\n",
      "   index      fitness  total_quality   balance  gen\n",
      "0      0  5335.955129    4749.973333  0.029736   17\n",
      "   index      fitness  total_quality   balance  gen\n",
      "0      0  5335.955129    4749.973333  0.029736   18\n",
      "   index      fitness  total_quality   balance  gen\n",
      "3      3  5342.599945    4755.166667  0.029775   19\n",
      "   index      fitness  total_quality   balance  gen\n",
      "0      0  5342.599945    4755.166667  0.029775   20\n",
      "   index      fitness  total_quality   balance  gen\n",
      "0      0  5342.599945    4755.166667  0.029775   21\n",
      "   index      fitness  total_quality   balance  gen\n",
      "0      0  5342.599945    4755.166667  0.029775   22\n",
      "   index      fitness  total_quality   balance  gen\n",
      "0      0  5342.599945    4755.166667  0.029775   23\n",
      "   index      fitness  total_quality   balance  gen\n",
      "0      0  5342.599945    4755.166667  0.029775   24\n",
      "   index      fitness  total_quality   balance  gen\n",
      "0      0  5342.599945    4755.166667  0.029775   25\n",
      "   index      fitness  total_quality   balance  gen\n",
      "0      0  5342.599945    4755.166667  0.029775   26\n",
      "   index      fitness  total_quality   balance  gen\n",
      "0      0  5342.599945    4755.166667  0.029775   27\n",
      "   index      fitness  total_quality   balance  gen\n",
      "0      0  5342.599945    4755.166667  0.029775   28\n",
      "   index      fitness  total_quality   balance  gen\n",
      "0      0  5342.599945    4755.166667  0.029775   29\n",
      "   index      fitness  total_quality   balance  gen\n",
      "0      0  5342.599945    4755.166667  0.029775   30\n",
      "   index      fitness  total_quality   balance  gen\n",
      "3      3  5352.606904    4764.073333  0.029775   31\n",
      "   index      fitness  total_quality   balance  gen\n",
      "0      0  5352.606904    4764.073333  0.029775   32\n",
      "   index      fitness  total_quality   balance  gen\n",
      "0      0  5352.606904    4764.073333  0.029775   33\n",
      "   index      fitness  total_quality   balance  gen\n",
      "0      0  5352.606904    4764.073333  0.029775   34\n",
      "   index      fitness  total_quality   balance  gen\n",
      "0      0  5352.606904    4764.073333  0.029775   35\n",
      "   index      fitness  total_quality   balance  gen\n",
      "0      0  5352.606904    4764.073333  0.029775   36\n",
      "   index      fitness  total_quality   balance  gen\n",
      "0      0  5352.606904    4764.073333  0.029775   37\n",
      "   index      fitness  total_quality   balance  gen\n",
      "0      0  5352.606904    4764.073333  0.029775   38\n",
      "   index      fitness  total_quality   balance  gen\n",
      "0      0  5352.606904    4764.073333  0.029775   39\n"
     ]
    }
   ],
   "source": [
    "shape = (89,16290)\n",
    "ini_pop = gen_pop(10,shape,42)\n",
    "\n",
    "elite_size = 2\n",
    "mut_rate = 0.1\n",
    "balance_penalty = 50\n",
    "generations = 10\n",
    "\n",
    "pop_ranks = genetic_algorithm(ini_pop, elite_size, mut_rate, balance_penalty, \n",
    "                      generations, nl_en_job_domain, nl_en_editor_domain_quality)"
   ]
  },
  {
   "cell_type": "code",
   "execution_count": 1438,
   "metadata": {
    "ExecuteTime": {
     "end_time": "2019-10-24T16:49:20.449374Z",
     "start_time": "2019-10-24T16:49:20.228967Z"
    }
   },
   "outputs": [
    {
     "data": {
      "text/plain": [
       "<matplotlib.axes._subplots.AxesSubplot at 0x25d05cc2fd0>"
      ]
     },
     "execution_count": 1438,
     "metadata": {},
     "output_type": "execute_result"
    },
    {
     "data": {
      "image/png": "[encoded data removed]",
      "text/plain": [
       "<Figure size 432x288 with 1 Axes>"
      ]
     },
     "metadata": {
      "needs_background": "light"
     },
     "output_type": "display_data"
    }
   ],
   "source": [
    "allpop_ranks = pd.concat(pop_ranks)\n",
    "allpop_ranks.groupby('gen')['fitness'].max().plot()"
   ]
  },
  {
   "cell_type": "code",
   "execution_count": 1370,
   "metadata": {
    "ExecuteTime": {
     "end_time": "2019-10-24T16:10:02.219248Z",
     "start_time": "2019-10-24T16:10:02.208277Z"
    }
   },
   "outputs": [
    {
     "data": {
      "text/plain": [
       "0.9778053675998924"
      ]
     },
     "execution_count": 1370,
     "metadata": {},
     "output_type": "execute_result"
    }
   ],
   "source": [
    "(pop[0] == ini_pop[0]).mean()"
   ]
  },
  {
   "cell_type": "code",
   "execution_count": 1177,
   "metadata": {
    "ExecuteTime": {
     "end_time": "2019-10-24T15:45:04.572625Z",
     "start_time": "2019-10-24T15:45:04.548689Z"
    }
   },
   "outputs": [],
   "source": [
    "pop[0],pop[1] = rand_iec(pop[0],pop[1])"
   ]
  },
  {
   "cell_type": "code",
   "execution_count": 1160,
   "metadata": {
    "ExecuteTime": {
     "end_time": "2019-10-24T15:38:02.904812Z",
     "start_time": "2019-10-24T15:38:02.899821Z"
    }
   },
   "outputs": [
    {
     "data": {
      "text/plain": [
       "8"
      ]
     },
     "execution_count": 1160,
     "metadata": {},
     "output_type": "execute_result"
    }
   ],
   "source": []
  },
  {
   "cell_type": "code",
   "execution_count": 1377,
   "metadata": {
    "ExecuteTime": {
     "end_time": "2019-10-24T16:19:16.111553Z",
     "start_time": "2019-10-24T16:19:16.105530Z"
    }
   },
   "outputs": [
    {
     "data": {
      "text/plain": [
       "array([1. , 2.3])"
      ]
     },
     "execution_count": 1377,
     "metadata": {},
     "output_type": "execute_result"
    }
   ],
   "source": [
    "np.array([1,2.3])"
   ]
  },
  {
   "cell_type": "code",
   "execution_count": 1381,
   "metadata": {
    "ExecuteTime": {
     "end_time": "2019-10-24T16:20:58.319442Z",
     "start_time": "2019-10-24T16:20:58.311463Z"
    }
   },
   "outputs": [
    {
     "data": {
      "text/plain": [
       "[1, 2, 3, 1, 5]"
      ]
     },
     "execution_count": 1381,
     "metadata": {},
     "output_type": "execute_result"
    }
   ],
   "source": [
    "a = np.array([1,2,3,-4,5])\n",
    "[i if i>0 else 1 for i in a ]"
   ]
  },
  {
   "cell_type": "code",
   "execution_count": 1449,
   "metadata": {
    "ExecuteTime": {
     "end_time": "2019-10-24T17:30:27.842910Z",
     "start_time": "2019-10-24T17:28:24.800711Z"
    }
   },
   "outputs": [],
   "source": [
    "shape = (89,16290)\n",
    "ini_pop2 = gen_pop(200,shape,42)"
   ]
  },
  {
   "cell_type": "code",
   "execution_count": 1450,
   "metadata": {
    "ExecuteTime": {
     "end_time": "2019-10-24T17:30:33.813478Z",
     "start_time": "2019-10-24T17:30:27.847442Z"
    }
   },
   "outputs": [],
   "source": [
    "pop = [x.copy() for x in ini_pop2]"
   ]
  },
  {
   "cell_type": "code",
   "execution_count": 1451,
   "metadata": {
    "ExecuteTime": {
     "end_time": "2019-10-24T18:10:00.417880Z",
     "start_time": "2019-10-24T17:30:33.857360Z"
    },
    "scrolled": true
   },
   "outputs": [
    {
     "name": "stdout",
     "output_type": "stream",
     "text": [
      "   index      fitness  total_quality  balance_factor  range_factor  dist_skew  \\\n",
      "0      0  5236.387577    4770.506667        0.023819      0.017241   0.048626   \n",
      "\n",
      "   dist_kurt  gen  \n",
      "0  -0.904189    1  \n",
      "    index      fitness  total_quality  balance_factor  range_factor  \\\n",
      "27     27  5295.200233         4716.9        0.029562          0.02   \n",
      "\n",
      "    dist_skew  dist_kurt  gen  \n",
      "27  -0.004151  -0.968568    2  \n",
      "   index      fitness  total_quality  balance_factor  range_factor  dist_skew  \\\n",
      "0      0  5295.200233         4716.9        0.029562          0.02  -0.004151   \n",
      "\n",
      "   dist_kurt  gen  \n",
      "0  -0.968568    3  \n",
      "   index      fitness  total_quality  balance_factor  range_factor  dist_skew  \\\n",
      "0      0  5295.200233         4716.9        0.029562          0.02  -0.004151   \n",
      "\n",
      "   dist_kurt  gen  \n",
      "0  -0.968568    4  \n",
      "     index      fitness  total_quality  balance_factor  range_factor  \\\n",
      "165    165  5321.551575    4736.233333        0.029786      0.021277   \n",
      "\n",
      "     dist_skew  dist_kurt  gen  \n",
      "165  -0.021023  -0.859991    5  \n",
      "   index      fitness  total_quality  balance_factor  range_factor  dist_skew  \\\n",
      "0      0  5321.551575    4736.233333        0.029786      0.021277  -0.021023   \n",
      "\n",
      "   dist_kurt  gen  \n",
      "0  -0.859991    6  \n",
      "   index      fitness  total_quality  balance_factor  range_factor  dist_skew  \\\n",
      "0      0  5321.551575    4736.233333        0.029786      0.021277  -0.021023   \n",
      "\n",
      "   dist_kurt  gen  \n",
      "0  -0.859991    7  \n",
      "   index      fitness  total_quality  balance_factor  range_factor  dist_skew  \\\n",
      "0      0  5321.551575    4736.233333        0.029786      0.021277  -0.021023   \n",
      "\n",
      "   dist_kurt  gen  \n",
      "0  -0.859991    8  \n",
      "   index      fitness  total_quality  balance_factor  range_factor  dist_skew  \\\n",
      "0      0  5321.551575    4736.233333        0.029786      0.021277  -0.021023   \n",
      "\n",
      "   dist_kurt  gen  \n",
      "0  -0.859991    9  \n",
      "   index      fitness  total_quality  balance_factor  range_factor  dist_skew  \\\n",
      "0      0  5321.551575    4736.233333        0.029786      0.021277  -0.021023   \n",
      "\n",
      "   dist_kurt  gen  \n",
      "0  -0.859991   10  \n",
      "   index      fitness  total_quality  balance_factor  range_factor  dist_skew  \\\n",
      "0      0  5321.551575    4736.233333        0.029786      0.021277  -0.021023   \n",
      "\n",
      "   dist_kurt  gen  \n",
      "0  -0.859991   11  \n",
      "     index      fitness  total_quality  balance_factor  range_factor  \\\n",
      "118    118  5335.957047    4745.726667        0.029965      0.022727   \n",
      "\n",
      "     dist_skew  dist_kurt  gen  \n",
      "118  -0.088994  -0.894512   12  \n",
      "   index      fitness  total_quality  balance_factor  range_factor  dist_skew  \\\n",
      "0      0  5335.957047    4745.726667        0.029965      0.022727  -0.088994   \n",
      "\n",
      "   dist_kurt  gen  \n",
      "0  -0.894512   13  \n",
      "   index      fitness  total_quality  balance_factor  range_factor  dist_skew  \\\n",
      "0      0  5335.957047    4745.726667        0.029965      0.022727  -0.088994   \n",
      "\n",
      "   dist_kurt  gen  \n",
      "0  -0.894512   14  \n",
      "    index      fitness  total_quality  balance_factor  range_factor  \\\n",
      "96     96  5358.273778        4746.56        0.030987      0.021739   \n",
      "\n",
      "    dist_skew  dist_kurt  gen  \n",
      "96  -0.020038  -0.909094   15  \n",
      "   index      fitness  total_quality  balance_factor  range_factor  dist_skew  \\\n",
      "0      0  5358.273778        4746.56        0.030987      0.021739  -0.020038   \n",
      "\n",
      "   dist_kurt  gen  \n",
      "0  -0.909094   16  \n",
      "   index      fitness  total_quality  balance_factor  range_factor  dist_skew  \\\n",
      "0      0  5358.273778        4746.56        0.030987      0.021739  -0.020038   \n",
      "\n",
      "   dist_kurt  gen  \n",
      "0  -0.909094   17  \n",
      "   index      fitness  total_quality  balance_factor  range_factor  dist_skew  \\\n",
      "0      0  5358.273778        4746.56        0.030987      0.021739  -0.020038   \n",
      "\n",
      "   dist_kurt  gen  \n",
      "0  -0.909094   18  \n",
      "   index      fitness  total_quality  balance_factor  range_factor  dist_skew  \\\n",
      "0      0  5358.273778        4746.56        0.030987      0.021739  -0.020038   \n",
      "\n",
      "   dist_kurt  gen  \n",
      "0  -0.909094   19  \n",
      "   index      fitness  total_quality  balance_factor  range_factor  dist_skew  \\\n",
      "0      0  5358.273778        4746.56        0.030987      0.021739  -0.020038   \n",
      "\n",
      "   dist_kurt  gen  \n",
      "0  -0.909094   20  \n",
      "   index      fitness  total_quality  balance_factor  range_factor  dist_skew  \\\n",
      "0      0  5358.273778        4746.56        0.030987      0.021739  -0.020038   \n",
      "\n",
      "   dist_kurt  gen  \n",
      "0  -0.909094   21  \n",
      "   index      fitness  total_quality  balance_factor  range_factor  dist_skew  \\\n",
      "0      0  5358.273778        4746.56        0.030987      0.021739  -0.020038   \n",
      "\n",
      "   dist_kurt  gen  \n",
      "0  -0.909094   22  \n",
      "   index      fitness  total_quality  balance_factor  range_factor  dist_skew  \\\n",
      "0      0  5358.273778        4746.56        0.030987      0.021739  -0.020038   \n",
      "\n",
      "   dist_kurt  gen  \n",
      "0  -0.909094   23  \n",
      "   index      fitness  total_quality  balance_factor  range_factor  dist_skew  \\\n",
      "0      0  5358.273778        4746.56        0.030987      0.021739  -0.020038   \n",
      "\n",
      "   dist_kurt  gen  \n",
      "0  -0.909094   24  \n",
      "   index      fitness  total_quality  balance_factor  range_factor  dist_skew  \\\n",
      "0      0  5358.273778        4746.56        0.030987      0.021739  -0.020038   \n",
      "\n",
      "   dist_kurt  gen  \n",
      "0  -0.909094   25  \n",
      "   index      fitness  total_quality  balance_factor  range_factor  dist_skew  \\\n",
      "0      0  5358.130788    4746.433333        0.030987      0.021739  -0.020038   \n",
      "\n",
      "   dist_kurt  gen  \n",
      "0  -0.909094   26  \n",
      "    index      fitness  total_quality  balance_factor  range_factor  \\\n",
      "65     65  5396.499074    4753.466667        0.032432       0.02381   \n",
      "\n",
      "    dist_skew  dist_kurt  gen  \n",
      "65  -0.058944   -0.89496   27  \n",
      "   index      fitness  total_quality  balance_factor  range_factor  dist_skew  \\\n",
      "0      0  5396.499074    4753.466667        0.032432       0.02381  -0.058944   \n",
      "\n",
      "   dist_kurt  gen  \n",
      "0   -0.89496   28  \n",
      "   index      fitness  total_quality  balance_factor  range_factor  dist_skew  \\\n",
      "0      0  5396.499074    4753.466667        0.032432       0.02381  -0.058944   \n",
      "\n",
      "   dist_kurt  gen  \n",
      "0   -0.89496   29  \n",
      "   index      fitness  total_quality  balance_factor  range_factor  dist_skew  \\\n",
      "0      0  5396.499074    4753.466667        0.032432       0.02381  -0.058944   \n",
      "\n",
      "   dist_kurt  gen  \n",
      "0   -0.89496   30  \n",
      "     index      fitness  total_quality  balance_factor  range_factor  \\\n",
      "115    115  5441.847674    4752.626667        0.034617       0.02439   \n",
      "\n",
      "     dist_skew  dist_kurt  gen  \n",
      "115  -0.026466  -0.915734   31  \n",
      "   index      fitness  total_quality  balance_factor  range_factor  dist_skew  \\\n",
      "0      0  5441.847674    4752.626667        0.034617       0.02439  -0.026466   \n",
      "\n",
      "   dist_kurt  gen  \n",
      "0  -0.915734   32  \n",
      "   index      fitness  total_quality  balance_factor  range_factor  dist_skew  \\\n",
      "0      0  5441.847674    4752.626667        0.034617       0.02439  -0.026466   \n",
      "\n",
      "   dist_kurt  gen  \n",
      "0  -0.915734   33  \n",
      "   index      fitness  total_quality  balance_factor  range_factor  dist_skew  \\\n",
      "0      0  5441.847674    4752.626667        0.034617       0.02439  -0.026466   \n",
      "\n",
      "   dist_kurt  gen  \n",
      "0  -0.915734   34  \n",
      "   index      fitness  total_quality  balance_factor  range_factor  dist_skew  \\\n",
      "0      0  5441.847674    4752.626667        0.034617       0.02439  -0.026466   \n",
      "\n",
      "   dist_kurt  gen  \n",
      "0  -0.915734   35  \n",
      "   index      fitness  total_quality  balance_factor  range_factor  dist_skew  \\\n",
      "0      0  5441.847674    4752.626667        0.034617       0.02439  -0.026466   \n",
      "\n",
      "   dist_kurt  gen  \n",
      "0  -0.915734   36  \n",
      "   index      fitness  total_quality  balance_factor  range_factor  dist_skew  \\\n",
      "0      0  5441.847674    4752.626667        0.034617       0.02439  -0.026466   \n",
      "\n",
      "   dist_kurt  gen  \n",
      "0  -0.915734   37  \n",
      "   index      fitness  total_quality  balance_factor  range_factor  dist_skew  \\\n",
      "0      0  5441.847674    4752.626667        0.034617       0.02439  -0.026466   \n",
      "\n",
      "   dist_kurt  gen  \n",
      "0  -0.915734   38  \n",
      "   index      fitness  total_quality  balance_factor  range_factor  dist_skew  \\\n",
      "0      0  5441.847674    4752.626667        0.034617       0.02439  -0.026466   \n",
      "\n",
      "   dist_kurt  gen  \n",
      "0  -0.915734   39  \n",
      "   index      fitness  total_quality  balance_factor  range_factor  dist_skew  \\\n",
      "0      0  5441.847674    4752.626667        0.034617       0.02439  -0.026466   \n",
      "\n",
      "   dist_kurt  gen  \n",
      "0  -0.915734   40  \n",
      "   index      fitness  total_quality  balance_factor  range_factor  dist_skew  \\\n",
      "0      0  5441.847674    4752.626667        0.034617       0.02439  -0.026466   \n",
      "\n",
      "   dist_kurt  gen  \n",
      "0  -0.915734   41  \n"
     ]
    },
    {
     "name": "stdout",
     "output_type": "stream",
     "text": [
      "   index      fitness  total_quality  balance_factor  range_factor  dist_skew  \\\n",
      "0      0  5441.847674    4752.626667        0.034617       0.02439  -0.026466   \n",
      "\n",
      "   dist_kurt  gen  \n",
      "0  -0.915734   42  \n",
      "   index      fitness  total_quality  balance_factor  range_factor  dist_skew  \\\n",
      "0      0  5441.847674    4752.626667        0.034617       0.02439  -0.026466   \n",
      "\n",
      "   dist_kurt  gen  \n",
      "0  -0.915734   43  \n",
      "   index      fitness  total_quality  balance_factor  range_factor  dist_skew  \\\n",
      "0      0  5441.847674    4752.626667        0.034617       0.02439  -0.026466   \n",
      "\n",
      "   dist_kurt  gen  \n",
      "0  -0.915734   44  \n",
      "   index      fitness  total_quality  balance_factor  range_factor  dist_skew  \\\n",
      "0      0  5441.847674    4752.626667        0.034617       0.02439  -0.026466   \n",
      "\n",
      "   dist_kurt  gen  \n",
      "0  -0.915734   45  \n",
      "   index      fitness  total_quality  balance_factor  range_factor  dist_skew  \\\n",
      "0      0  5441.847674    4752.626667        0.034617       0.02439  -0.026466   \n",
      "\n",
      "   dist_kurt  gen  \n",
      "0  -0.915734   46  \n",
      "    index     fitness  total_quality  balance_factor  range_factor  dist_skew  \\\n",
      "33     33  5487.26396    4738.126667        0.037522         0.025  -0.003859   \n",
      "\n",
      "    dist_kurt  gen  \n",
      "33   -1.01341   47  \n",
      "   index     fitness  total_quality  balance_factor  range_factor  dist_skew  \\\n",
      "0      0  5487.26396    4738.126667        0.037522         0.025  -0.003859   \n",
      "\n",
      "   dist_kurt  gen  \n",
      "0   -1.01341   48  \n",
      "   index     fitness  total_quality  balance_factor  range_factor  dist_skew  \\\n",
      "0      0  5487.26396    4738.126667        0.037522         0.025  -0.003859   \n",
      "\n",
      "   dist_kurt  gen  \n",
      "0   -1.01341   49  \n",
      "   index     fitness  total_quality  balance_factor  range_factor  dist_skew  \\\n",
      "0      0  5487.26396    4738.126667        0.037522         0.025  -0.003859   \n",
      "\n",
      "   dist_kurt  gen  \n",
      "0   -1.01341   50  \n",
      "   index     fitness  total_quality  balance_factor  range_factor  dist_skew  \\\n",
      "0      0  5487.26396    4738.126667        0.037522         0.025  -0.003859   \n",
      "\n",
      "   dist_kurt  gen  \n",
      "0   -1.01341   51  \n",
      "   index     fitness  total_quality  balance_factor  range_factor  dist_skew  \\\n",
      "0      0  5487.26396    4738.126667        0.037522         0.025  -0.003859   \n",
      "\n",
      "   dist_kurt  gen  \n",
      "0   -1.01341   52  \n",
      "   index     fitness  total_quality  balance_factor  range_factor  dist_skew  \\\n",
      "0      0  5487.26396    4738.126667        0.037522         0.025  -0.003859   \n",
      "\n",
      "   dist_kurt  gen  \n",
      "0   -1.01341   53  \n",
      "   index     fitness  total_quality  balance_factor  range_factor  dist_skew  \\\n",
      "0      0  5487.26396    4738.126667        0.037522         0.025  -0.003859   \n",
      "\n",
      "   dist_kurt  gen  \n",
      "0   -1.01341   54  \n",
      "   index     fitness  total_quality  balance_factor  range_factor  dist_skew  \\\n",
      "0      0  5487.26396    4738.126667        0.037522         0.025  -0.003859   \n",
      "\n",
      "   dist_kurt  gen  \n",
      "0   -1.01341   55  \n",
      "   index     fitness  total_quality  balance_factor  range_factor  dist_skew  \\\n",
      "0      0  5487.26396    4738.126667        0.037522         0.025  -0.003859   \n",
      "\n",
      "   dist_kurt  gen  \n",
      "0   -1.01341   56  \n",
      "   index     fitness  total_quality  balance_factor  range_factor  dist_skew  \\\n",
      "0      0  5487.26396    4738.126667        0.037522         0.025  -0.003859   \n",
      "\n",
      "   dist_kurt  gen  \n",
      "0   -1.01341   57  \n",
      "   index     fitness  total_quality  balance_factor  range_factor  dist_skew  \\\n",
      "0      0  5487.26396    4738.126667        0.037522         0.025  -0.003859   \n",
      "\n",
      "   dist_kurt  gen  \n",
      "0   -1.01341   58  \n",
      "   index     fitness  total_quality  balance_factor  range_factor  dist_skew  \\\n",
      "0      0  5487.26396    4738.126667        0.037522         0.025  -0.003859   \n",
      "\n",
      "   dist_kurt  gen  \n",
      "0   -1.01341   59  \n",
      "   index     fitness  total_quality  balance_factor  range_factor  dist_skew  \\\n",
      "0      0  5487.26396    4738.126667        0.037522         0.025  -0.003859   \n",
      "\n",
      "   dist_kurt  gen  \n",
      "0   -1.01341   60  \n",
      "   index     fitness  total_quality  balance_factor  range_factor  dist_skew  \\\n",
      "0      0  5487.26396    4738.126667        0.037522         0.025  -0.003859   \n",
      "\n",
      "   dist_kurt  gen  \n",
      "0   -1.01341   61  \n",
      "   index     fitness  total_quality  balance_factor  range_factor  dist_skew  \\\n",
      "0      0  5487.26396    4738.126667        0.037522         0.025  -0.003859   \n",
      "\n",
      "   dist_kurt  gen  \n",
      "0   -1.01341   62  \n",
      "   index     fitness  total_quality  balance_factor  range_factor  dist_skew  \\\n",
      "0      0  5487.26396    4738.126667        0.037522         0.025  -0.003859   \n",
      "\n",
      "   dist_kurt  gen  \n",
      "0   -1.01341   63  \n",
      "   index     fitness  total_quality  balance_factor  range_factor  dist_skew  \\\n",
      "0      0  5487.26396    4738.126667        0.037522         0.025  -0.003859   \n",
      "\n",
      "   dist_kurt  gen  \n",
      "0   -1.01341   64  \n",
      "   index     fitness  total_quality  balance_factor  range_factor  dist_skew  \\\n",
      "0      0  5487.26396    4738.126667        0.037522         0.025  -0.003859   \n",
      "\n",
      "   dist_kurt  gen  \n",
      "0   -1.01341   65  \n",
      "   index     fitness  total_quality  balance_factor  range_factor  dist_skew  \\\n",
      "0      0  5487.26396    4738.126667        0.037522         0.025  -0.003859   \n",
      "\n",
      "   dist_kurt  gen  \n",
      "0   -1.01341   66  \n",
      "   index     fitness  total_quality  balance_factor  range_factor  dist_skew  \\\n",
      "0      0  5487.26396    4738.126667        0.037522         0.025  -0.003859   \n",
      "\n",
      "   dist_kurt  gen  \n",
      "0   -1.01341   67  \n",
      "   index     fitness  total_quality  balance_factor  range_factor  dist_skew  \\\n",
      "0      0  5487.26396    4738.126667        0.037522         0.025  -0.003859   \n",
      "\n",
      "   dist_kurt  gen  \n",
      "0   -1.01341   68  \n",
      "    index      fitness  total_quality  balance_factor  range_factor  \\\n",
      "87     87  5498.721511        4748.02        0.037522         0.025   \n",
      "\n",
      "    dist_skew  dist_kurt  gen  \n",
      "87  -0.003859   -1.01341   69  \n",
      "   index      fitness  total_quality  balance_factor  range_factor  dist_skew  \\\n",
      "0      0  5498.721511        4748.02        0.037522         0.025  -0.003859   \n",
      "\n",
      "   dist_kurt  gen  \n",
      "0   -1.01341   70  \n",
      "   index      fitness  total_quality  balance_factor  range_factor  dist_skew  \\\n",
      "0      0  5498.721511        4748.02        0.037522         0.025  -0.003859   \n",
      "\n",
      "   dist_kurt  gen  \n",
      "0   -1.01341   71  \n",
      "   index      fitness  total_quality  balance_factor  range_factor  dist_skew  \\\n",
      "0      0  5498.721511        4748.02        0.037522         0.025  -0.003859   \n",
      "\n",
      "   dist_kurt  gen  \n",
      "0   -1.01341   72  \n",
      "   index      fitness  total_quality  balance_factor  range_factor  dist_skew  \\\n",
      "0      0  5498.721511        4748.02        0.037522         0.025  -0.003859   \n",
      "\n",
      "   dist_kurt  gen  \n",
      "0   -1.01341   73  \n",
      "     index      fitness  total_quality  balance_factor  range_factor  \\\n",
      "151    151  5519.209303        4728.88        0.039505      0.025641   \n",
      "\n",
      "     dist_skew  dist_kurt  gen  \n",
      "151  -0.002296  -1.088515   74  \n",
      "    index      fitness  total_quality  balance_factor  range_factor  \\\n",
      "30     30  5529.643429        4737.82        0.039505      0.025641   \n",
      "\n",
      "    dist_skew  dist_kurt  gen  \n",
      "30  -0.002296  -1.088515   75  \n",
      "   index      fitness  total_quality  balance_factor  range_factor  dist_skew  \\\n",
      "0      0  5529.643429        4737.82        0.039505      0.025641  -0.002296   \n",
      "\n",
      "   dist_kurt  gen  \n",
      "0  -1.088515   76  \n",
      "   index      fitness  total_quality  balance_factor  range_factor  dist_skew  \\\n",
      "0      0  5529.643429        4737.82        0.039505      0.025641  -0.002296   \n",
      "\n",
      "   dist_kurt  gen  \n",
      "0  -1.088515   77  \n",
      "   index      fitness  total_quality  balance_factor  range_factor  dist_skew  \\\n",
      "0      0  5529.643429        4737.82        0.039505      0.025641  -0.002296   \n",
      "\n",
      "   dist_kurt  gen  \n",
      "0  -1.088515   78  \n",
      "   index      fitness  total_quality  balance_factor  range_factor  dist_skew  \\\n",
      "0      0  5529.643429        4737.82        0.039505      0.025641  -0.002296   \n",
      "\n",
      "   dist_kurt  gen  \n",
      "0  -1.088515   79  \n",
      "   index      fitness  total_quality  balance_factor  range_factor  dist_skew  \\\n",
      "0      0  5529.643429        4737.82        0.039505      0.025641  -0.002296   \n",
      "\n",
      "   dist_kurt  gen  \n",
      "0  -1.088515   80  \n",
      "   index      fitness  total_quality  balance_factor  range_factor  dist_skew  \\\n",
      "0      0  5529.643429        4737.82        0.039505      0.025641  -0.002296   \n",
      "\n",
      "   dist_kurt  gen  \n",
      "0  -1.088515   81  \n",
      "   index      fitness  total_quality  balance_factor  range_factor  dist_skew  \\\n",
      "0      0  5529.643429        4737.82        0.039505      0.025641  -0.002296   \n",
      "\n",
      "   dist_kurt  gen  \n",
      "0  -1.088515   82  \n"
     ]
    },
    {
     "name": "stdout",
     "output_type": "stream",
     "text": [
      "   index      fitness  total_quality  balance_factor  range_factor  dist_skew  \\\n",
      "0      0  5529.643429        4737.82        0.039505      0.025641  -0.002296   \n",
      "\n",
      "   dist_kurt  gen  \n",
      "0  -1.088515   83  \n",
      "   index      fitness  total_quality  balance_factor  range_factor  dist_skew  \\\n",
      "0      0  5529.643429        4737.82        0.039505      0.025641  -0.002296   \n",
      "\n",
      "   dist_kurt  gen  \n",
      "0  -1.088515   84  \n",
      "   index      fitness  total_quality  balance_factor  range_factor  dist_skew  \\\n",
      "0      0  5529.643429        4737.82        0.039505      0.025641  -0.002296   \n",
      "\n",
      "   dist_kurt  gen  \n",
      "0  -1.088515   85  \n",
      "   index      fitness  total_quality  balance_factor  range_factor  dist_skew  \\\n",
      "0      0  5529.643429        4737.82        0.039505      0.025641  -0.002296   \n",
      "\n",
      "   dist_kurt  gen  \n",
      "0  -1.088515   86  \n",
      "   index      fitness  total_quality  balance_factor  range_factor  dist_skew  \\\n",
      "0      0  5529.643429        4737.82        0.039505      0.025641  -0.002296   \n",
      "\n",
      "   dist_kurt  gen  \n",
      "0  -1.088515   87  \n",
      "   index      fitness  total_quality  balance_factor  range_factor  dist_skew  \\\n",
      "0      0  5529.643429        4737.82        0.039505      0.025641  -0.002296   \n",
      "\n",
      "   dist_kurt  gen  \n",
      "0  -1.088515   88  \n",
      "   index      fitness  total_quality  balance_factor  range_factor  dist_skew  \\\n",
      "0      0  5529.643429        4737.82        0.039505      0.025641  -0.002296   \n",
      "\n",
      "   dist_kurt  gen  \n",
      "0  -1.088515   89  \n",
      "   index      fitness  total_quality  balance_factor  range_factor  dist_skew  \\\n",
      "0      0  5529.643429        4737.82        0.039505      0.025641  -0.002296   \n",
      "\n",
      "   dist_kurt  gen  \n",
      "0  -1.088515   90  \n",
      "   index      fitness  total_quality  balance_factor  range_factor  dist_skew  \\\n",
      "0      0  5529.643429        4737.82        0.039505      0.025641  -0.002296   \n",
      "\n",
      "   dist_kurt  gen  \n",
      "0  -1.088515   91  \n",
      "   index      fitness  total_quality  balance_factor  range_factor  dist_skew  \\\n",
      "0      0  5529.643429        4737.82        0.039505      0.025641  -0.002296   \n",
      "\n",
      "   dist_kurt  gen  \n",
      "0  -1.088515   92  \n",
      "   index      fitness  total_quality  balance_factor  range_factor  dist_skew  \\\n",
      "0      0  5529.643429        4737.82        0.039505      0.025641  -0.002296   \n",
      "\n",
      "   dist_kurt  gen  \n",
      "0  -1.088515   93  \n",
      "   index      fitness  total_quality  balance_factor  range_factor  dist_skew  \\\n",
      "0      0  5529.643429        4737.82        0.039505      0.025641  -0.002296   \n",
      "\n",
      "   dist_kurt  gen  \n",
      "0  -1.088515   94  \n",
      "    index      fitness  total_quality  balance_factor  range_factor  \\\n",
      "62     62  5563.081803        4731.86        0.041368      0.027027   \n",
      "\n",
      "    dist_skew  dist_kurt  gen  \n",
      "62   0.012567  -1.100218   95  \n",
      "   index      fitness  total_quality  balance_factor  range_factor  dist_skew  \\\n",
      "0      0  5563.081803        4731.86        0.041368      0.027027   0.012567   \n",
      "\n",
      "   dist_kurt  gen  \n",
      "0  -1.100218   96  \n",
      "   index      fitness  total_quality  balance_factor  range_factor  dist_skew  \\\n",
      "0      0  5563.081803        4731.86        0.041368      0.027027   0.012567   \n",
      "\n",
      "   dist_kurt  gen  \n",
      "0  -1.100218   97  \n",
      "   index      fitness  total_quality  balance_factor  range_factor  dist_skew  \\\n",
      "0      0  5563.081803        4731.86        0.041368      0.027027   0.012567   \n",
      "\n",
      "   dist_kurt  gen  \n",
      "0  -1.100218   98  \n",
      "   index      fitness  total_quality  balance_factor  range_factor  dist_skew  \\\n",
      "0      0  5563.081803        4731.86        0.041368      0.027027   0.012567   \n",
      "\n",
      "   dist_kurt  gen  \n",
      "0  -1.100218   99  \n",
      "   index      fitness  total_quality  balance_factor  range_factor  dist_skew  \\\n",
      "0      0  5563.081803        4731.86        0.041368      0.027027   0.012567   \n",
      "\n",
      "   dist_kurt  gen  \n",
      "0  -1.100218  100  \n",
      "     index      fitness  total_quality  balance_factor  range_factor  \\\n",
      "122    122  5571.013622    4738.606667        0.041368      0.027027   \n",
      "\n",
      "     dist_skew  dist_kurt  gen  \n",
      "122   0.012567  -1.100218  101  \n",
      "   index      fitness  total_quality  balance_factor  range_factor  dist_skew  \\\n",
      "0      0  5571.013622    4738.606667        0.041368      0.027027   0.012567   \n",
      "\n",
      "   dist_kurt  gen  \n",
      "0  -1.100218  102  \n",
      "   index      fitness  total_quality  balance_factor  range_factor  dist_skew  \\\n",
      "0      0  5571.013622    4738.606667        0.041368      0.027027   0.012567   \n",
      "\n",
      "   dist_kurt  gen  \n",
      "0  -1.100218  103  \n",
      "   index      fitness  total_quality  balance_factor  range_factor  dist_skew  \\\n",
      "0      0  5571.013622    4738.606667        0.041368      0.027027   0.012567   \n",
      "\n",
      "   dist_kurt  gen  \n",
      "0  -1.100218  104  \n",
      "   index      fitness  total_quality  balance_factor  range_factor  dist_skew  \\\n",
      "0      0  5571.013622    4738.606667        0.041368      0.027027   0.012567   \n",
      "\n",
      "   dist_kurt  gen  \n",
      "0  -1.100218  105  \n",
      "   index      fitness  total_quality  balance_factor  range_factor  dist_skew  \\\n",
      "0      0  5571.013622    4738.606667        0.041368      0.027027   0.012567   \n",
      "\n",
      "   dist_kurt  gen  \n",
      "0  -1.100218  106  \n",
      "   index      fitness  total_quality  balance_factor  range_factor  dist_skew  \\\n",
      "0      0  5571.013622    4738.606667        0.041368      0.027027   0.012567   \n",
      "\n",
      "   dist_kurt  gen  \n",
      "0  -1.100218  107  \n",
      "   index      fitness  total_quality  balance_factor  range_factor  dist_skew  \\\n",
      "0      0  5571.013622    4738.606667        0.041368      0.027027   0.012567   \n",
      "\n",
      "   dist_kurt  gen  \n",
      "0  -1.100218  108  \n",
      "   index      fitness  total_quality  balance_factor  range_factor  dist_skew  \\\n",
      "0      0  5571.013622    4738.606667        0.041368      0.027027   0.012567   \n",
      "\n",
      "   dist_kurt  gen  \n",
      "0  -1.100218  109  \n",
      "   index      fitness  total_quality  balance_factor  range_factor  dist_skew  \\\n",
      "0      0  5571.013622    4738.606667        0.041368      0.027027   0.012567   \n",
      "\n",
      "   dist_kurt  gen  \n",
      "0  -1.100218  110  \n",
      "   index      fitness  total_quality  balance_factor  range_factor  dist_skew  \\\n",
      "0      0  5571.013622    4738.606667        0.041368      0.027027   0.012567   \n",
      "\n",
      "   dist_kurt  gen  \n",
      "0  -1.100218  111  \n",
      "   index      fitness  total_quality  balance_factor  range_factor  dist_skew  \\\n",
      "0      0  5571.013622    4738.606667        0.041368      0.027027   0.012567   \n",
      "\n",
      "   dist_kurt  gen  \n",
      "0  -1.100218  112  \n",
      "     index      fitness  total_quality  balance_factor  range_factor  \\\n",
      "191    191  5573.717652    4740.906667        0.041368      0.027027   \n",
      "\n",
      "     dist_skew  dist_kurt  gen  \n",
      "191   0.012567  -1.100218  113  \n",
      "   index      fitness  total_quality  balance_factor  range_factor  dist_skew  \\\n",
      "0      0  5573.717652    4740.906667        0.041368      0.027027   0.012567   \n",
      "\n",
      "   dist_kurt  gen  \n",
      "0  -1.100218  114  \n",
      "   index      fitness  total_quality  balance_factor  range_factor  dist_skew  \\\n",
      "0      0  5573.717652    4740.906667        0.041368      0.027027   0.012567   \n",
      "\n",
      "   dist_kurt  gen  \n",
      "0  -1.100218  115  \n",
      "   index      fitness  total_quality  balance_factor  range_factor  dist_skew  \\\n",
      "0      0  5573.717652    4740.906667        0.041368      0.027027   0.012567   \n",
      "\n",
      "   dist_kurt  gen  \n",
      "0  -1.100218  116  \n",
      "   index      fitness  total_quality  balance_factor  range_factor  dist_skew  \\\n",
      "0      0  5573.717652    4740.906667        0.041368      0.027027   0.012567   \n",
      "\n",
      "   dist_kurt  gen  \n",
      "0  -1.100218  117  \n",
      "   index      fitness  total_quality  balance_factor  range_factor  dist_skew  \\\n",
      "0      0  5573.717652    4740.906667        0.041368      0.027027   0.012567   \n",
      "\n",
      "   dist_kurt  gen  \n",
      "0  -1.100218  118  \n",
      "   index      fitness  total_quality  balance_factor  range_factor  dist_skew  \\\n",
      "0      0  5573.717652    4740.906667        0.041368      0.027027   0.012567   \n",
      "\n",
      "   dist_kurt  gen  \n",
      "0  -1.100218  119  \n",
      "   index      fitness  total_quality  balance_factor  range_factor  dist_skew  \\\n",
      "0      0  5573.717652    4740.906667        0.041368      0.027027   0.012567   \n",
      "\n",
      "   dist_kurt  gen  \n",
      "0  -1.100218  120  \n",
      "   index      fitness  total_quality  balance_factor  range_factor  dist_skew  \\\n",
      "0      0  5573.717652    4740.906667        0.041368      0.027027   0.012567   \n",
      "\n",
      "   dist_kurt  gen  \n",
      "0  -1.100218  121  \n",
      "   index      fitness  total_quality  balance_factor  range_factor  dist_skew  \\\n",
      "0      0  5573.717652    4740.906667        0.041368      0.027027   0.012567   \n",
      "\n",
      "   dist_kurt  gen  \n",
      "0  -1.100218  122  \n",
      "   index      fitness  total_quality  balance_factor  range_factor  dist_skew  \\\n",
      "0      0  5573.717652    4740.906667        0.041368      0.027027   0.012567   \n",
      "\n",
      "   dist_kurt  gen  \n",
      "0  -1.100218  123  \n"
     ]
    },
    {
     "name": "stdout",
     "output_type": "stream",
     "text": [
      "   index      fitness  total_quality  balance_factor  range_factor  dist_skew  \\\n",
      "0      0  5573.717652    4740.906667        0.041368      0.027027   0.012567   \n",
      "\n",
      "   dist_kurt  gen  \n",
      "0  -1.100218  124  \n",
      "   index      fitness  total_quality  balance_factor  range_factor  dist_skew  \\\n",
      "0      0  5573.717652    4740.906667        0.041368      0.027027   0.012567   \n",
      "\n",
      "   dist_kurt  gen  \n",
      "0  -1.100218  125  \n",
      "   index      fitness  total_quality  balance_factor  range_factor  dist_skew  \\\n",
      "0      0  5573.717652    4740.906667        0.041368      0.027027   0.012567   \n",
      "\n",
      "   dist_kurt  gen  \n",
      "0  -1.100218  126  \n",
      "     index      fitness  total_quality  balance_factor  range_factor  \\\n",
      "181    181  5582.723527    4734.306667        0.042137      0.027027   \n",
      "\n",
      "     dist_skew  dist_kurt  gen  \n",
      "181   -0.00656  -1.138739  127  \n",
      "   index      fitness  total_quality  balance_factor  range_factor  dist_skew  \\\n",
      "0      0  5582.723527    4734.306667        0.042137      0.027027   -0.00656   \n",
      "\n",
      "   dist_kurt  gen  \n",
      "0  -1.138739  128  \n",
      "   index      fitness  total_quality  balance_factor  range_factor  dist_skew  \\\n",
      "0      0  5582.723527    4734.306667        0.042137      0.027027   -0.00656   \n",
      "\n",
      "   dist_kurt  gen  \n",
      "0  -1.138739  129  \n",
      "   index      fitness  total_quality  balance_factor  range_factor  dist_skew  \\\n",
      "0      0  5582.723527    4734.306667        0.042137      0.027027   -0.00656   \n",
      "\n",
      "   dist_kurt  gen  \n",
      "0  -1.138739  130  \n",
      "   index      fitness  total_quality  balance_factor  range_factor  dist_skew  \\\n",
      "0      0  5582.723527    4734.306667        0.042137      0.027027   -0.00656   \n",
      "\n",
      "   dist_kurt  gen  \n",
      "0  -1.138739  131  \n",
      "   index      fitness  total_quality  balance_factor  range_factor  dist_skew  \\\n",
      "0      0  5582.723527    4734.306667        0.042137      0.027027   -0.00656   \n",
      "\n",
      "   dist_kurt  gen  \n",
      "0  -1.138739  132  \n",
      "     index      fitness  total_quality  balance_factor  range_factor  \\\n",
      "173    173  5590.905873    4755.526667        0.041368      0.027027   \n",
      "\n",
      "     dist_skew  dist_kurt  gen  \n",
      "173   0.012567  -1.100218  133  \n",
      "   index      fitness  total_quality  balance_factor  range_factor  dist_skew  \\\n",
      "0      0  5590.905873    4755.526667        0.041368      0.027027   0.012567   \n",
      "\n",
      "   dist_kurt  gen  \n",
      "0  -1.100218  134  \n",
      "   index      fitness  total_quality  balance_factor  range_factor  dist_skew  \\\n",
      "0      0  5590.905873    4755.526667        0.041368      0.027027   0.012567   \n",
      "\n",
      "   dist_kurt  gen  \n",
      "0  -1.100218  135  \n",
      "   index      fitness  total_quality  balance_factor  range_factor  dist_skew  \\\n",
      "0      0  5590.905873    4755.526667        0.041368      0.027027   0.012567   \n",
      "\n",
      "   dist_kurt  gen  \n",
      "0  -1.100218  136  \n",
      "   index      fitness  total_quality  balance_factor  range_factor  dist_skew  \\\n",
      "0      0  5590.905873    4755.526667        0.041368      0.027027   0.012567   \n",
      "\n",
      "   dist_kurt  gen  \n",
      "0  -1.100218  137  \n",
      "   index      fitness  total_quality  balance_factor  range_factor  dist_skew  \\\n",
      "0      0  5590.905873    4755.526667        0.041368      0.027027   0.012567   \n",
      "\n",
      "   dist_kurt  gen  \n",
      "0  -1.100218  138  \n",
      "   index      fitness  total_quality  balance_factor  range_factor  dist_skew  \\\n",
      "0      0  5590.905873    4755.526667        0.041368      0.027027   0.012567   \n",
      "\n",
      "   dist_kurt  gen  \n",
      "0  -1.100218  139  \n",
      "   index      fitness  total_quality  balance_factor  range_factor  dist_skew  \\\n",
      "0      0  5590.905873    4755.526667        0.041368      0.027027   0.012567   \n",
      "\n",
      "   dist_kurt  gen  \n",
      "0  -1.100218  140  \n",
      "   index      fitness  total_quality  balance_factor  range_factor  dist_skew  \\\n",
      "0      0  5590.905873    4755.526667        0.041368      0.027027   0.012567   \n",
      "\n",
      "   dist_kurt  gen  \n",
      "0  -1.100218  141  \n",
      "   index      fitness  total_quality  balance_factor  range_factor  dist_skew  \\\n",
      "0      0  5590.905873    4755.526667        0.041368      0.027027   0.012567   \n",
      "\n",
      "   dist_kurt  gen  \n",
      "0  -1.100218  142  \n",
      "   index      fitness  total_quality  balance_factor  range_factor  dist_skew  \\\n",
      "0      0  5590.905873    4755.526667        0.041368      0.027027   0.012567   \n",
      "\n",
      "   dist_kurt  gen  \n",
      "0  -1.100218  143  \n",
      "   index      fitness  total_quality  balance_factor  range_factor  dist_skew  \\\n",
      "0      0  5590.905873    4755.526667        0.041368      0.027027   0.012567   \n",
      "\n",
      "   dist_kurt  gen  \n",
      "0  -1.100218  144  \n",
      "   index      fitness  total_quality  balance_factor  range_factor  dist_skew  \\\n",
      "0      0  5590.905873    4755.526667        0.041368      0.027027   0.012567   \n",
      "\n",
      "   dist_kurt  gen  \n",
      "0  -1.100218  145  \n",
      "   index      fitness  total_quality  balance_factor  range_factor  dist_skew  \\\n",
      "0      0  5590.905873    4755.526667        0.041368      0.027027   0.012567   \n",
      "\n",
      "   dist_kurt  gen  \n",
      "0  -1.100218  146  \n",
      "   index      fitness  total_quality  balance_factor  range_factor  dist_skew  \\\n",
      "0      0  5590.905873    4755.526667        0.041368      0.027027   0.012567   \n",
      "\n",
      "   dist_kurt  gen  \n",
      "0  -1.100218  147  \n",
      "   index      fitness  total_quality  balance_factor  range_factor  dist_skew  \\\n",
      "0      0  5590.905873    4755.526667        0.041368      0.027027   0.012567   \n",
      "\n",
      "   dist_kurt  gen  \n",
      "0  -1.100218  148  \n",
      "   index      fitness  total_quality  balance_factor  range_factor  dist_skew  \\\n",
      "0      0  5590.905873    4755.526667        0.041368      0.027027   0.012567   \n",
      "\n",
      "   dist_kurt  gen  \n",
      "0  -1.100218  149  \n",
      "   index      fitness  total_quality  balance_factor  range_factor  dist_skew  \\\n",
      "0      0  5590.905873    4755.526667        0.041368      0.027027   0.012567   \n",
      "\n",
      "   dist_kurt  gen  \n",
      "0  -1.100218  150  \n",
      "   index      fitness  total_quality  balance_factor  range_factor  dist_skew  \\\n",
      "0      0  5590.905873    4755.526667        0.041368      0.027027   0.012567   \n",
      "\n",
      "   dist_kurt  gen  \n",
      "0  -1.100218  151  \n",
      "   index      fitness  total_quality  balance_factor  range_factor  dist_skew  \\\n",
      "0      0  5590.905873    4755.526667        0.041368      0.027027   0.012567   \n",
      "\n",
      "   dist_kurt  gen  \n",
      "0  -1.100218  152  \n",
      "     index      fitness  total_quality  balance_factor  range_factor  \\\n",
      "188    188  5596.644863    4728.213333        0.043103      0.027027   \n",
      "\n",
      "     dist_skew  dist_kurt  gen  \n",
      "188  -0.003357  -1.200363  153  \n",
      "   index      fitness  total_quality  balance_factor  range_factor  dist_skew  \\\n",
      "0      0  5596.644863    4728.213333        0.043103      0.027027  -0.003357   \n",
      "\n",
      "   dist_kurt  gen  \n",
      "0  -1.200363  154  \n",
      "   index      fitness  total_quality  balance_factor  range_factor  dist_skew  \\\n",
      "0      0  5596.644863    4728.213333        0.043103      0.027027  -0.003357   \n",
      "\n",
      "   dist_kurt  gen  \n",
      "0  -1.200363  155  \n",
      "   index      fitness  total_quality  balance_factor  range_factor  dist_skew  \\\n",
      "0      0  5596.644863    4728.213333        0.043103      0.027027  -0.003357   \n",
      "\n",
      "   dist_kurt  gen  \n",
      "0  -1.200363  156  \n",
      "   index      fitness  total_quality  balance_factor  range_factor  dist_skew  \\\n",
      "0      0  5596.644863    4728.213333        0.043103      0.027027  -0.003357   \n",
      "\n",
      "   dist_kurt  gen  \n",
      "0  -1.200363  157  \n",
      "   index      fitness  total_quality  balance_factor  range_factor  dist_skew  \\\n",
      "0      0  5596.644863    4728.213333        0.043103      0.027027  -0.003357   \n",
      "\n",
      "   dist_kurt  gen  \n",
      "0  -1.200363  158  \n",
      "   index      fitness  total_quality  balance_factor  range_factor  dist_skew  \\\n",
      "0      0  5596.644863    4728.213333        0.043103      0.027027  -0.003357   \n",
      "\n",
      "   dist_kurt  gen  \n",
      "0  -1.200363  159  \n",
      "   index      fitness  total_quality  balance_factor  range_factor  dist_skew  \\\n",
      "0      0  5596.644863    4728.213333        0.043103      0.027027  -0.003357   \n",
      "\n",
      "   dist_kurt  gen  \n",
      "0  -1.200363  160  \n",
      "   index      fitness  total_quality  balance_factor  range_factor  dist_skew  \\\n",
      "0      0  5596.644863    4728.213333        0.043103      0.027027  -0.003357   \n",
      "\n",
      "   dist_kurt  gen  \n",
      "0  -1.200363  161  \n",
      "   index      fitness  total_quality  balance_factor  range_factor  dist_skew  \\\n",
      "0      0  5596.644863    4728.213333        0.043103      0.027027  -0.003357   \n",
      "\n",
      "   dist_kurt  gen  \n",
      "0  -1.200363  162  \n",
      "     index     fitness  total_quality  balance_factor  range_factor  \\\n",
      "151    151  5600.48196    4747.946667        0.042214      0.027027   \n",
      "\n",
      "     dist_skew  dist_kurt  gen  \n",
      "151  -0.002542  -1.131766  163  \n",
      "   index     fitness  total_quality  balance_factor  range_factor  dist_skew  \\\n",
      "0      0  5600.48196    4747.946667        0.042214      0.027027  -0.002542   \n",
      "\n",
      "   dist_kurt  gen  \n",
      "0  -1.131766  164  \n"
     ]
    },
    {
     "name": "stdout",
     "output_type": "stream",
     "text": [
      "   index     fitness  total_quality  balance_factor  range_factor  dist_skew  \\\n",
      "0      0  5600.48196    4747.946667        0.042214      0.027027  -0.002542   \n",
      "\n",
      "   dist_kurt  gen  \n",
      "0  -1.131766  165  \n",
      "   index     fitness  total_quality  balance_factor  range_factor  dist_skew  \\\n",
      "0      0  5600.48196    4747.946667        0.042214      0.027027  -0.002542   \n",
      "\n",
      "   dist_kurt  gen  \n",
      "0  -1.131766  166  \n",
      "   index     fitness  total_quality  balance_factor  range_factor  dist_skew  \\\n",
      "0      0  5600.48196    4747.946667        0.042214      0.027027  -0.002542   \n",
      "\n",
      "   dist_kurt  gen  \n",
      "0  -1.131766  167  \n",
      "   index     fitness  total_quality  balance_factor  range_factor  dist_skew  \\\n",
      "0      0  5600.48196    4747.946667        0.042214      0.027027  -0.002542   \n",
      "\n",
      "   dist_kurt  gen  \n",
      "0  -1.131766  168  \n",
      "   index     fitness  total_quality  balance_factor  range_factor  dist_skew  \\\n",
      "0      0  5600.48196    4747.946667        0.042214      0.027027  -0.002542   \n",
      "\n",
      "   dist_kurt  gen  \n",
      "0  -1.131766  169  \n",
      "   index     fitness  total_quality  balance_factor  range_factor  dist_skew  \\\n",
      "0      0  5600.48196    4747.946667        0.042214      0.027027  -0.002542   \n",
      "\n",
      "   dist_kurt  gen  \n",
      "0  -1.131766  170  \n",
      "   index     fitness  total_quality  balance_factor  range_factor  dist_skew  \\\n",
      "0      0  5600.48196    4747.946667        0.042214      0.027027  -0.002542   \n",
      "\n",
      "   dist_kurt  gen  \n",
      "0  -1.131766  171  \n",
      "   index     fitness  total_quality  balance_factor  range_factor  dist_skew  \\\n",
      "0      0  5600.48196    4747.946667        0.042214      0.027027  -0.002542   \n",
      "\n",
      "   dist_kurt  gen  \n",
      "0  -1.131766  172  \n",
      "   index     fitness  total_quality  balance_factor  range_factor  dist_skew  \\\n",
      "0      0  5600.48196    4747.946667        0.042214      0.027027  -0.002542   \n",
      "\n",
      "   dist_kurt  gen  \n",
      "0  -1.131766  173  \n",
      "   index     fitness  total_quality  balance_factor  range_factor  dist_skew  \\\n",
      "0      0  5600.48196    4747.946667        0.042214      0.027027  -0.002542   \n",
      "\n",
      "   dist_kurt  gen  \n",
      "0  -1.131766  174  \n",
      "   index     fitness  total_quality  balance_factor  range_factor  dist_skew  \\\n",
      "0      0  5600.48196    4747.946667        0.042214      0.027027  -0.002542   \n",
      "\n",
      "   dist_kurt  gen  \n",
      "0  -1.131766  175  \n",
      "   index     fitness  total_quality  balance_factor  range_factor  dist_skew  \\\n",
      "0      0  5600.48196    4747.946667        0.042214      0.027027  -0.002542   \n",
      "\n",
      "   dist_kurt  gen  \n",
      "0  -1.131766  176  \n",
      "   index     fitness  total_quality  balance_factor  range_factor  dist_skew  \\\n",
      "0      0  5600.48196    4747.946667        0.042214      0.027027  -0.002542   \n",
      "\n",
      "   dist_kurt  gen  \n",
      "0  -1.131766  177  \n",
      "   index     fitness  total_quality  balance_factor  range_factor  dist_skew  \\\n",
      "0      0  5600.48196    4747.946667        0.042214      0.027027  -0.002542   \n",
      "\n",
      "   dist_kurt  gen  \n",
      "0  -1.131766  178  \n",
      "   index     fitness  total_quality  balance_factor  range_factor  dist_skew  \\\n",
      "0      0  5600.48196    4747.946667        0.042214      0.027027  -0.002542   \n",
      "\n",
      "   dist_kurt  gen  \n",
      "0  -1.131766  179  \n",
      "   index     fitness  total_quality  balance_factor  range_factor  dist_skew  \\\n",
      "0      0  5600.48196    4747.946667        0.042214      0.027027  -0.002542   \n",
      "\n",
      "   dist_kurt  gen  \n",
      "0  -1.131766  180  \n",
      "   index     fitness  total_quality  balance_factor  range_factor  dist_skew  \\\n",
      "0      0  5600.48196    4747.946667        0.042214      0.027027  -0.002542   \n",
      "\n",
      "   dist_kurt  gen  \n",
      "0  -1.131766  181  \n",
      "   index     fitness  total_quality  balance_factor  range_factor  dist_skew  \\\n",
      "0      0  5600.48196    4747.946667        0.042214      0.027027  -0.002542   \n",
      "\n",
      "   dist_kurt  gen  \n",
      "0  -1.131766  182  \n",
      "   index     fitness  total_quality  balance_factor  range_factor  dist_skew  \\\n",
      "0      0  5600.48196    4747.946667        0.042214      0.027027  -0.002542   \n",
      "\n",
      "   dist_kurt  gen  \n",
      "0  -1.131766  183  \n",
      "   index     fitness  total_quality  balance_factor  range_factor  dist_skew  \\\n",
      "0      0  5600.48196    4747.946667        0.042214      0.027027  -0.002542   \n",
      "\n",
      "   dist_kurt  gen  \n",
      "0  -1.131766  184  \n",
      "   index     fitness  total_quality  balance_factor  range_factor  dist_skew  \\\n",
      "0      0  5600.48196    4747.946667        0.042214      0.027027  -0.002542   \n",
      "\n",
      "   dist_kurt  gen  \n",
      "0  -1.131766  185  \n",
      "   index     fitness  total_quality  balance_factor  range_factor  dist_skew  \\\n",
      "0      0  5600.48196    4747.946667        0.042214      0.027027  -0.002542   \n",
      "\n",
      "   dist_kurt  gen  \n",
      "0  -1.131766  186  \n",
      "     index      fitness  total_quality  balance_factor  range_factor  \\\n",
      "106    106  5601.787338    4749.053333        0.042214      0.027027   \n",
      "\n",
      "     dist_skew  dist_kurt  gen  \n",
      "106  -0.002542  -1.131766  187  \n",
      "   index      fitness  total_quality  balance_factor  range_factor  dist_skew  \\\n",
      "0      0  5601.787338    4749.053333        0.042214      0.027027  -0.002542   \n",
      "\n",
      "   dist_kurt  gen  \n",
      "0  -1.131766  188  \n",
      "   index      fitness  total_quality  balance_factor  range_factor  dist_skew  \\\n",
      "0      0  5601.787338    4749.053333        0.042214      0.027027  -0.002542   \n",
      "\n",
      "   dist_kurt  gen  \n",
      "0  -1.131766  189  \n",
      "    index     fitness  total_quality  balance_factor  range_factor  dist_skew  \\\n",
      "62     62  5601.96034         4749.2        0.042214      0.027027  -0.002542   \n",
      "\n",
      "    dist_kurt  gen  \n",
      "62  -1.131766  190  \n",
      "   index     fitness  total_quality  balance_factor  range_factor  dist_skew  \\\n",
      "0      0  5601.96034         4749.2        0.042214      0.027027  -0.002542   \n",
      "\n",
      "   dist_kurt  gen  \n",
      "0  -1.131766  191  \n",
      "   index     fitness  total_quality  balance_factor  range_factor  dist_skew  \\\n",
      "0      0  5601.96034         4749.2        0.042214      0.027027  -0.002542   \n",
      "\n",
      "   dist_kurt  gen  \n",
      "0  -1.131766  192  \n",
      "   index     fitness  total_quality  balance_factor  range_factor  dist_skew  \\\n",
      "0      0  5601.96034         4749.2        0.042214      0.027027  -0.002542   \n",
      "\n",
      "   dist_kurt  gen  \n",
      "0  -1.131766  193  \n",
      "   index     fitness  total_quality  balance_factor  range_factor  dist_skew  \\\n",
      "0      0  5601.96034         4749.2        0.042214      0.027027  -0.002542   \n",
      "\n",
      "   dist_kurt  gen  \n",
      "0  -1.131766  194  \n",
      "   index     fitness  total_quality  balance_factor  range_factor  dist_skew  \\\n",
      "0      0  5601.96034         4749.2        0.042214      0.027027  -0.002542   \n",
      "\n",
      "   dist_kurt  gen  \n",
      "0  -1.131766  195  \n",
      "   index     fitness  total_quality  balance_factor  range_factor  dist_skew  \\\n",
      "0      0  5601.96034         4749.2        0.042214      0.027027  -0.002542   \n",
      "\n",
      "   dist_kurt  gen  \n",
      "0  -1.131766  196  \n",
      "   index     fitness  total_quality  balance_factor  range_factor  dist_skew  \\\n",
      "0      0  5601.96034         4749.2        0.042214      0.027027  -0.002542   \n",
      "\n",
      "   dist_kurt  gen  \n",
      "0  -1.131766  197  \n",
      "   index     fitness  total_quality  balance_factor  range_factor  dist_skew  \\\n",
      "0      0  5601.96034         4749.2        0.042214      0.027027  -0.002542   \n",
      "\n",
      "   dist_kurt  gen  \n",
      "0  -1.131766  198  \n",
      "   index     fitness  total_quality  balance_factor  range_factor  dist_skew  \\\n",
      "0      0  5601.96034         4749.2        0.042214      0.027027  -0.002542   \n",
      "\n",
      "   dist_kurt  gen  \n",
      "0  -1.131766  199  \n",
      "   index     fitness  total_quality  balance_factor  range_factor  dist_skew  \\\n",
      "0      0  5601.96034         4749.2        0.042214      0.027027  -0.002542   \n",
      "\n",
      "   dist_kurt  gen  \n",
      "0  -1.131766  200  \n",
      "     index      fitness  total_quality  balance_factor  range_factor  \\\n",
      "103    103  5608.635122    4747.453333        0.042612      0.027027   \n",
      "\n",
      "     dist_skew  dist_kurt  gen  \n",
      "103   0.004059  -1.166139  201  \n",
      "   index      fitness  total_quality  balance_factor  range_factor  dist_skew  \\\n",
      "0      0  5608.635122    4747.453333        0.042612      0.027027   0.004059   \n",
      "\n",
      "   dist_kurt  gen  \n",
      "0  -1.166139  202  \n",
      "   index      fitness  total_quality  balance_factor  range_factor  dist_skew  \\\n",
      "0      0  5608.635122    4747.453333        0.042612      0.027027   0.004059   \n",
      "\n",
      "   dist_kurt  gen  \n",
      "0  -1.166139  203  \n",
      "   index      fitness  total_quality  balance_factor  range_factor  dist_skew  \\\n",
      "0      0  5608.635122    4747.453333        0.042612      0.027027   0.004059   \n",
      "\n",
      "   dist_kurt  gen  \n",
      "0  -1.166139  204  \n",
      "   index      fitness  total_quality  balance_factor  range_factor  dist_skew  \\\n",
      "0      0  5608.635122    4747.453333        0.042612      0.027027   0.004059   \n",
      "\n",
      "   dist_kurt  gen  \n",
      "0  -1.166139  205  \n"
     ]
    },
    {
     "name": "stdout",
     "output_type": "stream",
     "text": [
      "   index      fitness  total_quality  balance_factor  range_factor  dist_skew  \\\n",
      "0      0  5608.635122    4747.453333        0.042612      0.027027   0.004059   \n",
      "\n",
      "   dist_kurt  gen  \n",
      "0  -1.166139  206  \n",
      "   index      fitness  total_quality  balance_factor  range_factor  dist_skew  \\\n",
      "0      0  5608.635122    4747.453333        0.042612      0.027027   0.004059   \n",
      "\n",
      "   dist_kurt  gen  \n",
      "0  -1.166139  207  \n",
      "   index      fitness  total_quality  balance_factor  range_factor  dist_skew  \\\n",
      "0      0  5608.635122    4747.453333        0.042612      0.027027   0.004059   \n",
      "\n",
      "   dist_kurt  gen  \n",
      "0  -1.166139  208  \n",
      "   index      fitness  total_quality  balance_factor  range_factor  dist_skew  \\\n",
      "0      0  5608.635122    4747.453333        0.042612      0.027027   0.004059   \n",
      "\n",
      "   dist_kurt  gen  \n",
      "0  -1.166139  209  \n",
      "   index      fitness  total_quality  balance_factor  range_factor  dist_skew  \\\n",
      "0      0  5608.635122    4747.453333        0.042612      0.027027   0.004059   \n",
      "\n",
      "   dist_kurt  gen  \n",
      "0  -1.166139  210  \n",
      "   index      fitness  total_quality  balance_factor  range_factor  dist_skew  \\\n",
      "0      0  5608.635122    4747.453333        0.042612      0.027027   0.004059   \n",
      "\n",
      "   dist_kurt  gen  \n",
      "0  -1.166139  211  \n",
      "   index      fitness  total_quality  balance_factor  range_factor  dist_skew  \\\n",
      "0      0  5608.635122    4747.453333        0.042612      0.027027   0.004059   \n",
      "\n",
      "   dist_kurt  gen  \n",
      "0  -1.166139  212  \n",
      "   index      fitness  total_quality  balance_factor  range_factor  dist_skew  \\\n",
      "0      0  5608.635122    4747.453333        0.042612      0.027027   0.004059   \n",
      "\n",
      "   dist_kurt  gen  \n",
      "0  -1.166139  213  \n",
      "   index      fitness  total_quality  balance_factor  range_factor  dist_skew  \\\n",
      "0      0  5608.635122    4747.453333        0.042612      0.027027   0.004059   \n",
      "\n",
      "   dist_kurt  gen  \n",
      "0  -1.166139  214  \n",
      "    index      fitness  total_quality  balance_factor  range_factor  \\\n",
      "25     25  5610.592027        4744.16        0.042879      0.027027   \n",
      "\n",
      "    dist_skew  dist_kurt  gen  \n",
      "25   -0.02883  -1.267206  215  \n",
      "   index      fitness  total_quality  balance_factor  range_factor  dist_skew  \\\n",
      "0      0  5610.592027        4744.16        0.042879      0.027027   -0.02883   \n",
      "\n",
      "   dist_kurt  gen  \n",
      "0  -1.267206  216  \n",
      "   index      fitness  total_quality  balance_factor  range_factor  dist_skew  \\\n",
      "0      0  5610.592027        4744.16        0.042879      0.027027   -0.02883   \n",
      "\n",
      "   dist_kurt  gen  \n",
      "0  -1.267206  217  \n",
      "   index      fitness  total_quality  balance_factor  range_factor  dist_skew  \\\n",
      "0      0  5610.592027        4744.16        0.042879      0.027027   -0.02883   \n",
      "\n",
      "   dist_kurt  gen  \n",
      "0  -1.267206  218  \n",
      "   index      fitness  total_quality  balance_factor  range_factor  dist_skew  \\\n",
      "0      0  5610.592027        4744.16        0.042879      0.027027   -0.02883   \n",
      "\n",
      "   dist_kurt  gen  \n",
      "0  -1.267206  219  \n",
      "   index      fitness  total_quality  balance_factor  range_factor  dist_skew  \\\n",
      "0      0  5610.592027        4744.16        0.042879      0.027027   -0.02883   \n",
      "\n",
      "   dist_kurt  gen  \n",
      "0  -1.267206  220  \n",
      "   index      fitness  total_quality  balance_factor  range_factor  dist_skew  \\\n",
      "0      0  5610.592027        4744.16        0.042879      0.027027   -0.02883   \n",
      "\n",
      "   dist_kurt  gen  \n",
      "0  -1.267206  221  \n",
      "    index      fitness  total_quality  balance_factor  range_factor  \\\n",
      "24     24  5616.680452        4745.14        0.043103      0.027027   \n",
      "\n",
      "    dist_skew  dist_kurt  gen  \n",
      "24  -0.003357  -1.200363  222  \n",
      "   index      fitness  total_quality  balance_factor  range_factor  dist_skew  \\\n",
      "0      0  5616.680452        4745.14        0.043103      0.027027  -0.003357   \n",
      "\n",
      "   dist_kurt  gen  \n",
      "0  -1.200363  223  \n",
      "   index      fitness  total_quality  balance_factor  range_factor  dist_skew  \\\n",
      "0      0  5616.680452        4745.14        0.043103      0.027027  -0.003357   \n",
      "\n",
      "   dist_kurt  gen  \n",
      "0  -1.200363  224  \n",
      "   index      fitness  total_quality  balance_factor  range_factor  dist_skew  \\\n",
      "0      0  5616.680452        4745.14        0.043103      0.027027  -0.003357   \n",
      "\n",
      "   dist_kurt  gen  \n",
      "0  -1.200363  225  \n",
      "   index      fitness  total_quality  balance_factor  range_factor  dist_skew  \\\n",
      "0      0  5616.680452        4745.14        0.043103      0.027027  -0.003357   \n",
      "\n",
      "   dist_kurt  gen  \n",
      "0  -1.200363  226  \n",
      "   index      fitness  total_quality  balance_factor  range_factor  dist_skew  \\\n",
      "0      0  5616.680452        4745.14        0.043103      0.027027  -0.003357   \n",
      "\n",
      "   dist_kurt  gen  \n",
      "0  -1.200363  227  \n",
      "   index      fitness  total_quality  balance_factor  range_factor  dist_skew  \\\n",
      "0      0  5616.680452        4745.14        0.043103      0.027027  -0.003357   \n",
      "\n",
      "   dist_kurt  gen  \n",
      "0  -1.200363  228  \n",
      "   index      fitness  total_quality  balance_factor  range_factor  dist_skew  \\\n",
      "0      0  5616.680452        4745.14        0.043103      0.027027  -0.003357   \n",
      "\n",
      "   dist_kurt  gen  \n",
      "0  -1.200363  229  \n",
      "   index      fitness  total_quality  balance_factor  range_factor  dist_skew  \\\n",
      "0      0  5616.680452        4745.14        0.043103      0.027027  -0.003357   \n",
      "\n",
      "   dist_kurt  gen  \n",
      "0  -1.200363  230  \n",
      "   index      fitness  total_quality  balance_factor  range_factor  dist_skew  \\\n",
      "0      0  5616.680452        4745.14        0.043103      0.027027  -0.003357   \n",
      "\n",
      "   dist_kurt  gen  \n",
      "0  -1.200363  231  \n",
      "   index      fitness  total_quality  balance_factor  range_factor  dist_skew  \\\n",
      "0      0  5616.680452        4745.14        0.043103      0.027027  -0.003357   \n",
      "\n",
      "   dist_kurt  gen  \n",
      "0  -1.200363  232  \n",
      "   index      fitness  total_quality  balance_factor  range_factor  dist_skew  \\\n",
      "0      0  5616.680452        4745.14        0.043103      0.027027  -0.003357   \n",
      "\n",
      "   dist_kurt  gen  \n",
      "0  -1.200363  233  \n",
      "   index      fitness  total_quality  balance_factor  range_factor  dist_skew  \\\n",
      "0      0  5616.680452        4745.14        0.043103      0.027027  -0.003357   \n",
      "\n",
      "   dist_kurt  gen  \n",
      "0  -1.200363  234  \n",
      "   index      fitness  total_quality  balance_factor  range_factor  dist_skew  \\\n",
      "0      0  5616.680452        4745.14        0.043103      0.027027  -0.003357   \n",
      "\n",
      "   dist_kurt  gen  \n",
      "0  -1.200363  235  \n",
      "   index      fitness  total_quality  balance_factor  range_factor  dist_skew  \\\n",
      "0      0  5616.680452        4745.14        0.043103      0.027027  -0.003357   \n",
      "\n",
      "   dist_kurt  gen  \n",
      "0  -1.200363  236  \n",
      "   index      fitness  total_quality  balance_factor  range_factor  dist_skew  \\\n",
      "0      0  5616.680452        4745.14        0.043103      0.027027  -0.003357   \n",
      "\n",
      "   dist_kurt  gen  \n",
      "0  -1.200363  237  \n",
      "   index      fitness  total_quality  balance_factor  range_factor  dist_skew  \\\n",
      "0      0  5616.680452        4745.14        0.043103      0.027027  -0.003357   \n",
      "\n",
      "   dist_kurt  gen  \n",
      "0  -1.200363  238  \n",
      "   index      fitness  total_quality  balance_factor  range_factor  dist_skew  \\\n",
      "0      0  5616.680452        4745.14        0.043103      0.027027  -0.003357   \n",
      "\n",
      "   dist_kurt  gen  \n",
      "0  -1.200363  239  \n",
      "   index      fitness  total_quality  balance_factor  range_factor  dist_skew  \\\n",
      "0      0  5616.680452        4745.14        0.043103      0.027027  -0.003357   \n",
      "\n",
      "   dist_kurt  gen  \n",
      "0  -1.200363  240  \n",
      "   index      fitness  total_quality  balance_factor  range_factor  dist_skew  \\\n",
      "0      0  5616.680452        4745.14        0.043103      0.027027  -0.003357   \n",
      "\n",
      "   dist_kurt  gen  \n",
      "0  -1.200363  241  \n",
      "   index      fitness  total_quality  balance_factor  range_factor  dist_skew  \\\n",
      "0      0  5616.680452        4745.14        0.043103      0.027027  -0.003357   \n",
      "\n",
      "   dist_kurt  gen  \n",
      "0  -1.200363  242  \n",
      "   index      fitness  total_quality  balance_factor  range_factor  dist_skew  \\\n",
      "0      0  5616.680452        4745.14        0.043103      0.027027  -0.003357   \n",
      "\n",
      "   dist_kurt  gen  \n",
      "0  -1.200363  243  \n",
      "   index      fitness  total_quality  balance_factor  range_factor  dist_skew  \\\n",
      "0      0  5616.680452        4745.14        0.043103      0.027027  -0.003357   \n",
      "\n",
      "   dist_kurt  gen  \n",
      "0  -1.200363  244  \n",
      "   index      fitness  total_quality  balance_factor  range_factor  dist_skew  \\\n",
      "0      0  5616.680452        4745.14        0.043103      0.027027  -0.003357   \n",
      "\n",
      "   dist_kurt  gen  \n",
      "0  -1.200363  245  \n",
      "   index      fitness  total_quality  balance_factor  range_factor  dist_skew  \\\n",
      "0      0  5616.680452        4745.14        0.043103      0.027027  -0.003357   \n",
      "\n",
      "   dist_kurt  gen  \n",
      "0  -1.200363  246  \n"
     ]
    },
    {
     "name": "stdout",
     "output_type": "stream",
     "text": [
      "   index      fitness  total_quality  balance_factor  range_factor  dist_skew  \\\n",
      "0      0  5616.680452        4745.14        0.043103      0.027027  -0.003357   \n",
      "\n",
      "   dist_kurt  gen  \n",
      "0  -1.200363  247  \n",
      "   index      fitness  total_quality  balance_factor  range_factor  dist_skew  \\\n",
      "0      0  5616.680452        4745.14        0.043103      0.027027  -0.003357   \n",
      "\n",
      "   dist_kurt  gen  \n",
      "0  -1.200363  248  \n",
      "   index      fitness  total_quality  balance_factor  range_factor  dist_skew  \\\n",
      "0      0  5616.680452        4745.14        0.043103      0.027027  -0.003357   \n",
      "\n",
      "   dist_kurt  gen  \n",
      "0  -1.200363  249  \n",
      "    index      fitness  total_quality  balance_factor  range_factor  \\\n",
      "57     57  5622.906426    4744.366667        0.043428      0.027778   \n",
      "\n",
      "    dist_skew  dist_kurt  gen  \n",
      "57  -0.047594  -1.283057  250  \n",
      "   index      fitness  total_quality  balance_factor  range_factor  dist_skew  \\\n",
      "0      0  5622.906426    4744.366667        0.043428      0.027778  -0.047594   \n",
      "\n",
      "   dist_kurt  gen  \n",
      "0  -1.283057  251  \n",
      "   index      fitness  total_quality  balance_factor  range_factor  dist_skew  \\\n",
      "0      0  5622.906426    4744.366667        0.043428      0.027778  -0.047594   \n",
      "\n",
      "   dist_kurt  gen  \n",
      "0  -1.283057  252  \n",
      "   index      fitness  total_quality  balance_factor  range_factor  dist_skew  \\\n",
      "0      0  5622.906426    4744.366667        0.043428      0.027778  -0.047594   \n",
      "\n",
      "   dist_kurt  gen  \n",
      "0  -1.283057  253  \n",
      "   index      fitness  total_quality  balance_factor  range_factor  dist_skew  \\\n",
      "0      0  5622.906426    4744.366667        0.043428      0.027778  -0.047594   \n",
      "\n",
      "   dist_kurt  gen  \n",
      "0  -1.283057  254  \n",
      "   index      fitness  total_quality  balance_factor  range_factor  dist_skew  \\\n",
      "0      0  5622.906426    4744.366667        0.043428      0.027778  -0.047594   \n",
      "\n",
      "   dist_kurt  gen  \n",
      "0  -1.283057  255  \n",
      "    index      fitness  total_quality  balance_factor  range_factor  \\\n",
      "61     61  5632.670762        4736.66        0.044287      0.028571   \n",
      "\n",
      "    dist_skew  dist_kurt  gen  \n",
      "61  -0.054801  -1.279822  256  \n",
      "   index      fitness  total_quality  balance_factor  range_factor  dist_skew  \\\n",
      "0      0  5632.670762        4736.66        0.044287      0.028571  -0.054801   \n",
      "\n",
      "   dist_kurt  gen  \n",
      "0  -1.279822  257  \n",
      "   index      fitness  total_quality  balance_factor  range_factor  dist_skew  \\\n",
      "0      0  5632.670762        4736.66        0.044287      0.028571  -0.054801   \n",
      "\n",
      "   dist_kurt  gen  \n",
      "0  -1.279822  258  \n",
      "   index      fitness  total_quality  balance_factor  range_factor  dist_skew  \\\n",
      "0      0  5632.670762        4736.66        0.044287      0.028571  -0.054801   \n",
      "\n",
      "   dist_kurt  gen  \n",
      "0  -1.279822  259  \n",
      "   index      fitness  total_quality  balance_factor  range_factor  dist_skew  \\\n",
      "0      0  5632.670762        4736.66        0.044287      0.028571  -0.054801   \n",
      "\n",
      "   dist_kurt  gen  \n",
      "0  -1.279822  260  \n",
      "   index      fitness  total_quality  balance_factor  range_factor  dist_skew  \\\n",
      "0      0  5632.670762        4736.66        0.044287      0.028571  -0.054801   \n",
      "\n",
      "   dist_kurt  gen  \n",
      "0  -1.279822  261  \n",
      "   index      fitness  total_quality  balance_factor  range_factor  dist_skew  \\\n",
      "0      0  5632.670762        4736.66        0.044287      0.028571  -0.054801   \n",
      "\n",
      "   dist_kurt  gen  \n",
      "0  -1.279822  262  \n",
      "     index     fitness  total_quality  balance_factor  range_factor  \\\n",
      "189    189  5637.98644    4740.646667        0.044313      0.027778   \n",
      "\n",
      "     dist_skew  dist_kurt  gen  \n",
      "189  -0.031703  -1.294995  263  \n",
      "   index     fitness  total_quality  balance_factor  range_factor  dist_skew  \\\n",
      "0      0  5637.98644    4740.646667        0.044313      0.027778  -0.031703   \n",
      "\n",
      "   dist_kurt  gen  \n",
      "0  -1.294995  264  \n",
      "   index     fitness  total_quality  balance_factor  range_factor  dist_skew  \\\n",
      "0      0  5637.98644    4740.646667        0.044313      0.027778  -0.031703   \n",
      "\n",
      "   dist_kurt  gen  \n",
      "0  -1.294995  265  \n",
      "   index     fitness  total_quality  balance_factor  range_factor  dist_skew  \\\n",
      "0      0  5637.98644    4740.646667        0.044313      0.027778  -0.031703   \n",
      "\n",
      "   dist_kurt  gen  \n",
      "0  -1.294995  266  \n",
      "   index     fitness  total_quality  balance_factor  range_factor  dist_skew  \\\n",
      "0      0  5637.98644    4740.646667        0.044313      0.027778  -0.031703   \n",
      "\n",
      "   dist_kurt  gen  \n",
      "0  -1.294995  267  \n",
      "   index     fitness  total_quality  balance_factor  range_factor  dist_skew  \\\n",
      "0      0  5637.98644    4740.646667        0.044313      0.027778  -0.031703   \n",
      "\n",
      "   dist_kurt  gen  \n",
      "0  -1.294995  268  \n",
      "   index     fitness  total_quality  balance_factor  range_factor  dist_skew  \\\n",
      "0      0  5637.98644    4740.646667        0.044313      0.027778  -0.031703   \n",
      "\n",
      "   dist_kurt  gen  \n",
      "0  -1.294995  269  \n",
      "   index     fitness  total_quality  balance_factor  range_factor  dist_skew  \\\n",
      "0      0  5637.98644    4740.646667        0.044313      0.027778  -0.031703   \n",
      "\n",
      "   dist_kurt  gen  \n",
      "0  -1.294995  270  \n",
      "   index     fitness  total_quality  balance_factor  range_factor  dist_skew  \\\n",
      "0      0  5637.98644    4740.646667        0.044313      0.027778  -0.031703   \n",
      "\n",
      "   dist_kurt  gen  \n",
      "0  -1.294995  271  \n",
      "   index     fitness  total_quality  balance_factor  range_factor  dist_skew  \\\n",
      "0      0  5637.98644    4740.646667        0.044313      0.027778  -0.031703   \n",
      "\n",
      "   dist_kurt  gen  \n",
      "0  -1.294995  272  \n",
      "   index     fitness  total_quality  balance_factor  range_factor  dist_skew  \\\n",
      "0      0  5637.98644    4740.646667        0.044313      0.027778  -0.031703   \n",
      "\n",
      "   dist_kurt  gen  \n",
      "0  -1.294995  273  \n",
      "   index     fitness  total_quality  balance_factor  range_factor  dist_skew  \\\n",
      "0      0  5637.98644    4740.646667        0.044313      0.027778  -0.031703   \n",
      "\n",
      "   dist_kurt  gen  \n",
      "0  -1.294995  274  \n",
      "   index     fitness  total_quality  balance_factor  range_factor  dist_skew  \\\n",
      "0      0  5637.98644    4740.646667        0.044313      0.027778  -0.031703   \n",
      "\n",
      "   dist_kurt  gen  \n",
      "0  -1.294995  275  \n",
      "   index     fitness  total_quality  balance_factor  range_factor  dist_skew  \\\n",
      "0      0  5637.98644    4740.646667        0.044313      0.027778  -0.031703   \n",
      "\n",
      "   dist_kurt  gen  \n",
      "0  -1.294995  276  \n",
      "   index     fitness  total_quality  balance_factor  range_factor  dist_skew  \\\n",
      "0      0  5637.98644    4740.646667        0.044313      0.027778  -0.031703   \n",
      "\n",
      "   dist_kurt  gen  \n",
      "0  -1.294995  277  \n",
      "   index     fitness  total_quality  balance_factor  range_factor  dist_skew  \\\n",
      "0      0  5637.98644    4740.646667        0.044313      0.027778  -0.031703   \n",
      "\n",
      "   dist_kurt  gen  \n",
      "0  -1.294995  278  \n",
      "   index     fitness  total_quality  balance_factor  range_factor  dist_skew  \\\n",
      "0      0  5637.98644    4740.646667        0.044313      0.027778  -0.031703   \n",
      "\n",
      "   dist_kurt  gen  \n",
      "0  -1.294995  279  \n",
      "   index     fitness  total_quality  balance_factor  range_factor  dist_skew  \\\n",
      "0      0  5637.98644    4740.646667        0.044313      0.027778  -0.031703   \n",
      "\n",
      "   dist_kurt  gen  \n",
      "0  -1.294995  280  \n",
      "   index     fitness  total_quality  balance_factor  range_factor  dist_skew  \\\n",
      "0      0  5637.98644    4740.646667        0.044313      0.027778  -0.031703   \n",
      "\n",
      "   dist_kurt  gen  \n",
      "0  -1.294995  281  \n",
      "   index     fitness  total_quality  balance_factor  range_factor  dist_skew  \\\n",
      "0      0  5637.98644    4740.646667        0.044313      0.027778  -0.031703   \n",
      "\n",
      "   dist_kurt  gen  \n",
      "0  -1.294995  282  \n",
      "   index     fitness  total_quality  balance_factor  range_factor  dist_skew  \\\n",
      "0      0  5637.98644    4740.646667        0.044313      0.027778  -0.031703   \n",
      "\n",
      "   dist_kurt  gen  \n",
      "0  -1.294995  283  \n",
      "   index     fitness  total_quality  balance_factor  range_factor  dist_skew  \\\n",
      "0      0  5637.98644    4740.646667        0.044313      0.027778  -0.031703   \n",
      "\n",
      "   dist_kurt  gen  \n",
      "0  -1.294995  284  \n",
      "   index     fitness  total_quality  balance_factor  range_factor  dist_skew  \\\n",
      "0      0  5637.98644    4740.646667        0.044313      0.027778  -0.031703   \n",
      "\n",
      "   dist_kurt  gen  \n",
      "0  -1.294995  285  \n",
      "   index     fitness  total_quality  balance_factor  range_factor  dist_skew  \\\n",
      "0      0  5637.98644    4740.646667        0.044313      0.027778  -0.031703   \n",
      "\n",
      "   dist_kurt  gen  \n",
      "0  -1.294995  286  \n",
      "   index     fitness  total_quality  balance_factor  range_factor  dist_skew  \\\n",
      "0      0  5637.98644    4740.646667        0.044313      0.027778  -0.031703   \n",
      "\n",
      "   dist_kurt  gen  \n",
      "0  -1.294995  287  \n"
     ]
    },
    {
     "name": "stdout",
     "output_type": "stream",
     "text": [
      "   index     fitness  total_quality  balance_factor  range_factor  dist_skew  \\\n",
      "0      0  5637.98644    4740.646667        0.044313      0.027778  -0.031703   \n",
      "\n",
      "   dist_kurt  gen  \n",
      "0  -1.294995  288  \n",
      "    index      fitness  total_quality  balance_factor  range_factor  \\\n",
      "24     24  5654.622882        4754.22        0.044335      0.027778   \n",
      "\n",
      "    dist_skew  dist_kurt  gen  \n",
      "24  -0.032624  -1.299797  289  \n",
      "   index      fitness  total_quality  balance_factor  range_factor  dist_skew  \\\n",
      "0      0  5654.622882        4754.22        0.044335      0.027778  -0.032624   \n",
      "\n",
      "   dist_kurt  gen  \n",
      "0  -1.299797  290  \n",
      "   index      fitness  total_quality  balance_factor  range_factor  dist_skew  \\\n",
      "0      0  5654.622882        4754.22        0.044335      0.027778  -0.032624   \n",
      "\n",
      "   dist_kurt  gen  \n",
      "0  -1.299797  291  \n",
      "   index      fitness  total_quality  balance_factor  range_factor  dist_skew  \\\n",
      "0      0  5654.622882        4754.22        0.044335      0.027778  -0.032624   \n",
      "\n",
      "   dist_kurt  gen  \n",
      "0  -1.299797  292  \n",
      "   index      fitness  total_quality  balance_factor  range_factor  dist_skew  \\\n",
      "0      0  5654.622882        4754.22        0.044335      0.027778  -0.032624   \n",
      "\n",
      "   dist_kurt  gen  \n",
      "0  -1.299797  293  \n",
      "   index      fitness  total_quality  balance_factor  range_factor  dist_skew  \\\n",
      "0      0  5654.622882        4754.22        0.044335      0.027778  -0.032624   \n",
      "\n",
      "   dist_kurt  gen  \n",
      "0  -1.299797  294  \n",
      "   index      fitness  total_quality  balance_factor  range_factor  dist_skew  \\\n",
      "0      0  5654.622882        4754.22        0.044335      0.027778  -0.032624   \n",
      "\n",
      "   dist_kurt  gen  \n",
      "0  -1.299797  295  \n",
      "   index      fitness  total_quality  balance_factor  range_factor  dist_skew  \\\n",
      "0      0  5654.622882        4754.22        0.044335      0.027778  -0.032624   \n",
      "\n",
      "   dist_kurt  gen  \n",
      "0  -1.299797  296  \n",
      "   index      fitness  total_quality  balance_factor  range_factor  dist_skew  \\\n",
      "0      0  5654.622882        4754.22        0.044335      0.027778  -0.032624   \n",
      "\n",
      "   dist_kurt  gen  \n",
      "0  -1.299797  297  \n",
      "   index      fitness  total_quality  balance_factor  range_factor  dist_skew  \\\n",
      "0      0  5654.622882        4754.22        0.044335      0.027778  -0.032624   \n",
      "\n",
      "   dist_kurt  gen  \n",
      "0  -1.299797  298  \n",
      "   index      fitness  total_quality  balance_factor  range_factor  dist_skew  \\\n",
      "0      0  5654.622882        4754.22        0.044335      0.027778  -0.032624   \n",
      "\n",
      "   dist_kurt  gen  \n",
      "0  -1.299797  299  \n",
      "   index      fitness  total_quality  balance_factor  range_factor  dist_skew  \\\n",
      "0      0  5654.622882        4754.22        0.044335      0.027778  -0.032624   \n",
      "\n",
      "   dist_kurt  gen  \n",
      "0  -1.299797  300  \n",
      "   index      fitness  total_quality  balance_factor  range_factor  dist_skew  \\\n",
      "0      0  5654.622882        4754.22        0.044335      0.027778  -0.032624   \n",
      "\n",
      "   dist_kurt  gen  \n",
      "0  -1.299797  301  \n",
      "   index      fitness  total_quality  balance_factor  range_factor  dist_skew  \\\n",
      "0      0  5654.622882        4754.22        0.044335      0.027778  -0.032624   \n",
      "\n",
      "   dist_kurt  gen  \n",
      "0  -1.299797  302  \n",
      "   index      fitness  total_quality  balance_factor  range_factor  dist_skew  \\\n",
      "0      0  5654.622882        4754.22        0.044335      0.027778  -0.032624   \n",
      "\n",
      "   dist_kurt  gen  \n",
      "0  -1.299797  303  \n",
      "   index      fitness  total_quality  balance_factor  range_factor  dist_skew  \\\n",
      "0      0  5654.622882        4754.22        0.044335      0.027778  -0.032624   \n",
      "\n",
      "   dist_kurt  gen  \n",
      "0  -1.299797  304  \n",
      "   index      fitness  total_quality  balance_factor  range_factor  dist_skew  \\\n",
      "0      0  5654.622882        4754.22        0.044335      0.027778  -0.032624   \n",
      "\n",
      "   dist_kurt  gen  \n",
      "0  -1.299797  305  \n",
      "   index      fitness  total_quality  balance_factor  range_factor  dist_skew  \\\n",
      "0      0  5654.622882        4754.22        0.044335      0.027778  -0.032624   \n",
      "\n",
      "   dist_kurt  gen  \n",
      "0  -1.299797  306  \n",
      "   index      fitness  total_quality  balance_factor  range_factor  dist_skew  \\\n",
      "0      0  5654.622882        4754.22        0.044335      0.027778  -0.032624   \n",
      "\n",
      "   dist_kurt  gen  \n",
      "0  -1.299797  307  \n",
      "   index      fitness  total_quality  balance_factor  range_factor  dist_skew  \\\n",
      "0      0  5654.622882        4754.22        0.044335      0.027778  -0.032624   \n",
      "\n",
      "   dist_kurt  gen  \n",
      "0  -1.299797  308  \n",
      "   index      fitness  total_quality  balance_factor  range_factor  dist_skew  \\\n",
      "0      0  5654.622882        4754.22        0.044335      0.027778  -0.032624   \n",
      "\n",
      "   dist_kurt  gen  \n",
      "0  -1.299797  309  \n",
      "   index      fitness  total_quality  balance_factor  range_factor  dist_skew  \\\n",
      "0      0  5654.622882        4754.22        0.044335      0.027778  -0.032624   \n",
      "\n",
      "   dist_kurt  gen  \n",
      "0  -1.299797  310  \n",
      "   index      fitness  total_quality  balance_factor  range_factor  dist_skew  \\\n",
      "0      0  5654.622882        4754.22        0.044335      0.027778  -0.032624   \n",
      "\n",
      "   dist_kurt  gen  \n",
      "0  -1.299797  311  \n",
      "   index      fitness  total_quality  balance_factor  range_factor  dist_skew  \\\n",
      "0      0  5654.622882        4754.22        0.044335      0.027778  -0.032624   \n",
      "\n",
      "   dist_kurt  gen  \n",
      "0  -1.299797  312  \n",
      "     index      fitness  total_quality  balance_factor  range_factor  \\\n",
      "107    107  5655.493051    4766.333333        0.043724      0.027027   \n",
      "\n",
      "     dist_skew  dist_kurt  gen  \n",
      "107  -0.011577  -1.273486  313  \n",
      "   index      fitness  total_quality  balance_factor  range_factor  dist_skew  \\\n",
      "0      0  5655.493051    4766.333333        0.043724      0.027027  -0.011577   \n",
      "\n",
      "   dist_kurt  gen  \n",
      "0  -1.273486  314  \n",
      "   index      fitness  total_quality  balance_factor  range_factor  dist_skew  \\\n",
      "0      0  5655.493051    4766.333333        0.043724      0.027027  -0.011577   \n",
      "\n",
      "   dist_kurt  gen  \n",
      "0  -1.273486  315  \n",
      "   index      fitness  total_quality  balance_factor  range_factor  dist_skew  \\\n",
      "0      0  5655.493051    4766.333333        0.043724      0.027027  -0.011577   \n",
      "\n",
      "   dist_kurt  gen  \n",
      "0  -1.273486  316  \n",
      "   index      fitness  total_quality  balance_factor  range_factor  dist_skew  \\\n",
      "0      0  5655.493051    4766.333333        0.043724      0.027027  -0.011577   \n",
      "\n",
      "   dist_kurt  gen  \n",
      "0  -1.273486  317  \n",
      "   index      fitness  total_quality  balance_factor  range_factor  dist_skew  \\\n",
      "0      0  5655.493051    4766.333333        0.043724      0.027027  -0.011577   \n",
      "\n",
      "   dist_kurt  gen  \n",
      "0  -1.273486  318  \n",
      "   index      fitness  total_quality  balance_factor  range_factor  dist_skew  \\\n",
      "0      0  5655.493051    4766.333333        0.043724      0.027027  -0.011577   \n",
      "\n",
      "   dist_kurt  gen  \n",
      "0  -1.273486  319  \n",
      "   index      fitness  total_quality  balance_factor  range_factor  dist_skew  \\\n",
      "0      0  5655.493051    4766.333333        0.043724      0.027027  -0.011577   \n",
      "\n",
      "   dist_kurt  gen  \n",
      "0  -1.273486  320  \n",
      "   index      fitness  total_quality  balance_factor  range_factor  dist_skew  \\\n",
      "0      0  5655.493051    4766.333333        0.043724      0.027027  -0.011577   \n",
      "\n",
      "   dist_kurt  gen  \n",
      "0  -1.273486  321  \n",
      "   index      fitness  total_quality  balance_factor  range_factor  dist_skew  \\\n",
      "0      0  5655.493051    4766.333333        0.043724      0.027027  -0.011577   \n",
      "\n",
      "   dist_kurt  gen  \n",
      "0  -1.273486  322  \n",
      "   index      fitness  total_quality  balance_factor  range_factor  dist_skew  \\\n",
      "0      0  5655.493051    4766.333333        0.043724      0.027027  -0.011577   \n",
      "\n",
      "   dist_kurt  gen  \n",
      "0  -1.273486  323  \n",
      "   index      fitness  total_quality  balance_factor  range_factor  dist_skew  \\\n",
      "0      0  5655.493051    4766.333333        0.043724      0.027027  -0.011577   \n",
      "\n",
      "   dist_kurt  gen  \n",
      "0  -1.273486  324  \n",
      "   index      fitness  total_quality  balance_factor  range_factor  dist_skew  \\\n",
      "0      0  5655.493051    4766.333333        0.043724      0.027027  -0.011577   \n",
      "\n",
      "   dist_kurt  gen  \n",
      "0  -1.273486  325  \n",
      "   index      fitness  total_quality  balance_factor  range_factor  dist_skew  \\\n",
      "0      0  5655.493051    4766.333333        0.043724      0.027027  -0.011577   \n",
      "\n",
      "   dist_kurt  gen  \n",
      "0  -1.273486  326  \n",
      "   index      fitness  total_quality  balance_factor  range_factor  dist_skew  \\\n",
      "0      0  5655.493051    4766.333333        0.043724      0.027027  -0.011577   \n",
      "\n",
      "   dist_kurt  gen  \n",
      "0  -1.273486  327  \n",
      "   index      fitness  total_quality  balance_factor  range_factor  dist_skew  \\\n",
      "0      0  5655.493051    4766.333333        0.043724      0.027027  -0.011577   \n",
      "\n",
      "   dist_kurt  gen  \n",
      "0  -1.273486  328  \n"
     ]
    },
    {
     "name": "stdout",
     "output_type": "stream",
     "text": [
      "   index      fitness  total_quality  balance_factor  range_factor  dist_skew  \\\n",
      "0      0  5655.493051    4766.333333        0.043724      0.027027  -0.011577   \n",
      "\n",
      "   dist_kurt  gen  \n",
      "0  -1.273486  329  \n",
      "   index      fitness  total_quality  balance_factor  range_factor  dist_skew  \\\n",
      "0      0  5655.493051    4766.333333        0.043724      0.027027  -0.011577   \n",
      "\n",
      "   dist_kurt  gen  \n",
      "0  -1.273486  330  \n",
      "   index      fitness  total_quality  balance_factor  range_factor  dist_skew  \\\n",
      "0      0  5655.493051    4766.333333        0.043724      0.027027  -0.011577   \n",
      "\n",
      "   dist_kurt  gen  \n",
      "0  -1.273486  331  \n",
      "   index      fitness  total_quality  balance_factor  range_factor  dist_skew  \\\n",
      "0      0  5655.493051    4766.333333        0.043724      0.027027  -0.011577   \n",
      "\n",
      "   dist_kurt  gen  \n",
      "0  -1.273486  332  \n",
      "   index      fitness  total_quality  balance_factor  range_factor  dist_skew  \\\n",
      "0      0  5655.493051    4766.333333        0.043724      0.027027  -0.011577   \n",
      "\n",
      "   dist_kurt  gen  \n",
      "0  -1.273486  333  \n",
      "   index      fitness  total_quality  balance_factor  range_factor  dist_skew  \\\n",
      "0      0  5655.493051    4766.333333        0.043724      0.027027  -0.011577   \n",
      "\n",
      "   dist_kurt  gen  \n",
      "0  -1.273486  334  \n",
      "   index      fitness  total_quality  balance_factor  range_factor  dist_skew  \\\n",
      "0      0  5655.493051    4766.333333        0.043724      0.027027  -0.011577   \n",
      "\n",
      "   dist_kurt  gen  \n",
      "0  -1.273486  335  \n",
      "   index      fitness  total_quality  balance_factor  range_factor  dist_skew  \\\n",
      "0      0  5655.493051    4766.333333        0.043724      0.027027  -0.011577   \n",
      "\n",
      "   dist_kurt  gen  \n",
      "0  -1.273486  336  \n",
      "   index      fitness  total_quality  balance_factor  range_factor  dist_skew  \\\n",
      "0      0  5655.493051    4766.333333        0.043724      0.027027  -0.011577   \n",
      "\n",
      "   dist_kurt  gen  \n",
      "0  -1.273486  337  \n",
      "   index      fitness  total_quality  balance_factor  range_factor  dist_skew  \\\n",
      "0      0  5655.493051    4766.333333        0.043724      0.027027  -0.011577   \n",
      "\n",
      "   dist_kurt  gen  \n",
      "0  -1.273486  338  \n",
      "   index      fitness  total_quality  balance_factor  range_factor  dist_skew  \\\n",
      "0      0  5655.493051    4766.333333        0.043724      0.027027  -0.011577   \n",
      "\n",
      "   dist_kurt  gen  \n",
      "0  -1.273486  339  \n",
      "   index      fitness  total_quality  balance_factor  range_factor  dist_skew  \\\n",
      "0      0  5655.493051    4766.333333        0.043724      0.027027  -0.011577   \n",
      "\n",
      "   dist_kurt  gen  \n",
      "0  -1.273486  340  \n",
      "   index      fitness  total_quality  balance_factor  range_factor  dist_skew  \\\n",
      "0      0  5655.493051    4766.333333        0.043724      0.027027  -0.011577   \n",
      "\n",
      "   dist_kurt  gen  \n",
      "0  -1.273486  341  \n",
      "   index      fitness  total_quality  balance_factor  range_factor  dist_skew  \\\n",
      "0      0  5655.493051    4766.333333        0.043724      0.027027  -0.011577   \n",
      "\n",
      "   dist_kurt  gen  \n",
      "0  -1.273486  342  \n",
      "   index      fitness  total_quality  balance_factor  range_factor  dist_skew  \\\n",
      "0      0  5655.493051    4766.333333        0.043724      0.027027  -0.011577   \n",
      "\n",
      "   dist_kurt  gen  \n",
      "0  -1.273486  343  \n",
      "     index     fitness  total_quality  balance_factor  range_factor  \\\n",
      "137    137  5694.39575    4736.213333        0.047097      0.028571   \n",
      "\n",
      "     dist_skew  dist_kurt  gen  \n",
      "137   -0.00215  -1.303892  344  \n",
      "   index     fitness  total_quality  balance_factor  range_factor  dist_skew  \\\n",
      "0      0  5694.39575    4736.213333        0.047097      0.028571   -0.00215   \n",
      "\n",
      "   dist_kurt  gen  \n",
      "0  -1.303892  345  \n",
      "   index     fitness  total_quality  balance_factor  range_factor  dist_skew  \\\n",
      "0      0  5694.39575    4736.213333        0.047097      0.028571   -0.00215   \n",
      "\n",
      "   dist_kurt  gen  \n",
      "0  -1.303892  346  \n",
      "   index     fitness  total_quality  balance_factor  range_factor  dist_skew  \\\n",
      "0      0  5694.39575    4736.213333        0.047097      0.028571   -0.00215   \n",
      "\n",
      "   dist_kurt  gen  \n",
      "0  -1.303892  347  \n",
      "   index     fitness  total_quality  balance_factor  range_factor  dist_skew  \\\n",
      "0      0  5694.39575    4736.213333        0.047097      0.028571   -0.00215   \n",
      "\n",
      "   dist_kurt  gen  \n",
      "0  -1.303892  348  \n",
      "   index     fitness  total_quality  balance_factor  range_factor  dist_skew  \\\n",
      "0      0  5694.39575    4736.213333        0.047097      0.028571   -0.00215   \n",
      "\n",
      "   dist_kurt  gen  \n",
      "0  -1.303892  349  \n",
      "   index     fitness  total_quality  balance_factor  range_factor  dist_skew  \\\n",
      "0      0  5694.39575    4736.213333        0.047097      0.028571   -0.00215   \n",
      "\n",
      "   dist_kurt  gen  \n",
      "0  -1.303892  350  \n",
      "    index      fitness  total_quality  balance_factor  range_factor  \\\n",
      "71     71  5733.620637    4759.633333        0.047591      0.029412   \n",
      "\n",
      "    dist_skew  dist_kurt  gen  \n",
      "71  -0.013287  -1.279756  351  \n",
      "   index      fitness  total_quality  balance_factor  range_factor  dist_skew  \\\n",
      "0      0  5733.620637    4759.633333        0.047591      0.029412  -0.013287   \n",
      "\n",
      "   dist_kurt  gen  \n",
      "0  -1.279756  352  \n",
      "   index      fitness  total_quality  balance_factor  range_factor  dist_skew  \\\n",
      "0      0  5733.620637    4759.633333        0.047591      0.029412  -0.013287   \n",
      "\n",
      "   dist_kurt  gen  \n",
      "0  -1.279756  353  \n",
      "   index      fitness  total_quality  balance_factor  range_factor  dist_skew  \\\n",
      "0      0  5733.620637    4759.633333        0.047591      0.029412  -0.013287   \n",
      "\n",
      "   dist_kurt  gen  \n",
      "0  -1.279756  354  \n",
      "   index      fitness  total_quality  balance_factor  range_factor  dist_skew  \\\n",
      "0      0  5733.620637    4759.633333        0.047591      0.029412  -0.013287   \n",
      "\n",
      "   dist_kurt  gen  \n",
      "0  -1.279756  355  \n",
      "   index      fitness  total_quality  balance_factor  range_factor  dist_skew  \\\n",
      "0      0  5733.620637    4759.633333        0.047591      0.029412  -0.013287   \n",
      "\n",
      "   dist_kurt  gen  \n",
      "0  -1.279756  356  \n",
      "   index      fitness  total_quality  balance_factor  range_factor  dist_skew  \\\n",
      "0      0  5733.620637    4759.633333        0.047591      0.029412  -0.013287   \n",
      "\n",
      "   dist_kurt  gen  \n",
      "0  -1.279756  357  \n",
      "   index      fitness  total_quality  balance_factor  range_factor  dist_skew  \\\n",
      "0      0  5733.620637    4759.633333        0.047591      0.029412  -0.013287   \n",
      "\n",
      "   dist_kurt  gen  \n",
      "0  -1.279756  358  \n",
      "   index      fitness  total_quality  balance_factor  range_factor  dist_skew  \\\n",
      "0      0  5733.620637    4759.633333        0.047591      0.029412  -0.013287   \n",
      "\n",
      "   dist_kurt  gen  \n",
      "0  -1.279756  359  \n",
      "   index      fitness  total_quality  balance_factor  range_factor  dist_skew  \\\n",
      "0      0  5733.620637    4759.633333        0.047591      0.029412  -0.013287   \n",
      "\n",
      "   dist_kurt  gen  \n",
      "0  -1.279756  360  \n",
      "   index      fitness  total_quality  balance_factor  range_factor  dist_skew  \\\n",
      "0      0  5733.620637    4759.633333        0.047591      0.029412  -0.013287   \n",
      "\n",
      "   dist_kurt  gen  \n",
      "0  -1.279756  361  \n",
      "   index      fitness  total_quality  balance_factor  range_factor  dist_skew  \\\n",
      "0      0  5733.620637    4759.633333        0.047591      0.029412  -0.013287   \n",
      "\n",
      "   dist_kurt  gen  \n",
      "0  -1.279756  362  \n",
      "   index      fitness  total_quality  balance_factor  range_factor  dist_skew  \\\n",
      "0      0  5733.620637    4759.633333        0.047591      0.029412  -0.013287   \n",
      "\n",
      "   dist_kurt  gen  \n",
      "0  -1.279756  363  \n",
      "   index      fitness  total_quality  balance_factor  range_factor  dist_skew  \\\n",
      "0      0  5733.620637    4759.633333        0.047591      0.029412  -0.013287   \n",
      "\n",
      "   dist_kurt  gen  \n",
      "0  -1.279756  364  \n",
      "   index      fitness  total_quality  balance_factor  range_factor  dist_skew  \\\n",
      "0      0  5733.620637    4759.633333        0.047591      0.029412  -0.013287   \n",
      "\n",
      "   dist_kurt  gen  \n",
      "0  -1.279756  365  \n",
      "   index      fitness  total_quality  balance_factor  range_factor  dist_skew  \\\n",
      "0      0  5733.620637    4759.633333        0.047591      0.029412  -0.013287   \n",
      "\n",
      "   dist_kurt  gen  \n",
      "0  -1.279756  366  \n",
      "   index      fitness  total_quality  balance_factor  range_factor  dist_skew  \\\n",
      "0      0  5733.620637    4759.633333        0.047591      0.029412  -0.013287   \n",
      "\n",
      "   dist_kurt  gen  \n",
      "0  -1.279756  367  \n",
      "   index      fitness  total_quality  balance_factor  range_factor  dist_skew  \\\n",
      "0      0  5733.620637    4759.633333        0.047591      0.029412  -0.013287   \n",
      "\n",
      "   dist_kurt  gen  \n",
      "0  -1.279756  368  \n",
      "   index      fitness  total_quality  balance_factor  range_factor  dist_skew  \\\n",
      "0      0  5733.620637    4759.633333        0.047591      0.029412  -0.013287   \n",
      "\n",
      "   dist_kurt  gen  \n",
      "0  -1.279756  369  \n"
     ]
    },
    {
     "name": "stdout",
     "output_type": "stream",
     "text": [
      "   index      fitness  total_quality  balance_factor  range_factor  dist_skew  \\\n",
      "0      0  5733.620637    4759.633333        0.047591      0.029412  -0.013287   \n",
      "\n",
      "   dist_kurt  gen  \n",
      "0  -1.279756  370  \n",
      "   index      fitness  total_quality  balance_factor  range_factor  dist_skew  \\\n",
      "0      0  5733.620637    4759.633333        0.047591      0.029412  -0.013287   \n",
      "\n",
      "   dist_kurt  gen  \n",
      "0  -1.279756  371  \n",
      "   index      fitness  total_quality  balance_factor  range_factor  dist_skew  \\\n",
      "0      0  5733.620637    4759.633333        0.047591      0.029412  -0.013287   \n",
      "\n",
      "   dist_kurt  gen  \n",
      "0  -1.279756  372  \n",
      "   index      fitness  total_quality  balance_factor  range_factor  dist_skew  \\\n",
      "0      0  5733.620637    4759.633333        0.047591      0.029412  -0.013287   \n",
      "\n",
      "   dist_kurt  gen  \n",
      "0  -1.279756  373  \n",
      "   index      fitness  total_quality  balance_factor  range_factor  dist_skew  \\\n",
      "0      0  5733.620637    4759.633333        0.047591      0.029412  -0.013287   \n",
      "\n",
      "   dist_kurt  gen  \n",
      "0  -1.279756  374  \n",
      "   index      fitness  total_quality  balance_factor  range_factor  dist_skew  \\\n",
      "0      0  5733.620637    4759.633333        0.047591      0.029412  -0.013287   \n",
      "\n",
      "   dist_kurt  gen  \n",
      "0  -1.279756  375  \n",
      "   index      fitness  total_quality  balance_factor  range_factor  dist_skew  \\\n",
      "0      0  5733.620637    4759.633333        0.047591      0.029412  -0.013287   \n",
      "\n",
      "   dist_kurt  gen  \n",
      "0  -1.279756  376  \n",
      "   index      fitness  total_quality  balance_factor  range_factor  dist_skew  \\\n",
      "0      0  5733.620637    4759.633333        0.047591      0.029412  -0.013287   \n",
      "\n",
      "   dist_kurt  gen  \n",
      "0  -1.279756  377  \n",
      "   index      fitness  total_quality  balance_factor  range_factor  dist_skew  \\\n",
      "0      0  5733.620637    4759.633333        0.047591      0.029412  -0.013287   \n",
      "\n",
      "   dist_kurt  gen  \n",
      "0  -1.279756  378  \n",
      "   index      fitness  total_quality  balance_factor  range_factor  dist_skew  \\\n",
      "0      0  5733.620637    4759.633333        0.047591      0.029412  -0.013287   \n",
      "\n",
      "   dist_kurt  gen  \n",
      "0  -1.279756  379  \n",
      "   index      fitness  total_quality  balance_factor  range_factor  dist_skew  \\\n",
      "0      0  5733.620637    4759.633333        0.047591      0.029412  -0.013287   \n",
      "\n",
      "   dist_kurt  gen  \n",
      "0  -1.279756  380  \n",
      "   index      fitness  total_quality  balance_factor  range_factor  dist_skew  \\\n",
      "0      0  5733.620637    4759.633333        0.047591      0.029412  -0.013287   \n",
      "\n",
      "   dist_kurt  gen  \n",
      "0  -1.279756  381  \n",
      "   index      fitness  total_quality  balance_factor  range_factor  dist_skew  \\\n",
      "0      0  5733.620637    4759.633333        0.047591      0.029412  -0.013287   \n",
      "\n",
      "   dist_kurt  gen  \n",
      "0  -1.279756  382  \n",
      "   index      fitness  total_quality  balance_factor  range_factor  dist_skew  \\\n",
      "0      0  5733.620637    4759.633333        0.047591      0.029412  -0.013287   \n",
      "\n",
      "   dist_kurt  gen  \n",
      "0  -1.279756  383  \n",
      "   index      fitness  total_quality  balance_factor  range_factor  dist_skew  \\\n",
      "0      0  5733.620637    4759.633333        0.047591      0.029412  -0.013287   \n",
      "\n",
      "   dist_kurt  gen  \n",
      "0  -1.279756  384  \n",
      "   index      fitness  total_quality  balance_factor  range_factor  dist_skew  \\\n",
      "0      0  5733.620637    4759.633333        0.047591      0.029412  -0.013287   \n",
      "\n",
      "   dist_kurt  gen  \n",
      "0  -1.279756  385  \n",
      "   index      fitness  total_quality  balance_factor  range_factor  dist_skew  \\\n",
      "0      0  5733.620637    4759.633333        0.047591      0.029412  -0.013287   \n",
      "\n",
      "   dist_kurt  gen  \n",
      "0  -1.279756  386  \n",
      "   index      fitness  total_quality  balance_factor  range_factor  dist_skew  \\\n",
      "0      0  5733.620637    4759.633333        0.047591      0.029412  -0.013287   \n",
      "\n",
      "   dist_kurt  gen  \n",
      "0  -1.279756  387  \n",
      "   index      fitness  total_quality  balance_factor  range_factor  dist_skew  \\\n",
      "0      0  5733.620637    4759.633333        0.047591      0.029412  -0.013287   \n",
      "\n",
      "   dist_kurt  gen  \n",
      "0  -1.279756  388  \n",
      "   index      fitness  total_quality  balance_factor  range_factor  dist_skew  \\\n",
      "0      0  5733.620637    4759.633333        0.047591      0.029412  -0.013287   \n",
      "\n",
      "   dist_kurt  gen  \n",
      "0  -1.279756  389  \n",
      "   index      fitness  total_quality  balance_factor  range_factor  dist_skew  \\\n",
      "0      0  5733.620637    4759.633333        0.047591      0.029412  -0.013287   \n",
      "\n",
      "   dist_kurt  gen  \n",
      "0  -1.279756  390  \n",
      "   index      fitness  total_quality  balance_factor  range_factor  dist_skew  \\\n",
      "0      0  5733.620637    4759.633333        0.047591      0.029412  -0.013287   \n",
      "\n",
      "   dist_kurt  gen  \n",
      "0  -1.279756  391  \n",
      "   index      fitness  total_quality  balance_factor  range_factor  dist_skew  \\\n",
      "0      0  5733.620637    4759.633333        0.047591      0.029412  -0.013287   \n",
      "\n",
      "   dist_kurt  gen  \n",
      "0  -1.279756  392  \n",
      "   index      fitness  total_quality  balance_factor  range_factor  dist_skew  \\\n",
      "0      0  5733.620637    4759.633333        0.047591      0.029412  -0.013287   \n",
      "\n",
      "   dist_kurt  gen  \n",
      "0  -1.279756  393  \n",
      "   index      fitness  total_quality  balance_factor  range_factor  dist_skew  \\\n",
      "0      0  5733.620637    4759.633333        0.047591      0.029412  -0.013287   \n",
      "\n",
      "   dist_kurt  gen  \n",
      "0  -1.279756  394  \n",
      "   index      fitness  total_quality  balance_factor  range_factor  dist_skew  \\\n",
      "0      0  5733.620637    4759.633333        0.047591      0.029412  -0.013287   \n",
      "\n",
      "   dist_kurt  gen  \n",
      "0  -1.279756  395  \n",
      "   index      fitness  total_quality  balance_factor  range_factor  dist_skew  \\\n",
      "0      0  5733.620637    4759.633333        0.047591      0.029412  -0.013287   \n",
      "\n",
      "   dist_kurt  gen  \n",
      "0  -1.279756  396  \n",
      "   index      fitness  total_quality  balance_factor  range_factor  dist_skew  \\\n",
      "0      0  5733.620637    4759.633333        0.047591      0.029412  -0.013287   \n",
      "\n",
      "   dist_kurt  gen  \n",
      "0  -1.279756  397  \n",
      "   index      fitness  total_quality  balance_factor  range_factor  dist_skew  \\\n",
      "0      0  5733.620637    4759.633333        0.047591      0.029412  -0.013287   \n",
      "\n",
      "   dist_kurt  gen  \n",
      "0  -1.279756  398  \n",
      "   index      fitness  total_quality  balance_factor  range_factor  dist_skew  \\\n",
      "0      0  5733.620637    4759.633333        0.047591      0.029412  -0.013287   \n",
      "\n",
      "   dist_kurt  gen  \n",
      "0  -1.279756  399  \n",
      "   index      fitness  total_quality  balance_factor  range_factor  dist_skew  \\\n",
      "0      0  5733.620637    4759.633333        0.047591      0.029412  -0.013287   \n",
      "\n",
      "   dist_kurt  gen  \n",
      "0  -1.279756  400  \n",
      "   index      fitness  total_quality  balance_factor  range_factor  dist_skew  \\\n",
      "0      0  5733.620637    4759.633333        0.047591      0.029412  -0.013287   \n",
      "\n",
      "   dist_kurt  gen  \n",
      "0  -1.279756  401  \n",
      "   index      fitness  total_quality  balance_factor  range_factor  dist_skew  \\\n",
      "0      0  5733.620637    4759.633333        0.047591      0.029412  -0.013287   \n",
      "\n",
      "   dist_kurt  gen  \n",
      "0  -1.279756  402  \n",
      "   index      fitness  total_quality  balance_factor  range_factor  dist_skew  \\\n",
      "0      0  5733.620637    4759.633333        0.047591      0.029412  -0.013287   \n",
      "\n",
      "   dist_kurt  gen  \n",
      "0  -1.279756  403  \n",
      "   index      fitness  total_quality  balance_factor  range_factor  dist_skew  \\\n",
      "0      0  5733.620637    4759.633333        0.047591      0.029412  -0.013287   \n",
      "\n",
      "   dist_kurt  gen  \n",
      "0  -1.279756  404  \n",
      "   index      fitness  total_quality  balance_factor  range_factor  dist_skew  \\\n",
      "0      0  5733.620637    4759.633333        0.047591      0.029412  -0.013287   \n",
      "\n",
      "   dist_kurt  gen  \n",
      "0  -1.279756  405  \n",
      "   index      fitness  total_quality  balance_factor  range_factor  dist_skew  \\\n",
      "0      0  5733.620637    4759.633333        0.047591      0.029412  -0.013287   \n",
      "\n",
      "   dist_kurt  gen  \n",
      "0  -1.279756  406  \n",
      "   index      fitness  total_quality  balance_factor  range_factor  dist_skew  \\\n",
      "0      0  5733.620637    4759.633333        0.047591      0.029412  -0.013287   \n",
      "\n",
      "   dist_kurt  gen  \n",
      "0  -1.279756  407  \n",
      "   index      fitness  total_quality  balance_factor  range_factor  dist_skew  \\\n",
      "0      0  5733.620637    4759.633333        0.047591      0.029412  -0.013287   \n",
      "\n",
      "   dist_kurt  gen  \n",
      "0  -1.279756  408  \n",
      "   index      fitness  total_quality  balance_factor  range_factor  dist_skew  \\\n",
      "0      0  5733.620637    4759.633333        0.047591      0.029412  -0.013287   \n",
      "\n",
      "   dist_kurt  gen  \n",
      "0  -1.279756  409  \n",
      "   index      fitness  total_quality  balance_factor  range_factor  dist_skew  \\\n",
      "0      0  5733.620637    4759.633333        0.047591      0.029412  -0.013287   \n",
      "\n",
      "   dist_kurt  gen  \n",
      "0  -1.279756  410  \n"
     ]
    },
    {
     "name": "stdout",
     "output_type": "stream",
     "text": [
      "   index      fitness  total_quality  balance_factor  range_factor  dist_skew  \\\n",
      "0      0  5733.620637    4759.633333        0.047591      0.029412  -0.013287   \n",
      "\n",
      "   dist_kurt  gen  \n",
      "0  -1.279756  411  \n",
      "   index      fitness  total_quality  balance_factor  range_factor  dist_skew  \\\n",
      "0      0  5733.620637    4759.633333        0.047591      0.029412  -0.013287   \n",
      "\n",
      "   dist_kurt  gen  \n",
      "0  -1.279756  412  \n",
      "   index      fitness  total_quality  balance_factor  range_factor  dist_skew  \\\n",
      "0      0  5733.620637    4759.633333        0.047591      0.029412  -0.013287   \n",
      "\n",
      "   dist_kurt  gen  \n",
      "0  -1.279756  413  \n",
      "   index      fitness  total_quality  balance_factor  range_factor  dist_skew  \\\n",
      "0      0  5733.620637    4759.633333        0.047591      0.029412  -0.013287   \n",
      "\n",
      "   dist_kurt  gen  \n",
      "0  -1.279756  414  \n",
      "   index      fitness  total_quality  balance_factor  range_factor  dist_skew  \\\n",
      "0      0  5733.620637    4759.633333        0.047591      0.029412  -0.013287   \n",
      "\n",
      "   dist_kurt  gen  \n",
      "0  -1.279756  415  \n",
      "   index      fitness  total_quality  balance_factor  range_factor  dist_skew  \\\n",
      "0      0  5733.620637    4759.633333        0.047591      0.029412  -0.013287   \n",
      "\n",
      "   dist_kurt  gen  \n",
      "0  -1.279756  416  \n",
      "   index      fitness  total_quality  balance_factor  range_factor  dist_skew  \\\n",
      "0      0  5733.620637    4759.633333        0.047591      0.029412  -0.013287   \n",
      "\n",
      "   dist_kurt  gen  \n",
      "0  -1.279756  417  \n",
      "   index      fitness  total_quality  balance_factor  range_factor  dist_skew  \\\n",
      "0      0  5733.620637    4759.633333        0.047591      0.029412  -0.013287   \n",
      "\n",
      "   dist_kurt  gen  \n",
      "0  -1.279756  418  \n",
      "   index      fitness  total_quality  balance_factor  range_factor  dist_skew  \\\n",
      "0      0  5733.620637    4759.633333        0.047591      0.029412  -0.013287   \n",
      "\n",
      "   dist_kurt  gen  \n",
      "0  -1.279756  419  \n",
      "   index      fitness  total_quality  balance_factor  range_factor  dist_skew  \\\n",
      "0      0  5733.620637    4759.633333        0.047591      0.029412  -0.013287   \n",
      "\n",
      "   dist_kurt  gen  \n",
      "0  -1.279756  420  \n",
      "     index      fitness  total_quality  balance_factor  range_factor  \\\n",
      "179    179  5736.182494        4761.76        0.047591      0.029412   \n",
      "\n",
      "     dist_skew  dist_kurt  gen  \n",
      "179  -0.013287  -1.279756  421  \n",
      "   index      fitness  total_quality  balance_factor  range_factor  dist_skew  \\\n",
      "0      0  5736.182494        4761.76        0.047591      0.029412  -0.013287   \n",
      "\n",
      "   dist_kurt  gen  \n",
      "0  -1.279756  422  \n",
      "   index      fitness  total_quality  balance_factor  range_factor  dist_skew  \\\n",
      "0      0  5736.182494        4761.76        0.047591      0.029412  -0.013287   \n",
      "\n",
      "   dist_kurt  gen  \n",
      "0  -1.279756  423  \n",
      "   index      fitness  total_quality  balance_factor  range_factor  dist_skew  \\\n",
      "0      0  5736.182494        4761.76        0.047591      0.029412  -0.013287   \n",
      "\n",
      "   dist_kurt  gen  \n",
      "0  -1.279756  424  \n",
      "   index      fitness  total_quality  balance_factor  range_factor  dist_skew  \\\n",
      "0      0  5736.182494        4761.76        0.047591      0.029412  -0.013287   \n",
      "\n",
      "   dist_kurt  gen  \n",
      "0  -1.279756  425  \n",
      "   index      fitness  total_quality  balance_factor  range_factor  dist_skew  \\\n",
      "0      0  5736.182494        4761.76        0.047591      0.029412  -0.013287   \n",
      "\n",
      "   dist_kurt  gen  \n",
      "0  -1.279756  426  \n",
      "   index      fitness  total_quality  balance_factor  range_factor  dist_skew  \\\n",
      "0      0  5736.182494        4761.76        0.047591      0.029412  -0.013287   \n",
      "\n",
      "   dist_kurt  gen  \n",
      "0  -1.279756  427  \n",
      "   index      fitness  total_quality  balance_factor  range_factor  dist_skew  \\\n",
      "0      0  5736.182494        4761.76        0.047591      0.029412  -0.013287   \n",
      "\n",
      "   dist_kurt  gen  \n",
      "0  -1.279756  428  \n",
      "   index      fitness  total_quality  balance_factor  range_factor  dist_skew  \\\n",
      "0      0  5736.182494        4761.76        0.047591      0.029412  -0.013287   \n",
      "\n",
      "   dist_kurt  gen  \n",
      "0  -1.279756  429  \n",
      "   index      fitness  total_quality  balance_factor  range_factor  dist_skew  \\\n",
      "0      0  5736.182494        4761.76        0.047591      0.029412  -0.013287   \n",
      "\n",
      "   dist_kurt  gen  \n",
      "0  -1.279756  430  \n",
      "   index      fitness  total_quality  balance_factor  range_factor  dist_skew  \\\n",
      "0      0  5736.182494        4761.76        0.047591      0.029412  -0.013287   \n",
      "\n",
      "   dist_kurt  gen  \n",
      "0  -1.279756  431  \n",
      "   index      fitness  total_quality  balance_factor  range_factor  dist_skew  \\\n",
      "0      0  5736.182494        4761.76        0.047591      0.029412  -0.013287   \n",
      "\n",
      "   dist_kurt  gen  \n",
      "0  -1.279756  432  \n",
      "   index      fitness  total_quality  balance_factor  range_factor  dist_skew  \\\n",
      "0      0  5736.182494        4761.76        0.047591      0.029412  -0.013287   \n",
      "\n",
      "   dist_kurt  gen  \n",
      "0  -1.279756  433  \n",
      "   index      fitness  total_quality  balance_factor  range_factor  dist_skew  \\\n",
      "0      0  5736.182494        4761.76        0.047591      0.029412  -0.013287   \n",
      "\n",
      "   dist_kurt  gen  \n",
      "0  -1.279756  434  \n",
      "   index      fitness  total_quality  balance_factor  range_factor  dist_skew  \\\n",
      "0      0  5736.182494        4761.76        0.047591      0.029412  -0.013287   \n",
      "\n",
      "   dist_kurt  gen  \n",
      "0  -1.279756  435  \n",
      "   index      fitness  total_quality  balance_factor  range_factor  dist_skew  \\\n",
      "0      0  5736.182494        4761.76        0.047591      0.029412  -0.013287   \n",
      "\n",
      "   dist_kurt  gen  \n",
      "0  -1.279756  436  \n"
     ]
    },
    {
     "ename": "KeyboardInterrupt",
     "evalue": "",
     "output_type": "error",
     "traceback": [
      "\u001b[1;31m---------------------------------------------------------------------------\u001b[0m",
      "\u001b[1;31mKeyboardInterrupt\u001b[0m                         Traceback (most recent call last)",
      "\u001b[1;32m<ipython-input-1451-5949dbe6910a>\u001b[0m in \u001b[0;36m<module>\u001b[1;34m\u001b[0m\n\u001b[0;32m     11\u001b[0m \u001b[1;32mfor\u001b[0m \u001b[0mgen\u001b[0m \u001b[1;32min\u001b[0m \u001b[0mrange\u001b[0m\u001b[1;33m(\u001b[0m\u001b[1;36m1\u001b[0m\u001b[1;33m,\u001b[0m\u001b[0mgenerations\u001b[0m\u001b[1;33m)\u001b[0m\u001b[1;33m:\u001b[0m\u001b[1;33m\u001b[0m\u001b[1;33m\u001b[0m\u001b[0m\n\u001b[0;32m     12\u001b[0m     \u001b[0mpop\u001b[0m \u001b[1;33m=\u001b[0m \u001b[0mnext_gen\u001b[0m\u001b[1;33m(\u001b[0m\u001b[0mpop\u001b[0m\u001b[1;33m,\u001b[0m \u001b[0mpop_rank_df\u001b[0m\u001b[1;33m,\u001b[0m \u001b[0melite_size\u001b[0m\u001b[1;33m,\u001b[0m \u001b[0mmut_rate\u001b[0m\u001b[1;33m)\u001b[0m\u001b[1;33m\u001b[0m\u001b[1;33m\u001b[0m\u001b[0m\n\u001b[1;32m---> 13\u001b[1;33m     \u001b[0mpop_rank_df\u001b[0m \u001b[1;33m=\u001b[0m \u001b[0mrank_pop\u001b[0m\u001b[1;33m(\u001b[0m\u001b[0mpop\u001b[0m\u001b[1;33m,\u001b[0m \u001b[0mnl_en_job_domain\u001b[0m\u001b[1;33m,\u001b[0m \u001b[0mnl_en_editor_domain_quality\u001b[0m\u001b[1;33m,\u001b[0m \u001b[0mgen\u001b[0m\u001b[1;33m,\u001b[0m \u001b[0mbalance_penalty\u001b[0m\u001b[1;33m)\u001b[0m\u001b[1;33m\u001b[0m\u001b[1;33m\u001b[0m\u001b[0m\n\u001b[0m\u001b[0;32m     14\u001b[0m     \u001b[0mprint\u001b[0m\u001b[1;33m(\u001b[0m\u001b[0mpop_rank_df\u001b[0m\u001b[1;33m.\u001b[0m\u001b[0mhead\u001b[0m\u001b[1;33m(\u001b[0m\u001b[1;36m1\u001b[0m\u001b[1;33m)\u001b[0m\u001b[1;33m)\u001b[0m\u001b[1;33m\u001b[0m\u001b[1;33m\u001b[0m\u001b[0m\n\u001b[0;32m     15\u001b[0m     \u001b[0mpop_ranks\u001b[0m\u001b[1;33m.\u001b[0m\u001b[0mappend\u001b[0m\u001b[1;33m(\u001b[0m\u001b[0mpop_rank_df\u001b[0m\u001b[1;33m)\u001b[0m\u001b[1;33m\u001b[0m\u001b[1;33m\u001b[0m\u001b[0m\n",
      "\u001b[1;32m<ipython-input-1446-846e8dde8630>\u001b[0m in \u001b[0;36mrank_pop\u001b[1;34m(_pop, _job_domain, _agent_domain_quality, gen, _balance_penalty)\u001b[0m\n\u001b[0;32m      5\u001b[0m     \u001b[0mpop_rank\u001b[0m\u001b[1;33m=\u001b[0m\u001b[1;33m[\u001b[0m\u001b[1;33m]\u001b[0m\u001b[1;33m\u001b[0m\u001b[1;33m\u001b[0m\u001b[0m\n\u001b[0;32m      6\u001b[0m     \u001b[1;32mfor\u001b[0m \u001b[0mi\u001b[0m \u001b[1;32min\u001b[0m \u001b[0mrange\u001b[0m\u001b[1;33m(\u001b[0m\u001b[0mlen\u001b[0m\u001b[1;33m(\u001b[0m\u001b[0m_pop\u001b[0m\u001b[1;33m)\u001b[0m\u001b[1;33m)\u001b[0m\u001b[1;33m:\u001b[0m\u001b[1;33m\u001b[0m\u001b[1;33m\u001b[0m\u001b[0m\n\u001b[1;32m----> 7\u001b[1;33m         \u001b[0mpop_rank\u001b[0m\u001b[1;33m.\u001b[0m\u001b[0mappend\u001b[0m\u001b[1;33m(\u001b[0m\u001b[1;33m[\u001b[0m\u001b[0mi\u001b[0m\u001b[1;33m]\u001b[0m \u001b[1;33m+\u001b[0m \u001b[0mind_fit_func\u001b[0m\u001b[1;33m(\u001b[0m\u001b[0m_pop\u001b[0m\u001b[1;33m[\u001b[0m\u001b[0mi\u001b[0m\u001b[1;33m]\u001b[0m\u001b[1;33m,\u001b[0m \u001b[0m_job_domain\u001b[0m\u001b[1;33m,\u001b[0m \u001b[0m_agent_domain_quality\u001b[0m\u001b[1;33m,\u001b[0m \u001b[0m_balance_penalty\u001b[0m\u001b[1;33m)\u001b[0m\u001b[1;33m)\u001b[0m\u001b[1;33m\u001b[0m\u001b[1;33m\u001b[0m\u001b[0m\n\u001b[0m\u001b[0;32m      8\u001b[0m     pop_rank_df = pd.DataFrame(pop_rank,columns=['index']+\\\n\u001b[0;32m      9\u001b[0m        'fitness, total_quality, balance_factor, range_factor, dist_skew, dist_kurt'.split(', ')).\\\n",
      "\u001b[1;32m<ipython-input-1445-62a98868d811>\u001b[0m in \u001b[0;36mind_fit_func\u001b[1;34m(_agent_job, _job_domain, _agent_domain_quality, _balance_penalty)\u001b[0m\n\u001b[0;32m      3\u001b[0m     \u001b[0mConsider\u001b[0m \u001b[0mquality\u001b[0m \u001b[1;32mand\u001b[0m \u001b[0mjob\u001b[0m \u001b[0massignment\u001b[0m \u001b[0mbalance\u001b[0m \u001b[1;32mfor\u001b[0m \u001b[0mnow\u001b[0m\u001b[1;33m.\u001b[0m\u001b[1;33m\u001b[0m\u001b[1;33m\u001b[0m\u001b[0m\n\u001b[0;32m      4\u001b[0m     \"\"\"\n\u001b[1;32m----> 5\u001b[1;33m     \u001b[0mtotal_quality\u001b[0m \u001b[1;33m=\u001b[0m \u001b[0mquality_per_job\u001b[0m\u001b[1;33m(\u001b[0m\u001b[0m_agent_job\u001b[0m\u001b[1;33m,\u001b[0m \u001b[0m_job_domain\u001b[0m\u001b[1;33m,\u001b[0m \u001b[0m_agent_domain_quality\u001b[0m\u001b[1;33m)\u001b[0m\u001b[1;33m.\u001b[0m\u001b[0msum\u001b[0m\u001b[1;33m(\u001b[0m\u001b[1;33m)\u001b[0m\u001b[1;33m\u001b[0m\u001b[1;33m\u001b[0m\u001b[0m\n\u001b[0m\u001b[0;32m      6\u001b[0m     \u001b[0mjobs_per_agent\u001b[0m \u001b[1;33m=\u001b[0m \u001b[0m_agent_job\u001b[0m\u001b[1;33m.\u001b[0m\u001b[0msum\u001b[0m\u001b[1;33m(\u001b[0m\u001b[0maxis\u001b[0m\u001b[1;33m=\u001b[0m\u001b[1;36m1\u001b[0m\u001b[1;33m)\u001b[0m\u001b[1;33m\u001b[0m\u001b[1;33m\u001b[0m\u001b[0m\n\u001b[0;32m      7\u001b[0m     \u001b[0mrange_factor\u001b[0m \u001b[1;33m=\u001b[0m \u001b[1;36m1\u001b[0m\u001b[1;33m/\u001b[0m\u001b[0mjobs_per_agent\u001b[0m\u001b[1;33m.\u001b[0m\u001b[0mptp\u001b[0m\u001b[1;33m(\u001b[0m\u001b[1;33m)\u001b[0m  \u001b[1;31m# the bigger the range between min and max jobs per agent, the lower this factor\u001b[0m\u001b[1;33m\u001b[0m\u001b[1;33m\u001b[0m\u001b[0m\n",
      "\u001b[1;32m<ipython-input-1000-d6679253bb04>\u001b[0m in \u001b[0;36mquality_per_job\u001b[1;34m(_agent_job, _job_domain, _agent_domain_quality)\u001b[0m\n\u001b[0;32m      3\u001b[0m     \u001b[0mReturns\u001b[0m \u001b[0mthe\u001b[0m \u001b[0mquality\u001b[0m \u001b[0mper\u001b[0m \u001b[0mtask\u001b[0m \u001b[1;32min\u001b[0m \u001b[0ma\u001b[0m \u001b[0mmatrix\u001b[0m \u001b[0mof\u001b[0m \u001b[0magent_jobs\u001b[0m \u001b[0massignment\u001b[0m\u001b[1;33m\u001b[0m\u001b[1;33m\u001b[0m\u001b[0m\n\u001b[0;32m      4\u001b[0m     \"\"\" \n\u001b[1;32m----> 5\u001b[1;33m     \u001b[1;32mreturn\u001b[0m \u001b[1;33m(\u001b[0m\u001b[0mnp\u001b[0m\u001b[1;33m.\u001b[0m\u001b[0mmatmul\u001b[0m\u001b[1;33m(\u001b[0m\u001b[0m_job_domain\u001b[0m\u001b[1;33m,\u001b[0m \u001b[0m_agent_domain_quality\u001b[0m\u001b[1;33m.\u001b[0m\u001b[0mT\u001b[0m\u001b[1;33m)\u001b[0m \u001b[1;33m*\u001b[0m \u001b[0m_agent_job\u001b[0m\u001b[1;33m.\u001b[0m\u001b[0mT\u001b[0m\u001b[1;33m)\u001b[0m\u001b[1;33m.\u001b[0m\u001b[0msum\u001b[0m\u001b[1;33m(\u001b[0m\u001b[0maxis\u001b[0m\u001b[1;33m=\u001b[0m\u001b[1;36m1\u001b[0m\u001b[1;33m)\u001b[0m\u001b[1;33m\u001b[0m\u001b[1;33m\u001b[0m\u001b[0m\n\u001b[0m\u001b[0;32m      6\u001b[0m \u001b[1;33m\u001b[0m\u001b[0m\n\u001b[0;32m      7\u001b[0m \u001b[1;32mdef\u001b[0m \u001b[0mprice_per_job\u001b[0m\u001b[1;33m(\u001b[0m\u001b[0m_agent_job\u001b[0m\u001b[1;33m,\u001b[0m \u001b[0m_job_domain\u001b[0m\u001b[1;33m,\u001b[0m \u001b[0m_agent_domain_skill\u001b[0m\u001b[1;33m,\u001b[0m \u001b[0m_job_words\u001b[0m\u001b[1;33m,\u001b[0m \u001b[0m_price_per_word\u001b[0m\u001b[1;33m)\u001b[0m\u001b[1;33m:\u001b[0m\u001b[1;33m\u001b[0m\u001b[1;33m\u001b[0m\u001b[0m\n",
      "\u001b[1;31mKeyboardInterrupt\u001b[0m: "
     ]
    }
   ],
   "source": [
    "elite_size=20\n",
    "mut_rate=0.1\n",
    "balance_penalty=50\n",
    "generations=500\n",
    "\n",
    "pop_ranks=[]\n",
    "# pop zero\n",
    "pop_rank_df = rank_pop(pop, nl_en_job_domain, nl_en_editor_domain_quality, 0, balance_penalty)\n",
    "pop_ranks.append(pop_rank_df)\n",
    "\n",
    "for gen in range(1,generations):\n",
    "    pop = next_gen(pop, pop_rank_df, elite_size, mut_rate)\n",
    "    pop_rank_df = rank_pop(pop, nl_en_job_domain, nl_en_editor_domain_quality, gen, balance_penalty)\n",
    "    print(pop_rank_df.head(1))\n",
    "    pop_ranks.append(pop_rank_df)"
   ]
  },
  {
   "cell_type": "code",
   "execution_count": 1443,
   "metadata": {
    "ExecuteTime": {
     "end_time": "2019-10-24T16:59:53.734969Z",
     "start_time": "2019-10-24T16:59:53.245275Z"
    }
   },
   "outputs": [
    {
     "data": {
      "text/plain": [
       "<matplotlib.axes._subplots.AxesSubplot at 0x25d761538d0>"
      ]
     },
     "execution_count": 1443,
     "metadata": {},
     "output_type": "execute_result"
    },
    {
     "data": {
      "image/png": "[encoded data removed]",
      "text/plain": [
       "<Figure size 432x288 with 1 Axes>"
      ]
     },
     "metadata": {
      "needs_background": "light"
     },
     "output_type": "display_data"
    }
   ],
   "source": [
    "allpop_ranks = pd.concat(pop_ranks)\n",
    "allpop_ranks.groupby('gen')['fitness'].max().plot()"
   ]
  },
  {
   "cell_type": "code",
   "execution_count": 1434,
   "metadata": {
    "ExecuteTime": {
     "end_time": "2019-10-24T16:47:11.789434Z",
     "start_time": "2019-10-24T16:47:11.580994Z"
    }
   },
   "outputs": [
    {
     "data": {
      "text/plain": [
       "<matplotlib.axes._subplots.AxesSubplot at 0x25d05c557b8>"
      ]
     },
     "execution_count": 1434,
     "metadata": {},
     "output_type": "execute_result"
    },
    {
     "data": {
      "image/png": "[encoded data removed]",
      "text/plain": [
       "<Figure size 432x288 with 1 Axes>"
      ]
     },
     "metadata": {
      "needs_background": "light"
     },
     "output_type": "display_data"
    }
   ],
   "source": [
    "allpop_ranks.groupby('gen')['fitness'].max().plot()"
   ]
  },
  {
   "cell_type": "code",
   "execution_count": 1444,
   "metadata": {
    "ExecuteTime": {
     "end_time": "2019-10-24T17:00:24.246842Z",
     "start_time": "2019-10-24T17:00:24.219915Z"
    }
   },
   "outputs": [
    {
     "data": {
      "text/html": [
       "<div>\n",
       "<style scoped>\n",
       "    .dataframe tbody tr th:only-of-type {\n",
       "        vertical-align: middle;\n",
       "    }\n",
       "\n",
       "    .dataframe tbody tr th {\n",
       "        vertical-align: top;\n",
       "    }\n",
       "\n",
       "    .dataframe thead th {\n",
       "        text-align: right;\n",
       "    }\n",
       "</style>\n",
       "<table border=\"1\" class=\"dataframe\">\n",
       "  <thead>\n",
       "    <tr style=\"text-align: right;\">\n",
       "      <th></th>\n",
       "      <th>index</th>\n",
       "      <th>fitness</th>\n",
       "      <th>total_quality</th>\n",
       "      <th>balance</th>\n",
       "      <th>gen</th>\n",
       "    </tr>\n",
       "  </thead>\n",
       "  <tbody>\n",
       "    <tr>\n",
       "      <th>0</th>\n",
       "      <td>0</td>\n",
       "      <td>5534.228780</td>\n",
       "      <td>4734.360000</td>\n",
       "      <td>0.039904</td>\n",
       "      <td>99</td>\n",
       "    </tr>\n",
       "    <tr>\n",
       "      <th>1</th>\n",
       "      <td>1</td>\n",
       "      <td>5528.633407</td>\n",
       "      <td>4729.573333</td>\n",
       "      <td>0.039904</td>\n",
       "      <td>99</td>\n",
       "    </tr>\n",
       "    <tr>\n",
       "      <th>2</th>\n",
       "      <td>2</td>\n",
       "      <td>5506.071569</td>\n",
       "      <td>4737.826667</td>\n",
       "      <td>0.038413</td>\n",
       "      <td>99</td>\n",
       "    </tr>\n",
       "    <tr>\n",
       "      <th>3</th>\n",
       "      <td>3</td>\n",
       "      <td>5504.997244</td>\n",
       "      <td>4709.353333</td>\n",
       "      <td>0.039904</td>\n",
       "      <td>99</td>\n",
       "    </tr>\n",
       "    <tr>\n",
       "      <th>4</th>\n",
       "      <td>4</td>\n",
       "      <td>5490.239831</td>\n",
       "      <td>4731.440000</td>\n",
       "      <td>0.038022</td>\n",
       "      <td>99</td>\n",
       "    </tr>\n",
       "    <tr>\n",
       "      <th>...</th>\n",
       "      <td>...</td>\n",
       "      <td>...</td>\n",
       "      <td>...</td>\n",
       "      <td>...</td>\n",
       "      <td>...</td>\n",
       "    </tr>\n",
       "    <tr>\n",
       "      <th>45</th>\n",
       "      <td>45</td>\n",
       "      <td>4938.638207</td>\n",
       "      <td>4751.786667</td>\n",
       "      <td>0.009859</td>\n",
       "      <td>99</td>\n",
       "    </tr>\n",
       "    <tr>\n",
       "      <th>37</th>\n",
       "      <td>37</td>\n",
       "      <td>4923.714780</td>\n",
       "      <td>4727.593333</td>\n",
       "      <td>0.010390</td>\n",
       "      <td>99</td>\n",
       "    </tr>\n",
       "    <tr>\n",
       "      <th>44</th>\n",
       "      <td>44</td>\n",
       "      <td>4915.948922</td>\n",
       "      <td>4725.473333</td>\n",
       "      <td>0.010101</td>\n",
       "      <td>99</td>\n",
       "    </tr>\n",
       "    <tr>\n",
       "      <th>88</th>\n",
       "      <td>88</td>\n",
       "      <td>4912.833138</td>\n",
       "      <td>4749.833333</td>\n",
       "      <td>0.008625</td>\n",
       "      <td>99</td>\n",
       "    </tr>\n",
       "    <tr>\n",
       "      <th>34</th>\n",
       "      <td>34</td>\n",
       "      <td>4906.856265</td>\n",
       "      <td>4742.433333</td>\n",
       "      <td>0.008712</td>\n",
       "      <td>99</td>\n",
       "    </tr>\n",
       "  </tbody>\n",
       "</table>\n",
       "<p>100 rows × 5 columns</p>\n",
       "</div>"
      ],
      "text/plain": [
       "    index      fitness  total_quality   balance  gen\n",
       "0       0  5534.228780    4734.360000  0.039904   99\n",
       "1       1  5528.633407    4729.573333  0.039904   99\n",
       "2       2  5506.071569    4737.826667  0.038413   99\n",
       "3       3  5504.997244    4709.353333  0.039904   99\n",
       "4       4  5490.239831    4731.440000  0.038022   99\n",
       "..    ...          ...            ...       ...  ...\n",
       "45     45  4938.638207    4751.786667  0.009859   99\n",
       "37     37  4923.714780    4727.593333  0.010390   99\n",
       "44     44  4915.948922    4725.473333  0.010101   99\n",
       "88     88  4912.833138    4749.833333  0.008625   99\n",
       "34     34  4906.856265    4742.433333  0.008712   99\n",
       "\n",
       "[100 rows x 5 columns]"
      ]
     },
     "execution_count": 1444,
     "metadata": {},
     "output_type": "execute_result"
    }
   ],
   "source": [
    "pop_ranks[-1]"
   ]
  },
  {
   "cell_type": "code",
   "execution_count": null,
   "metadata": {},
   "outputs": [],
   "source": []
  },
  {
   "cell_type": "code",
   "execution_count": 884,
   "metadata": {
    "ExecuteTime": {
     "end_time": "2019-10-24T10:54:25.518293Z",
     "start_time": "2019-10-24T10:54:25.496352Z"
    }
   },
   "outputs": [],
   "source": [
    "# minimal example\n",
    "from io import StringIO\n",
    "agent_job = pd.read_csv(StringIO(\"\"\"\n",
    "1\t0\t0\t0\t1\n",
    "0\t1\t0\t1\t0\n",
    "0\t0\t1\t0\t0\n",
    "\"\"\"),sep='\\t',header=None,index_col=False).values\n",
    "\n",
    "job_domain = pd.read_csv(StringIO(\"\"\"\n",
    "1\t0\n",
    "0\t1\n",
    "1\t0\n",
    "0\t1\n",
    "1\t0\n",
    "\"\"\"),sep='\\t',header=None,index_col=False).values\n",
    "\n",
    "job_domain = pd.read_csv(StringIO(\"\"\"\n",
    "1\t0\n",
    "0\t1\n",
    "1\t0\n",
    "0\t1\n",
    "1\t0\n",
    "\"\"\"),sep='\\t',header=None,index_col=False).values\n",
    "\n",
    "job_words = pd.read_csv(StringIO(\"\"\"\n",
    "40\n",
    "32\n",
    "25\n",
    "35\n",
    "24\n",
    "\"\"\"),sep='\\t',header=None,index_col=False).values.flatten()\n",
    "\n",
    "agent_domain_skill = pd.read_csv(StringIO(\"\"\"\n",
    "5\t3\n",
    "1\t2\n",
    "2\t4\n",
    "\"\"\"),sep='\\t',header=None,index_col=False).values\n",
    "\n",
    "price_per_word = 0.02"
   ]
  },
  {
   "cell_type": "code",
   "execution_count": 455,
   "metadata": {
    "ExecuteTime": {
     "end_time": "2019-10-24T04:31:38.379165Z",
     "start_time": "2019-10-24T04:31:38.367182Z"
    }
   },
   "outputs": [
    {
     "name": "stdout",
     "output_type": "stream",
     "text": [
      "[[5 3]\n",
      " [1 2]\n",
      " [2 4]]\n",
      "[[0.8  0.48]\n",
      " [0.06 0.12]\n",
      " [0.24 0.48]]\n"
     ]
    }
   ],
   "source": [
    "print(agent_domain_skill)\n",
    "# quality per domain will be average quality * domain quality\n",
    "agent_domain_quality = pd.DataFrame(agent_domain_skill).apply(lambda x: np.mean(x/5)*(x/5),axis=1).values\n",
    "print(agent_domain_quality)"
   ]
  },
  {
   "cell_type": "code",
   "execution_count": 384,
   "metadata": {
    "ExecuteTime": {
     "end_time": "2019-10-24T03:40:06.925655Z",
     "start_time": "2019-10-24T03:40:06.916683Z"
    }
   },
   "outputs": [
    {
     "name": "stdout",
     "output_type": "stream",
     "text": [
      "[[0 0 0 0 1]\n",
      " [1 0 0 0 0]\n",
      " [0 1 1 1 0]]\n",
      "[[0 1 0 1 0]\n",
      " [0 0 1 0 0]\n",
      " [1 0 0 0 1]]\n"
     ]
    }
   ],
   "source": [
    "print(agent_job)\n",
    "np.apply_along_axis(np.random.shuffle,0,agent_job)\n",
    "while np.count_nonzero(agent_job.sum(axis=1)) != agent_job.shape[0]:\n",
    "    np.apply_along_axis(np.random.shuffle,0,agent_job)\n",
    "    print(np.count_nonzero(agent_job.sum(axis=1)) == agent_job.shape[0])\n",
    "print(agent_job)"
   ]
  },
  {
   "cell_type": "code",
   "execution_count": 440,
   "metadata": {
    "ExecuteTime": {
     "end_time": "2019-10-24T04:11:55.215696Z",
     "start_time": "2019-10-24T04:11:55.202768Z"
    }
   },
   "outputs": [
    {
     "name": "stdout",
     "output_type": "stream",
     "text": [
      "job per agent\n",
      "[[1 0 0]\n",
      " [0 1 0]\n",
      " [0 0 1]\n",
      " [0 1 0]\n",
      " [1 0 0]]\n",
      "-------------------\n",
      "job_agent_skill\n",
      "[[5 1 2]\n",
      " [3 2 4]\n",
      " [5 1 2]\n",
      " [3 2 4]\n",
      " [5 1 2]]\n",
      "-------------------\n",
      "job_skill\n",
      "[[5 0 0]\n",
      " [0 2 0]\n",
      " [0 0 2]\n",
      " [0 2 0]\n",
      " [5 0 0]]\n",
      "-------------------\n",
      "price per job\n"
     ]
    },
    {
     "data": {
      "text/plain": [
       "array([4.  , 1.28, 1.  , 1.4 , 2.4 ])"
      ]
     },
     "execution_count": 440,
     "metadata": {},
     "output_type": "execute_result"
    }
   ],
   "source": [
    "## price calc\n",
    "print('job per agent')\n",
    "print(agent_job.T)\n",
    "print('-------------------')\n",
    "\n",
    "# this wields job on rows and agent on columns, filled with domain skill\n",
    "print('job_agent_skill')\n",
    "print(np.matmul(job_domain, agent_domain_skill.T))\n",
    "print('-------------------')\n",
    "\n",
    "# times agent_job, will give job_skill\n",
    "print('job_skill')\n",
    "print(np.matmul(job_domain, agent_domain_skill.T) * agent_job.T)\n",
    "print('-------------------')\n",
    "\n",
    "# this summed on axis 1, times job_words times price_per_word will give price per job\n",
    "print('price per job')\n",
    "(np.matmul(job_domain, agent_domain_skill.T) * agent_job.T).sum(axis=1) * job_words * price_per_word"
   ]
  },
  {
   "cell_type": "code",
   "execution_count": 1102,
   "metadata": {
    "ExecuteTime": {
     "end_time": "2019-10-24T14:18:49.155174Z",
     "start_time": "2019-10-24T14:18:49.139178Z"
    }
   },
   "outputs": [
    {
     "data": {
      "text/html": [
       "<div>\n",
       "<style scoped>\n",
       "    .dataframe tbody tr th:only-of-type {\n",
       "        vertical-align: middle;\n",
       "    }\n",
       "\n",
       "    .dataframe tbody tr th {\n",
       "        vertical-align: top;\n",
       "    }\n",
       "\n",
       "    .dataframe thead th {\n",
       "        text-align: right;\n",
       "    }\n",
       "</style>\n",
       "<table border=\"1\" class=\"dataframe\">\n",
       "  <thead>\n",
       "    <tr style=\"text-align: right;\">\n",
       "      <th></th>\n",
       "      <th>index</th>\n",
       "      <th>fitness</th>\n",
       "      <th>total_quality</th>\n",
       "      <th>balance</th>\n",
       "      <th>gen</th>\n",
       "    </tr>\n",
       "  </thead>\n",
       "  <tbody>\n",
       "    <tr>\n",
       "      <th>3</th>\n",
       "      <td>3</td>\n",
       "      <td>109.596002</td>\n",
       "      <td>4715.206667</td>\n",
       "      <td>0.023243</td>\n",
       "      <td>0</td>\n",
       "    </tr>\n",
       "    <tr>\n",
       "      <th>1</th>\n",
       "      <td>1</td>\n",
       "      <td>96.838034</td>\n",
       "      <td>4709.000000</td>\n",
       "      <td>0.020564</td>\n",
       "      <td>0</td>\n",
       "    </tr>\n",
       "    <tr>\n",
       "      <th>2</th>\n",
       "      <td>2</td>\n",
       "      <td>79.688270</td>\n",
       "      <td>4757.706667</td>\n",
       "      <td>0.016749</td>\n",
       "      <td>0</td>\n",
       "    </tr>\n",
       "    <tr>\n",
       "      <th>5</th>\n",
       "      <td>5</td>\n",
       "      <td>61.545034</td>\n",
       "      <td>4657.873333</td>\n",
       "      <td>0.013213</td>\n",
       "      <td>0</td>\n",
       "    </tr>\n",
       "    <tr>\n",
       "      <th>6</th>\n",
       "      <td>6</td>\n",
       "      <td>50.647902</td>\n",
       "      <td>4709.193333</td>\n",
       "      <td>0.010755</td>\n",
       "      <td>0</td>\n",
       "    </tr>\n",
       "    <tr>\n",
       "      <th>9</th>\n",
       "      <td>9</td>\n",
       "      <td>50.595173</td>\n",
       "      <td>4736.600000</td>\n",
       "      <td>0.010682</td>\n",
       "      <td>0</td>\n",
       "    </tr>\n",
       "    <tr>\n",
       "      <th>7</th>\n",
       "      <td>7</td>\n",
       "      <td>43.913058</td>\n",
       "      <td>4749.840000</td>\n",
       "      <td>0.009245</td>\n",
       "      <td>0</td>\n",
       "    </tr>\n",
       "    <tr>\n",
       "      <th>8</th>\n",
       "      <td>8</td>\n",
       "      <td>37.514985</td>\n",
       "      <td>4717.646667</td>\n",
       "      <td>0.007952</td>\n",
       "      <td>0</td>\n",
       "    </tr>\n",
       "    <tr>\n",
       "      <th>4</th>\n",
       "      <td>4</td>\n",
       "      <td>29.075474</td>\n",
       "      <td>4743.613333</td>\n",
       "      <td>0.006129</td>\n",
       "      <td>0</td>\n",
       "    </tr>\n",
       "    <tr>\n",
       "      <th>0</th>\n",
       "      <td>0</td>\n",
       "      <td>18.898704</td>\n",
       "      <td>4741.713333</td>\n",
       "      <td>0.003986</td>\n",
       "      <td>0</td>\n",
       "    </tr>\n",
       "  </tbody>\n",
       "</table>\n",
       "</div>"
      ],
      "text/plain": [
       "   index     fitness  total_quality   balance  gen\n",
       "3      3  109.596002    4715.206667  0.023243    0\n",
       "1      1   96.838034    4709.000000  0.020564    0\n",
       "2      2   79.688270    4757.706667  0.016749    0\n",
       "5      5   61.545034    4657.873333  0.013213    0\n",
       "6      6   50.647902    4709.193333  0.010755    0\n",
       "9      9   50.595173    4736.600000  0.010682    0\n",
       "7      7   43.913058    4749.840000  0.009245    0\n",
       "8      8   37.514985    4717.646667  0.007952    0\n",
       "4      4   29.075474    4743.613333  0.006129    0\n",
       "0      0   18.898704    4741.713333  0.003986    0"
      ]
     },
     "execution_count": 1102,
     "metadata": {},
     "output_type": "execute_result"
    }
   ],
   "source": []
  },
  {
   "cell_type": "code",
   "execution_count": 1078,
   "metadata": {
    "ExecuteTime": {
     "end_time": "2019-10-24T14:09:47.484572Z",
     "start_time": "2019-10-24T14:09:47.476594Z"
    }
   },
   "outputs": [
    {
     "data": {
      "text/plain": [
       "208.0"
      ]
     },
     "execution_count": 1078,
     "metadata": {},
     "output_type": "execute_result"
    }
   ],
   "source": [
    "ini_pop[3].sum(axis=1).max()"
   ]
  },
  {
   "cell_type": "code",
   "execution_count": null,
   "metadata": {},
   "outputs": [],
   "source": [
    "for i in range(10):\n",
    "    agent_job = gen_rand_onezeromat((3,5))\n",
    "    price = ((np.matmul(job_domain, agent_domain_skill.T) * agent_job.T).sum(axis=1) * job_words * price_per_word).sum()\n",
    "    qual = (np.matmul(job_domain, agent_domain_quality.T) * agent_job.T).sum(axis=1).sum()\n",
    "    print(f'{price:.2f}, {qual:.2f}')"
   ]
  },
  {
   "cell_type": "code",
   "execution_count": 469,
   "metadata": {
    "ExecuteTime": {
     "end_time": "2019-10-24T04:40:09.138889Z",
     "start_time": "2019-10-24T04:40:09.126923Z"
    }
   },
   "outputs": [
    {
     "name": "stdout",
     "output_type": "stream",
     "text": [
      "job per agent_quality\n",
      "[[0.8  0.06 0.24]\n",
      " [0.48 0.12 0.48]\n",
      " [0.8  0.06 0.24]\n",
      " [0.48 0.12 0.48]\n",
      " [0.8  0.06 0.24]]\n",
      "--------------\n",
      "quality per job\n",
      "[[0.8  0.   0.  ]\n",
      " [0.   0.12 0.  ]\n",
      " [0.   0.   0.24]\n",
      " [0.   0.12 0.  ]\n",
      " [0.8  0.   0.  ]]\n",
      "--------------\n",
      "quality per job\n",
      "[0.8  0.12 0.24 0.12 0.8 ]\n",
      "mean: 0.42, median: 0.24\n"
     ]
    }
   ],
   "source": [
    "## average quality calc\n",
    "# (np.matmul(job_domain, agent_domain_quality.T) * agent_job.T).sum(axis=1).mean()\n",
    "# this wields job/agent filled with agent quality\n",
    "print('job per agent_quality')\n",
    "print(np.matmul(job_domain, agent_domain_quality.T))\n",
    "print('--------------')\n",
    "\n",
    "# times job per agent wields quality per job\n",
    "print('quality per job')\n",
    "print(np.matmul(job_domain, agent_domain_quality.T) * agent_job.T)\n",
    "print('--------------')\n",
    "\n",
    "# summed on axis 1 wields quality per job\n",
    "print('quality per job')\n",
    "quality_job = (np.matmul(job_domain, agent_domain_quality.T) * agent_job.T).sum(axis=1)\n",
    "print(quality_job)\n",
    "\n",
    "print(f'mean: {quality_job.mean():.2}, median: {np.median(quality_job):.2}')"
   ]
  },
  {
   "cell_type": "code",
   "execution_count": 892,
   "metadata": {
    "ExecuteTime": {
     "end_time": "2019-10-24T10:57:16.396588Z",
     "start_time": "2019-10-24T10:57:16.392599Z"
    }
   },
   "outputs": [],
   "source": [
    "agent_job_ini = agent_job.copy() "
   ]
  },
  {
   "cell_type": "code",
   "execution_count": 903,
   "metadata": {
    "ExecuteTime": {
     "end_time": "2019-10-24T10:57:29.754279Z",
     "start_time": "2019-10-24T10:57:29.750287Z"
    }
   },
   "outputs": [],
   "source": []
  },
  {
   "cell_type": "code",
   "execution_count": 935,
   "metadata": {
    "ExecuteTime": {
     "end_time": "2019-10-24T10:59:19.832549Z",
     "start_time": "2019-10-24T10:59:19.816595Z"
    }
   },
   "outputs": [
    {
     "name": "stdout",
     "output_type": "stream",
     "text": [
      "6.92, 1.32\n",
      "8.28, 1.70\n",
      "10.72, 2.44\n",
      "10.20, 2.06\n",
      "9.48, 2.06\n",
      "9.24, 2.06\n",
      "7.08, 1.50\n",
      "12.26, 2.62\n",
      "6.30, 1.32\n",
      "9.56, 1.70\n"
     ]
    }
   ],
   "source": [
    "for i in range(10):\n",
    "    agent_job = gen_rand_onezeromat((3,5))\n",
    "    price = ((np.matmul(job_domain, agent_domain_skill.T) * agent_job.T).sum(axis=1) * job_words * price_per_word).sum()\n",
    "    qual = (np.matmul(job_domain, agent_domain_quality.T) * agent_job.T).sum(axis=1).sum()\n",
    "    print(f'{price:.2f}, {qual:.2f}')"
   ]
  },
  {
   "cell_type": "code",
   "execution_count": 890,
   "metadata": {
    "ExecuteTime": {
     "end_time": "2019-10-24T10:56:43.896274Z",
     "start_time": "2019-10-24T10:56:43.864359Z"
    }
   },
   "outputs": [
    {
     "name": "stdout",
     "output_type": "stream",
     "text": [
      "[1. 1. 1. 1. 1. 3.] [1. 1. 1. 1. 1. 1. 1. 1.]\n",
      "[2. 1. 2. 1. 1. 1.] [1. 1. 1. 1. 1. 1. 1. 1.]\n",
      "[1. 1. 1. 3. 1. 1.] [1. 1. 1. 1. 1. 1. 1. 1.]\n",
      "[1. 1. 3. 1. 1. 1.] [1. 1. 1. 1. 1. 1. 1. 1.]\n"
     ]
    },
    {
     "data": {
      "text/plain": [
       "[None, None, None, None]"
      ]
     },
     "execution_count": 890,
     "metadata": {},
     "output_type": "execute_result"
    }
   ],
   "source": [
    "def shuffle_mat_nozerorow(mat_a):\n",
    "    \"\"\"\n",
    "    Shuffle each matrix column independently, making sure there's no row with only zeros.\n",
    "    This is done inplace on the matrix passed, pass with .copy (should increase time).\n",
    "    \"\"\"\n",
    "    count=1\n",
    "    while np.count_nonzero(mat_a.sum(axis=1)) != mat_a.shape[0]:\n",
    "        np.apply_along_axis(np.random.shuffle,0,mat_a)\n",
    "        count+=1\n",
    "        if count>1e+04:\n",
    "            raise Exception('cannnot find a matrix with no row with only zeros')\n",
    "            break\n",
    "    return mat_a\n",
    "\n",
    "def gen_rand_onezeromat(shape:tuple):\n",
    "    \"\"\"\n",
    "    Generates a random one-zero matrix, with no zero-only rows.\n",
    "    \"\"\"\n",
    "    mat_a = np.concatenate((np.ones(shape[1]).reshape(1,shape[1]), np.zeros([shape[0]-1,shape[1]])),axis=0)\n",
    "    return shuffle_mat_nozerorow(mat_a)\n",
    "\n",
    "def gen_pop(_popsize, shape:tuple, seed):\n",
    "    \"\"\"\n",
    "    Returns a list of random one-zero matrices, with no zero-only rows.\n",
    "    \"\"\"\n",
    "    np.random.seed(seed)\n",
    "    pop = []\n",
    "    for i in range(_popsize):\n",
    "        pop.append(gen_rand_onezeromat(shape))\n",
    "    return pop\n",
    "    \n",
    "\n",
    "a = gen_pop(4,(6,8),42)\n",
    "[print(x.sum(axis=1),x.sum(axis=0)) for x in a]"
   ]
  },
  {
   "cell_type": "markdown",
   "metadata": {},
   "source": [
    "Inversion exchange crossover    \n",
    "<img src=\"IEC.png\" width=500 align='left'>"
   ]
  },
  {
   "cell_type": "code",
   "execution_count": 1171,
   "metadata": {
    "ExecuteTime": {
     "end_time": "2019-10-24T15:44:39.069242Z",
     "start_time": "2019-10-24T15:44:39.045309Z"
    }
   },
   "outputs": [],
   "source": [
    "def iec(mat_a, mat_b, bp):\n",
    "    \"\"\"\n",
    "    Inversion exchange crossover.\n",
    "    Returns a tuple of mat_a and mat_b with column range exchanged and inverted at the breakpoints bp.\n",
    "    \"\"\"\n",
    "    return np.concatenate([mat_a[:,:bp[0]],np.flip(mat_b[:,bp[0]:bp[1]],axis=1),mat_a[:,bp[1]:]],axis=1),\\\n",
    "    np.concatenate([mat_b[:,:bp[0]],np.flip(mat_a[:,bp[0]:bp[1]],axis=1),mat_b[:,bp[1]:]],axis=1)\n",
    "\n",
    "def rand_iec(mat_a, mat_b):\n",
    "    \"\"\"\n",
    "    Random Inversion exchange crossover.\n",
    "    iec with random breakpoints.\n",
    "    \"\"\"\n",
    "    bp = np.sort(np.random.choice(np.arange(mat_a.shape[1]),2,replace=False))\n",
    "    return iec(mat_a, mat_b, bp)\n",
    "\n",
    "def mutate(mat_a):\n",
    "    \"\"\"\n",
    "    Swap adjacent columns on a random mutation point mt.\n",
    "    This is done in place, pass with .copy to avoid.\n",
    "    \"\"\"\n",
    "    mt = np.random.choice(np.arange(mat_a.shape[1]))\n",
    "    mat_a[:,mt-1], mat_a[:,mt] = mat_a[:,mt], mat_a[:,mt-1].copy()\n",
    "    return mat_a\n",
    "\n",
    "def mutate_pop(_pop:list, _mut_rate:float):\n",
    "    \"\"\"\n",
    "    Mutate population at given mutation rate.\n",
    "    This is done in place, pass with .copy to avoid.\n",
    "    Example:\n",
    "    pop = gen_pop(10,(5,10),42)\n",
    "    pop2 = mutate_pop([x.copy() for x in pop],0.2)\n",
    "    [(a==b).mean() for a,b in zip(pop,pop2)]\n",
    "    \"\"\"\n",
    "    for ind in _pop:\n",
    "        if np.random.rand() <= _mut_rate:\n",
    "            mutate(ind)\n",
    "    return _pop"
   ]
  },
  {
   "cell_type": "code",
   "execution_count": 871,
   "metadata": {
    "ExecuteTime": {
     "end_time": "2019-10-24T10:35:03.050085Z",
     "start_time": "2019-10-24T10:35:03.027148Z"
    }
   },
   "outputs": [],
   "source": [
    "pop = gen_pop(10,(5,10),42)"
   ]
  },
  {
   "cell_type": "code",
   "execution_count": 872,
   "metadata": {
    "ExecuteTime": {
     "end_time": "2019-10-24T10:35:03.875535Z",
     "start_time": "2019-10-24T10:35:03.865564Z"
    }
   },
   "outputs": [
    {
     "name": "stdout",
     "output_type": "stream",
     "text": [
      "[2. 2. 2. 2. 1. 1.]\n",
      "[2. 2. 1. 3. 1. 1.]\n",
      "[1. 2. 3. 1. 1. 2.]\n",
      "[1. 2. 1. 1. 2. 3.]\n",
      "[1. 2. 2. 1. 1. 3.]\n",
      "[1. 2. 1. 1. 1. 4.]\n",
      "[1. 1. 5. 1. 1. 1.]\n",
      "[1. 2. 1. 1. 2. 3.]\n",
      "[3. 1. 2. 1. 2. 1.]\n",
      "[1. 2. 3. 2. 1. 1.]\n"
     ]
    },
    {
     "data": {
      "text/plain": [
       "[None, None, None, None, None, None, None, None, None, None]"
      ]
     },
     "execution_count": 872,
     "metadata": {},
     "output_type": "execute_result"
    }
   ],
   "source": [
    "[print(x.sum(axis=1)) for x in pop]"
   ]
  },
  {
   "cell_type": "code",
   "execution_count": 878,
   "metadata": {
    "ExecuteTime": {
     "end_time": "2019-10-24T10:50:42.567889Z",
     "start_time": "2019-10-24T10:50:42.560899Z"
    }
   },
   "outputs": [
    {
     "data": {
      "text/plain": [
       "1.0"
      ]
     },
     "execution_count": 878,
     "metadata": {},
     "output_type": "execute_result"
    }
   ],
   "source": [
    "# fitness\n",
    "\"\"\"\n",
    "3 points will affect the fitness: quality, job allocation balance and price\n",
    "- Quality: sum quality of all the tasks. Quality per task is calculated as the agent's skill in the task domain \n",
    "    weighted by the average agent's skill.\n",
    "- Allocation balance: a factor of how many tasks are allocated per agent. Too much concentration is not desired.\n",
    "    Can check for average allocation, skewness and kurtosis, range factor = 1/(max-min)\n",
    "- Price: product of the task's number of words, the agent's skill in the task's domain and price per word\n",
    "\n",
    "\"\"\"\n",
    "np.count_nonzero(mat_a.sum(axis=1))/mat_a.shape[0]\n"
   ]
  },
  {
   "cell_type": "code",
   "execution_count": 869,
   "metadata": {
    "ExecuteTime": {
     "end_time": "2019-10-24T10:34:05.836021Z",
     "start_time": "2019-10-24T10:34:05.811120Z"
    }
   },
   "outputs": [
    {
     "data": {
      "text/plain": [
       "[1.0,\n",
       " 1.0,\n",
       " 1.0,\n",
       " 1.0,\n",
       " 0.9333333333333333,\n",
       " 1.0,\n",
       " 1.0,\n",
       " 1.0,\n",
       " 1.0,\n",
       " 0.9333333333333333]"
      ]
     },
     "execution_count": 869,
     "metadata": {},
     "output_type": "execute_result"
    }
   ],
   "source": []
  },
  {
   "cell_type": "code",
   "execution_count": 784,
   "metadata": {
    "ExecuteTime": {
     "end_time": "2019-10-24T10:24:04.587549Z",
     "start_time": "2019-10-24T10:24:04.579563Z"
    }
   },
   "outputs": [
    {
     "data": {
      "text/plain": [
       "array([[1., 0., 1., 0., 0., 0., 0., 0., 0., 0.],\n",
       "       [0., 0., 0., 0., 1., 1., 0., 0., 0., 0.],\n",
       "       [0., 0., 0., 0., 0., 0., 0., 0., 0., 1.],\n",
       "       [0., 0., 0., 1., 0., 0., 1., 1., 0., 0.],\n",
       "       [0., 0., 0., 0., 0., 0., 0., 0., 1., 0.],\n",
       "       [0., 1., 0., 0., 0., 0., 0., 0., 0., 0.]])"
      ]
     },
     "execution_count": 784,
     "metadata": {},
     "output_type": "execute_result"
    }
   ],
   "source": [
    "mutate(pop[1])"
   ]
  },
  {
   "cell_type": "code",
   "execution_count": 785,
   "metadata": {
    "ExecuteTime": {
     "end_time": "2019-10-24T10:24:05.464935Z",
     "start_time": "2019-10-24T10:24:05.459949Z"
    }
   },
   "outputs": [
    {
     "data": {
      "text/plain": [
       "0.9333333333333333"
      ]
     },
     "execution_count": 785,
     "metadata": {},
     "output_type": "execute_result"
    }
   ],
   "source": [
    "(pop1 == pop[1]).mean()"
   ]
  }
 ],
 "metadata": {
  "hide_input": false,
  "kernelspec": {
   "display_name": "Py3.6_Pandas",
   "language": "python",
   "name": "pandas"
  },
  "language_info": {
   "codemirror_mode": {
    "name": "ipython",
    "version": 3
   },
   "file_extension": ".py",
   "mimetype": "text/x-python",
   "name": "python",
   "nbconvert_exporter": "python",
   "pygments_lexer": "ipython3",
   "version": "3.6.7"
  },
  "toc": {
   "base_numbering": 1,
   "nav_menu": {},
   "number_sections": true,
   "sideBar": true,
   "skip_h1_title": false,
   "title_cell": "Table of Contents",
   "title_sidebar": "Contents",
   "toc_cell": false,
   "toc_position": {},
   "toc_section_display": true,
   "toc_window_display": false
  }
 },
 "nbformat": 4,
 "nbformat_minor": 2
}
